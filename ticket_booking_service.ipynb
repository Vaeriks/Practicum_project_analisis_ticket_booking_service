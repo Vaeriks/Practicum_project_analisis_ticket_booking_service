{
 "cells": [
  {
   "cell_type": "markdown",
   "id": "5e57f8b7",
   "metadata": {},
   "source": [
    "## Исследовательский анализ данных и проверка гипотез относительно активности пользователей мобильных и стационарных устройств в сервисе Яндекс Афиша.\n",
    "\n",
    "- Автор: Борисова Анна"
   ]
  },
  {
   "cell_type": "markdown",
   "id": "98e128c6",
   "metadata": {},
   "source": [
    "## Цели и задачи проекта\n",
    "\n",
    "**Цель:** Провести исследовательский анализ данных по сегментам и изучить влияние сезонности на ключевые показатели. Провести проверку гипотез относительно активности пользователей мобильных и стационарных устройств в сервисе Яндекс Афиша. Интерпретировать результаты теста и описать возможные причины получившегося результата.\n",
    "\n",
    "**Задачи:**\n",
    "1. Загрузить данные и ознакомиться с содержимым.\n",
    "2. Провести предобработку данных.\n",
    "3. Провести исследовательский анализ данных, изучить и сравнить группы пользователей.\n",
    "4. Провести проверку гипотез\n",
    "5. Сформулировать выводы по проведенной проверке."
   ]
  },
  {
   "cell_type": "markdown",
   "id": "48333864",
   "metadata": {},
   "source": [
    "## Описание данных\n",
    "\n",
    "'orders_df.csv' - таблица с информацией обо всех заказах билетов, совершённых с двух типов устройств — мобильных и стационарных.\n",
    "\n",
    "'events_df.csv' - таблица с информацией о событиях, включая город и регион события, а также информацию о площадке проведения мероприятия.\n",
    "\n",
    "'tenge_df.csv' - таблица с информацией о курсе тенге к российскому рублю за 2024 год."
   ]
  },
  {
   "cell_type": "markdown",
   "id": "2efe48a4",
   "metadata": {},
   "source": [
    "## Содержимое проекта\n",
    "\n",
    "* [Загрузка данных и знакомство с ними](#1-bullet)\n",
    "* [Проверка ошибок в данных и их предобработка](#2-bullet)\n",
    "* [Исследовательский анализ данных](#3-bullet)\n",
    "* [Проверка гипотез](#4-bullet)\n",
    "* [Итоговые вывод](#5-bullet)"
   ]
  },
  {
   "cell_type": "markdown",
   "id": "45ea4b91",
   "metadata": {},
   "source": [
    "<a class=\"anchor\" id=\"1-bullet\"></a>\n",
    "## 1. Загрузка данных и знакомство с ними"
   ]
  },
  {
   "cell_type": "code",
   "execution_count": 5,
   "id": "180482b2",
   "metadata": {},
   "outputs": [],
   "source": [
    "# Импортируем библиотеки \n",
    "import pandas as pd\n",
    "import matplotlib.pyplot as plt\n",
    "import numpy as np\n",
    "import seaborn as sns\n",
    "\n",
    "\n",
    "from datetime import timedelta\n",
    "from scipy.stats import ttest_ind\n",
    "from scipy import stats\n"
   ]
  },
  {
   "cell_type": "code",
   "execution_count": null,
   "id": "6197b775",
   "metadata": {},
   "outputs": [],
   "source": [
    "# Выгружаем данные в переменные\n",
    "PATH = \"https://.../datasets/\"\n",
    "try:\n",
    "    final_tickets_orders_df = pd.read_csv('orders_df.csv')\n",
    "    final_tickets_events_df = pd.read_csv('events_df.csv')\n",
    "    final_tickets_tenge_df = pd.read_csv('tenge_df.csv')\n",
    "except:\n",
    "    final_tickets_orders_df = pd.read_csv(PATH + 'orders_df.csv')\n",
    "    final_tickets_events_df = pd.read_csv(PATH + 'events_df.csv')\n",
    "    final_tickets_tenge_df = pd.read_csv(PATH + 'tenge_df.csv')"
   ]
  },
  {
   "cell_type": "markdown",
   "id": "1760e57a",
   "metadata": {},
   "source": [
    "Ознакомимся с данными датасета `orders_df.csv`:"
   ]
  },
  {
   "cell_type": "code",
   "execution_count": null,
   "id": "90fe9f52",
   "metadata": {},
   "outputs": [
    {
     "data": {
      "text/html": [
       "<div>\n",
       "<style scoped>\n",
       "    .dataframe tbody tr th:only-of-type {\n",
       "        vertical-align: middle;\n",
       "    }\n",
       "\n",
       "    .dataframe tbody tr th {\n",
       "        vertical-align: top;\n",
       "    }\n",
       "\n",
       "    .dataframe thead th {\n",
       "        text-align: right;\n",
       "    }\n",
       "</style>\n",
       "<table border=\"1\" class=\"dataframe\">\n",
       "  <thead>\n",
       "    <tr style=\"text-align: right;\">\n",
       "      <th></th>\n",
       "      <th>order_id</th>\n",
       "      <th>user_id</th>\n",
       "      <th>created_dt_msk</th>\n",
       "      <th>created_ts_msk</th>\n",
       "      <th>event_id</th>\n",
       "      <th>cinema_circuit</th>\n",
       "      <th>age_limit</th>\n",
       "      <th>currency_code</th>\n",
       "      <th>device_type_canonical</th>\n",
       "      <th>revenue</th>\n",
       "      <th>service_name</th>\n",
       "      <th>tickets_count</th>\n",
       "      <th>total</th>\n",
       "      <th>days_since_prev</th>\n",
       "    </tr>\n",
       "  </thead>\n",
       "  <tbody>\n",
       "    <tr>\n",
       "      <th>0</th>\n",
       "      <td>4359165</td>\n",
       "      <td>0002849b70a3ce2</td>\n",
       "      <td>2024-08-20</td>\n",
       "      <td>2024-08-20 16:08:03</td>\n",
       "      <td>169230</td>\n",
       "      <td>нет</td>\n",
       "      <td>16</td>\n",
       "      <td>rub</td>\n",
       "      <td>mobile</td>\n",
       "      <td>1521.94</td>\n",
       "      <td>Край билетов</td>\n",
       "      <td>4</td>\n",
       "      <td>10870.99</td>\n",
       "      <td>NaN</td>\n",
       "    </tr>\n",
       "    <tr>\n",
       "      <th>1</th>\n",
       "      <td>7965605</td>\n",
       "      <td>0005ca5e93f2cf4</td>\n",
       "      <td>2024-07-23</td>\n",
       "      <td>2024-07-23 18:36:24</td>\n",
       "      <td>237325</td>\n",
       "      <td>нет</td>\n",
       "      <td>0</td>\n",
       "      <td>rub</td>\n",
       "      <td>mobile</td>\n",
       "      <td>289.45</td>\n",
       "      <td>Мой билет</td>\n",
       "      <td>2</td>\n",
       "      <td>2067.51</td>\n",
       "      <td>NaN</td>\n",
       "    </tr>\n",
       "    <tr>\n",
       "      <th>2</th>\n",
       "      <td>7292370</td>\n",
       "      <td>0005ca5e93f2cf4</td>\n",
       "      <td>2024-10-06</td>\n",
       "      <td>2024-10-06 13:56:02</td>\n",
       "      <td>578454</td>\n",
       "      <td>нет</td>\n",
       "      <td>0</td>\n",
       "      <td>rub</td>\n",
       "      <td>mobile</td>\n",
       "      <td>1258.57</td>\n",
       "      <td>За билетом!</td>\n",
       "      <td>4</td>\n",
       "      <td>13984.16</td>\n",
       "      <td>75.0</td>\n",
       "    </tr>\n",
       "    <tr>\n",
       "      <th>3</th>\n",
       "      <td>1139875</td>\n",
       "      <td>000898990054619</td>\n",
       "      <td>2024-07-13</td>\n",
       "      <td>2024-07-13 19:40:48</td>\n",
       "      <td>387271</td>\n",
       "      <td>нет</td>\n",
       "      <td>0</td>\n",
       "      <td>rub</td>\n",
       "      <td>mobile</td>\n",
       "      <td>8.49</td>\n",
       "      <td>Лови билет!</td>\n",
       "      <td>2</td>\n",
       "      <td>212.28</td>\n",
       "      <td>NaN</td>\n",
       "    </tr>\n",
       "    <tr>\n",
       "      <th>4</th>\n",
       "      <td>972400</td>\n",
       "      <td>000898990054619</td>\n",
       "      <td>2024-10-04</td>\n",
       "      <td>2024-10-04 22:33:15</td>\n",
       "      <td>509453</td>\n",
       "      <td>нет</td>\n",
       "      <td>18</td>\n",
       "      <td>rub</td>\n",
       "      <td>mobile</td>\n",
       "      <td>1390.41</td>\n",
       "      <td>Билеты без проблем</td>\n",
       "      <td>3</td>\n",
       "      <td>10695.43</td>\n",
       "      <td>83.0</td>\n",
       "    </tr>\n",
       "  </tbody>\n",
       "</table>\n",
       "</div>"
      ],
      "text/plain": [
       "   order_id          user_id created_dt_msk       created_ts_msk  event_id  \\\n",
       "0   4359165  0002849b70a3ce2     2024-08-20  2024-08-20 16:08:03    169230   \n",
       "1   7965605  0005ca5e93f2cf4     2024-07-23  2024-07-23 18:36:24    237325   \n",
       "2   7292370  0005ca5e93f2cf4     2024-10-06  2024-10-06 13:56:02    578454   \n",
       "3   1139875  000898990054619     2024-07-13  2024-07-13 19:40:48    387271   \n",
       "4    972400  000898990054619     2024-10-04  2024-10-04 22:33:15    509453   \n",
       "\n",
       "  cinema_circuit  age_limit currency_code device_type_canonical  revenue  \\\n",
       "0            нет         16           rub                mobile  1521.94   \n",
       "1            нет          0           rub                mobile   289.45   \n",
       "2            нет          0           rub                mobile  1258.57   \n",
       "3            нет          0           rub                mobile     8.49   \n",
       "4            нет         18           rub                mobile  1390.41   \n",
       "\n",
       "         service_name  tickets_count     total  days_since_prev  \n",
       "0        Край билетов              4  10870.99              NaN  \n",
       "1           Мой билет              2   2067.51              NaN  \n",
       "2         За билетом!              4  13984.16             75.0  \n",
       "3         Лови билет!              2    212.28              NaN  \n",
       "4  Билеты без проблем              3  10695.43             83.0  "
      ]
     },
     "execution_count": 7,
     "metadata": {},
     "output_type": "execute_result"
    }
   ],
   "source": [
    "# Выводим на экран первые пять строк датафрейма\n",
    "orders_df.head()"
   ]
  },
  {
   "cell_type": "code",
   "execution_count": null,
   "id": "b014d9fc",
   "metadata": {},
   "outputs": [
    {
     "name": "stdout",
     "output_type": "stream",
     "text": [
      "<class 'pandas.core.frame.DataFrame'>\n",
      "RangeIndex: 290849 entries, 0 to 290848\n",
      "Data columns (total 14 columns):\n",
      " #   Column                 Non-Null Count   Dtype  \n",
      "---  ------                 --------------   -----  \n",
      " 0   order_id               290849 non-null  int64  \n",
      " 1   user_id                290849 non-null  object \n",
      " 2   created_dt_msk         290849 non-null  object \n",
      " 3   created_ts_msk         290849 non-null  object \n",
      " 4   event_id               290849 non-null  int64  \n",
      " 5   cinema_circuit         290849 non-null  object \n",
      " 6   age_limit              290849 non-null  int64  \n",
      " 7   currency_code          290849 non-null  object \n",
      " 8   device_type_canonical  290849 non-null  object \n",
      " 9   revenue                290849 non-null  float64\n",
      " 10  service_name           290849 non-null  object \n",
      " 11  tickets_count          290849 non-null  int64  \n",
      " 12  total                  290849 non-null  float64\n",
      " 13  days_since_prev        268909 non-null  float64\n",
      "dtypes: float64(3), int64(4), object(7)\n",
      "memory usage: 31.1+ MB\n"
     ]
    }
   ],
   "source": [
    "# Выводим информацию о датафрейме \n",
    "orders_df.info()"
   ]
  },
  {
   "cell_type": "markdown",
   "id": "8c2e74fe",
   "metadata": {},
   "source": [
    "Датафрейм `orders_df` содержит 14 столбцов и 290849 строк.\n",
    "После первичного анализа данных можно сделать следующие выводы:\n",
    "\n",
    "- Названия столбцов заданы корректно.\n",
    "- Судя по первому знакомству с данными, значения в стобцах соответствуют своему описанию.\n",
    "- Только в столбце `days_since_prev` имеются пропуски. Это столбец содержит информацию о количестве дней с предыдущей покупки для каждого пользователя. Если покупки не было, то данные содержат пропуск. Так что пропуски в этом столбце ожидаемы.\n",
    "- Семь столбцов имеют тип данных `object`.  Столбцы `created_dt_msk` и `created_ts_msk` содержат информацию о дате и времени создания заказа, поэтому тип `object` не подходит, его следует заменить на `datetime64`.\n",
    "- Четыре столбца имеют тип данных `int64`, такой тип данных подходит.\n",
    "- Три столбца имеют тип данных `float64`, такой тип данных подходит."
   ]
  },
  {
   "cell_type": "markdown",
   "id": "772d5f20",
   "metadata": {},
   "source": [
    "Ознакомимся с данными датасета `events_df.csv`:"
   ]
  },
  {
   "cell_type": "code",
   "execution_count": null,
   "id": "a0d6b7de",
   "metadata": {},
   "outputs": [
    {
     "data": {
      "text/html": [
       "<div>\n",
       "<style scoped>\n",
       "    .dataframe tbody tr th:only-of-type {\n",
       "        vertical-align: middle;\n",
       "    }\n",
       "\n",
       "    .dataframe tbody tr th {\n",
       "        vertical-align: top;\n",
       "    }\n",
       "\n",
       "    .dataframe thead th {\n",
       "        text-align: right;\n",
       "    }\n",
       "</style>\n",
       "<table border=\"1\" class=\"dataframe\">\n",
       "  <thead>\n",
       "    <tr style=\"text-align: right;\">\n",
       "      <th></th>\n",
       "      <th>event_id</th>\n",
       "      <th>event_name</th>\n",
       "      <th>event_type_description</th>\n",
       "      <th>event_type_main</th>\n",
       "      <th>organizers</th>\n",
       "      <th>region_name</th>\n",
       "      <th>city_name</th>\n",
       "      <th>city_id</th>\n",
       "      <th>venue_id</th>\n",
       "      <th>venue_name</th>\n",
       "      <th>venue_address</th>\n",
       "    </tr>\n",
       "  </thead>\n",
       "  <tbody>\n",
       "    <tr>\n",
       "      <th>0</th>\n",
       "      <td>4436</td>\n",
       "      <td>e4f26fba-da77-4c61-928a-6c3e434d793f</td>\n",
       "      <td>спектакль</td>\n",
       "      <td>театр</td>\n",
       "      <td>№4893</td>\n",
       "      <td>Североярская область</td>\n",
       "      <td>Озёрск</td>\n",
       "      <td>2</td>\n",
       "      <td>1600</td>\n",
       "      <td>Кладбище искусств \"Проблема\" и партнеры</td>\n",
       "      <td>наб. Загородная, д. 785</td>\n",
       "    </tr>\n",
       "    <tr>\n",
       "      <th>1</th>\n",
       "      <td>5785</td>\n",
       "      <td>5cc08a60-fdea-4186-9bb2-bffc3603fb77</td>\n",
       "      <td>спектакль</td>\n",
       "      <td>театр</td>\n",
       "      <td>№1931</td>\n",
       "      <td>Светополянский округ</td>\n",
       "      <td>Глиноград</td>\n",
       "      <td>54</td>\n",
       "      <td>2196</td>\n",
       "      <td>Лекции по искусству \"Свет\" Групп</td>\n",
       "      <td>ул. Ягодная, д. 942</td>\n",
       "    </tr>\n",
       "    <tr>\n",
       "      <th>2</th>\n",
       "      <td>8817</td>\n",
       "      <td>8e379a89-3a10-4811-ba06-ec22ebebe989</td>\n",
       "      <td>спектакль</td>\n",
       "      <td>театр</td>\n",
       "      <td>№4896</td>\n",
       "      <td>Североярская область</td>\n",
       "      <td>Озёрск</td>\n",
       "      <td>2</td>\n",
       "      <td>4043</td>\n",
       "      <td>Кинокомитет \"Золотая\" Инк</td>\n",
       "      <td>ш. Коммуны, д. 92 стр. 6</td>\n",
       "    </tr>\n",
       "    <tr>\n",
       "      <th>3</th>\n",
       "      <td>8849</td>\n",
       "      <td>682e3129-6a32-4952-9d8a-ef7f60d4c247</td>\n",
       "      <td>спектакль</td>\n",
       "      <td>театр</td>\n",
       "      <td>№4960</td>\n",
       "      <td>Каменевский регион</td>\n",
       "      <td>Глиногорск</td>\n",
       "      <td>213</td>\n",
       "      <td>1987</td>\n",
       "      <td>Выставка ремесел \"Свет\" Лтд</td>\n",
       "      <td>пер. Набережный, д. 35</td>\n",
       "    </tr>\n",
       "    <tr>\n",
       "      <th>4</th>\n",
       "      <td>8850</td>\n",
       "      <td>d6e99176-c77f-4af0-9222-07c571f6c624</td>\n",
       "      <td>спектакль</td>\n",
       "      <td>театр</td>\n",
       "      <td>№4770</td>\n",
       "      <td>Лесодальний край</td>\n",
       "      <td>Родниковец</td>\n",
       "      <td>55</td>\n",
       "      <td>4230</td>\n",
       "      <td>Фестивальный проект \"Листья\" Групп</td>\n",
       "      <td>пер. Проезжий, д. 9</td>\n",
       "    </tr>\n",
       "  </tbody>\n",
       "</table>\n",
       "</div>"
      ],
      "text/plain": [
       "   event_id                            event_name event_type_description  \\\n",
       "0      4436  e4f26fba-da77-4c61-928a-6c3e434d793f              спектакль   \n",
       "1      5785  5cc08a60-fdea-4186-9bb2-bffc3603fb77              спектакль   \n",
       "2      8817  8e379a89-3a10-4811-ba06-ec22ebebe989              спектакль   \n",
       "3      8849  682e3129-6a32-4952-9d8a-ef7f60d4c247              спектакль   \n",
       "4      8850  d6e99176-c77f-4af0-9222-07c571f6c624              спектакль   \n",
       "\n",
       "  event_type_main organizers           region_name   city_name  city_id  \\\n",
       "0           театр      №4893  Североярская область      Озёрск        2   \n",
       "1           театр      №1931  Светополянский округ   Глиноград       54   \n",
       "2           театр      №4896  Североярская область      Озёрск        2   \n",
       "3           театр      №4960    Каменевский регион  Глиногорск      213   \n",
       "4           театр      №4770      Лесодальний край  Родниковец       55   \n",
       "\n",
       "   venue_id                               venue_name             venue_address  \n",
       "0      1600  Кладбище искусств \"Проблема\" и партнеры   наб. Загородная, д. 785  \n",
       "1      2196         Лекции по искусству \"Свет\" Групп       ул. Ягодная, д. 942  \n",
       "2      4043                Кинокомитет \"Золотая\" Инк  ш. Коммуны, д. 92 стр. 6  \n",
       "3      1987              Выставка ремесел \"Свет\" Лтд    пер. Набережный, д. 35  \n",
       "4      4230       Фестивальный проект \"Листья\" Групп       пер. Проезжий, д. 9  "
      ]
     },
     "execution_count": 9,
     "metadata": {},
     "output_type": "execute_result"
    }
   ],
   "source": [
    "# Выводим на экран первые пять строк датафрейма\n",
    "events_df.head()"
   ]
  },
  {
   "cell_type": "code",
   "execution_count": null,
   "id": "9b49adbb",
   "metadata": {},
   "outputs": [
    {
     "name": "stdout",
     "output_type": "stream",
     "text": [
      "<class 'pandas.core.frame.DataFrame'>\n",
      "RangeIndex: 22427 entries, 0 to 22426\n",
      "Data columns (total 11 columns):\n",
      " #   Column                  Non-Null Count  Dtype \n",
      "---  ------                  --------------  ----- \n",
      " 0   event_id                22427 non-null  int64 \n",
      " 1   event_name              22427 non-null  object\n",
      " 2   event_type_description  22427 non-null  object\n",
      " 3   event_type_main         22427 non-null  object\n",
      " 4   organizers              22427 non-null  object\n",
      " 5   region_name             22427 non-null  object\n",
      " 6   city_name               22427 non-null  object\n",
      " 7   city_id                 22427 non-null  int64 \n",
      " 8   venue_id                22427 non-null  int64 \n",
      " 9   venue_name              22427 non-null  object\n",
      " 10  venue_address           22427 non-null  object\n",
      "dtypes: int64(3), object(8)\n",
      "memory usage: 1.9+ MB\n"
     ]
    }
   ],
   "source": [
    "# Выводим информацию о датафрейме \n",
    "events_df.info()"
   ]
  },
  {
   "cell_type": "markdown",
   "id": "c9a1f202",
   "metadata": {},
   "source": [
    "Датафрейм `events_df` содержит 11 столбцов и 22427 строк.\n",
    "После первичного анализа данных можно сделать следующие выводы:\n",
    "\n",
    "- Названия столбцов заданы корректно.\n",
    "- Судя по первому знакомству с данными, значения в стобцах соответствуют своему описанию.\n",
    "- В столбцах отсутсвуют пропуски.\n",
    "- Восемь столбцов имеют тип данных `object`. В столбце `event_type_main` можно заменить тип данных на `category`.\n",
    "- Три столбца имеют тип данных `int64`, такой тип данных подходит."
   ]
  },
  {
   "cell_type": "markdown",
   "id": "ed893783",
   "metadata": {},
   "source": [
    "Ознакомимся с данными датасета `tenge_df.csv`:"
   ]
  },
  {
   "cell_type": "code",
   "execution_count": null,
   "id": "fc98cfe1",
   "metadata": {},
   "outputs": [
    {
     "data": {
      "text/html": [
       "<div>\n",
       "<style scoped>\n",
       "    .dataframe tbody tr th:only-of-type {\n",
       "        vertical-align: middle;\n",
       "    }\n",
       "\n",
       "    .dataframe tbody tr th {\n",
       "        vertical-align: top;\n",
       "    }\n",
       "\n",
       "    .dataframe thead th {\n",
       "        text-align: right;\n",
       "    }\n",
       "</style>\n",
       "<table border=\"1\" class=\"dataframe\">\n",
       "  <thead>\n",
       "    <tr style=\"text-align: right;\">\n",
       "      <th></th>\n",
       "      <th>data</th>\n",
       "      <th>nominal</th>\n",
       "      <th>curs</th>\n",
       "      <th>cdx</th>\n",
       "    </tr>\n",
       "  </thead>\n",
       "  <tbody>\n",
       "    <tr>\n",
       "      <th>0</th>\n",
       "      <td>2024-01-10</td>\n",
       "      <td>100</td>\n",
       "      <td>19.9391</td>\n",
       "      <td>kzt</td>\n",
       "    </tr>\n",
       "    <tr>\n",
       "      <th>1</th>\n",
       "      <td>2024-01-11</td>\n",
       "      <td>100</td>\n",
       "      <td>19.7255</td>\n",
       "      <td>kzt</td>\n",
       "    </tr>\n",
       "    <tr>\n",
       "      <th>2</th>\n",
       "      <td>2024-01-12</td>\n",
       "      <td>100</td>\n",
       "      <td>19.5839</td>\n",
       "      <td>kzt</td>\n",
       "    </tr>\n",
       "    <tr>\n",
       "      <th>3</th>\n",
       "      <td>2024-01-13</td>\n",
       "      <td>100</td>\n",
       "      <td>19.4501</td>\n",
       "      <td>kzt</td>\n",
       "    </tr>\n",
       "    <tr>\n",
       "      <th>4</th>\n",
       "      <td>2024-01-14</td>\n",
       "      <td>100</td>\n",
       "      <td>19.4501</td>\n",
       "      <td>kzt</td>\n",
       "    </tr>\n",
       "  </tbody>\n",
       "</table>\n",
       "</div>"
      ],
      "text/plain": [
       "         data  nominal     curs  cdx\n",
       "0  2024-01-10      100  19.9391  kzt\n",
       "1  2024-01-11      100  19.7255  kzt\n",
       "2  2024-01-12      100  19.5839  kzt\n",
       "3  2024-01-13      100  19.4501  kzt\n",
       "4  2024-01-14      100  19.4501  kzt"
      ]
     },
     "execution_count": 11,
     "metadata": {},
     "output_type": "execute_result"
    }
   ],
   "source": [
    "# Выводим на экран первые пять строк датафрейма\n",
    "tenge_df.head()"
   ]
  },
  {
   "cell_type": "code",
   "execution_count": null,
   "id": "d695fffc",
   "metadata": {},
   "outputs": [
    {
     "name": "stdout",
     "output_type": "stream",
     "text": [
      "<class 'pandas.core.frame.DataFrame'>\n",
      "RangeIndex: 357 entries, 0 to 356\n",
      "Data columns (total 4 columns):\n",
      " #   Column   Non-Null Count  Dtype  \n",
      "---  ------   --------------  -----  \n",
      " 0   data     357 non-null    object \n",
      " 1   nominal  357 non-null    int64  \n",
      " 2   curs     357 non-null    float64\n",
      " 3   cdx      357 non-null    object \n",
      "dtypes: float64(1), int64(1), object(2)\n",
      "memory usage: 11.3+ KB\n"
     ]
    }
   ],
   "source": [
    "# Выводим информацию о датафрейме \n",
    "tenge_df.info()"
   ]
  },
  {
   "cell_type": "markdown",
   "id": "6fdc3065",
   "metadata": {},
   "source": [
    "Датафрейм `tenge_df` содержит 4 столбца и 357 строк.\n",
    "После первичного анализа данных можно сделать следующие выводы:\n",
    "\n",
    "- Названия столбцов заданы корректно.\n",
    "- Судя по первому знакомству с данными, значения в стобцах соответствуют своему описанию.\n",
    "- В столбцах отсутсвуют пропуски.\n",
    "- Два столбца имеют тип данных `object`. В столбце `data` содержится информацию о дате заказа, поэтому тип `object` не подходит, его следует заменить на `datetime64`.\n",
    "- Один столбец имеет тип данных `int64`, такой тип данных подходит.\n",
    "- Один столбец имеет тип данных `float64`, такой тип данных подходит."
   ]
  },
  {
   "cell_type": "markdown",
   "id": "dbe51be5",
   "metadata": {},
   "source": [
    "Первичное знакомство с данными показывает, что большая часть столбцов не содержит пропуски, пропуски есть только в одном столбце, где они ожидаемы. В четырех столбцах необходимо преобразовать тип данных на подходящий. Данные в датасетах соответсвуют описанию и выглядят корректными."
   ]
  },
  {
   "cell_type": "markdown",
   "id": "972a1a2b",
   "metadata": {},
   "source": [
    "<a class=\"anchor\" id=\"2-bullet\"></a>\n",
    "## 2. Проверка ошибок в данных и их предобработка"
   ]
  },
  {
   "cell_type": "code",
   "execution_count": null,
   "id": "998310f7",
   "metadata": {},
   "outputs": [],
   "source": [
    "# Соединяем данные из двух датафреймов в единый датафрейм orders_events_df\n",
    "orders_events_df = orders_df.merge(events_df, on = 'event_id', how = 'left')"
   ]
  },
  {
   "cell_type": "code",
   "execution_count": 14,
   "id": "ecff61d7",
   "metadata": {},
   "outputs": [
    {
     "name": "stdout",
     "output_type": "stream",
     "text": [
      "<class 'pandas.core.frame.DataFrame'>\n",
      "RangeIndex: 290849 entries, 0 to 290848\n",
      "Data columns (total 24 columns):\n",
      " #   Column                  Non-Null Count   Dtype  \n",
      "---  ------                  --------------   -----  \n",
      " 0   order_id                290849 non-null  int64  \n",
      " 1   user_id                 290849 non-null  object \n",
      " 2   created_dt_msk          290849 non-null  object \n",
      " 3   created_ts_msk          290849 non-null  object \n",
      " 4   event_id                290849 non-null  int64  \n",
      " 5   cinema_circuit          290849 non-null  object \n",
      " 6   age_limit               290849 non-null  int64  \n",
      " 7   currency_code           290849 non-null  object \n",
      " 8   device_type_canonical   290849 non-null  object \n",
      " 9   revenue                 290849 non-null  float64\n",
      " 10  service_name            290849 non-null  object \n",
      " 11  tickets_count           290849 non-null  int64  \n",
      " 12  total                   290849 non-null  float64\n",
      " 13  days_since_prev         268909 non-null  float64\n",
      " 14  event_name              290611 non-null  object \n",
      " 15  event_type_description  290611 non-null  object \n",
      " 16  event_type_main         290611 non-null  object \n",
      " 17  organizers              290611 non-null  object \n",
      " 18  region_name             290611 non-null  object \n",
      " 19  city_name               290611 non-null  object \n",
      " 20  city_id                 290611 non-null  float64\n",
      " 21  venue_id                290611 non-null  float64\n",
      " 22  venue_name              290611 non-null  object \n",
      " 23  venue_address           290611 non-null  object \n",
      "dtypes: float64(5), int64(4), object(15)\n",
      "memory usage: 53.3+ MB\n"
     ]
    }
   ],
   "source": [
    "# Проверим получившийся датафрейм\n",
    "orders_events_df.info()"
   ]
  },
  {
   "cell_type": "code",
   "execution_count": 15,
   "id": "dbdcd22f",
   "metadata": {},
   "outputs": [],
   "source": [
    "# Заменим тип данных с `object` на `datetime64`\n",
    "orders_events_df['created_dt_msk'] = pd.to_datetime(orders_events_df['created_dt_msk'])\n",
    "orders_events_df['created_ts_msk'] = pd.to_datetime(orders_events_df['created_ts_msk'])\n",
    "final_tickets_tenge_df['data'] = pd.to_datetime(final_tickets_tenge_df['data'])"
   ]
  },
  {
   "cell_type": "code",
   "execution_count": 16,
   "id": "c001af3e",
   "metadata": {},
   "outputs": [],
   "source": [
    "# Заменим тип данных с `object` на `category`\n",
    "orders_events_df['event_type_main'] = orders_events_df['event_type_main'].astype('category')\n"
   ]
  },
  {
   "cell_type": "code",
   "execution_count": 17,
   "id": "60b5a661",
   "metadata": {},
   "outputs": [],
   "source": [
    "# Оптимизируем целочисленный тип данных\n",
    "for column in ['order_id','event_id','age_limit', 'tickets_count', 'city_id', 'venue_id']:\n",
    "    orders_events_df[column] = pd.to_numeric(orders_events_df[column], downcast = 'integer')"
   ]
  },
  {
   "cell_type": "code",
   "execution_count": 18,
   "id": "f6a97d17",
   "metadata": {},
   "outputs": [],
   "source": [
    "# Оптимизируем вещественный тип данных\n",
    "for column in ['revenue','total','days_since_prev']:\n",
    "    orders_events_df[column] = pd.to_numeric(orders_events_df[column], downcast = 'float')"
   ]
  },
  {
   "cell_type": "code",
   "execution_count": 19,
   "id": "464aad44",
   "metadata": {},
   "outputs": [
    {
     "name": "stdout",
     "output_type": "stream",
     "text": [
      "<class 'pandas.core.frame.DataFrame'>\n",
      "RangeIndex: 290849 entries, 0 to 290848\n",
      "Data columns (total 24 columns):\n",
      " #   Column                  Non-Null Count   Dtype         \n",
      "---  ------                  --------------   -----         \n",
      " 0   order_id                290849 non-null  int32         \n",
      " 1   user_id                 290849 non-null  object        \n",
      " 2   created_dt_msk          290849 non-null  datetime64[ns]\n",
      " 3   created_ts_msk          290849 non-null  datetime64[ns]\n",
      " 4   event_id                290849 non-null  int32         \n",
      " 5   cinema_circuit          290849 non-null  object        \n",
      " 6   age_limit               290849 non-null  int8          \n",
      " 7   currency_code           290849 non-null  object        \n",
      " 8   device_type_canonical   290849 non-null  object        \n",
      " 9   revenue                 290849 non-null  float64       \n",
      " 10  service_name            290849 non-null  object        \n",
      " 11  tickets_count           290849 non-null  int8          \n",
      " 12  total                   290849 non-null  float64       \n",
      " 13  days_since_prev         268909 non-null  float32       \n",
      " 14  event_name              290611 non-null  object        \n",
      " 15  event_type_description  290611 non-null  object        \n",
      " 16  event_type_main         290611 non-null  category      \n",
      " 17  organizers              290611 non-null  object        \n",
      " 18  region_name             290611 non-null  object        \n",
      " 19  city_name               290611 non-null  object        \n",
      " 20  city_id                 290611 non-null  float64       \n",
      " 21  venue_id                290611 non-null  float64       \n",
      " 22  venue_name              290611 non-null  object        \n",
      " 23  venue_address           290611 non-null  object        \n",
      "dtypes: category(1), datetime64[ns](2), float32(1), float64(4), int32(2), int8(2), object(12)\n",
      "memory usage: 44.1+ MB\n"
     ]
    }
   ],
   "source": [
    "# Проверим типы данных\n",
    "orders_events_df.info()"
   ]
  },
  {
   "cell_type": "code",
   "execution_count": 20,
   "id": "2486b775",
   "metadata": {},
   "outputs": [
    {
     "data": {
      "text/plain": [
       "np.int64(0)"
      ]
     },
     "execution_count": 20,
     "metadata": {},
     "output_type": "execute_result"
    }
   ],
   "source": [
    "# Проверяем на явные дубликаты\n",
    "orders_events_df.duplicated().sum()"
   ]
  },
  {
   "cell_type": "code",
   "execution_count": 21,
   "id": "c685e848",
   "metadata": {},
   "outputs": [
    {
     "data": {
      "text/plain": [
       "np.int64(30)"
      ]
     },
     "execution_count": 21,
     "metadata": {},
     "output_type": "execute_result"
    }
   ],
   "source": [
    "# Проверяем на неявные дубликаты\n",
    "orders_events_df.duplicated(subset = ['user_id', 'created_dt_msk', 'revenue', 'device_type_canonical', 'created_ts_msk', \n",
    "                                      'event_id', 'cinema_circuit', 'age_limit', 'currency_code', 'service_name', 'tickets_count', 'total', 'days_since_prev']).sum()"
   ]
  },
  {
   "cell_type": "code",
   "execution_count": 22,
   "id": "9801b610",
   "metadata": {},
   "outputs": [],
   "source": [
    "# Удалим строки с неявными дубликатами\n",
    "orders_events_df = orders_events_df.drop_duplicates(subset = ['user_id', 'created_ts_msk', 'revenue', 'device_type_canonical', 'created_ts_msk', \n",
    "                                      'event_id', 'cinema_circuit', 'age_limit', 'currency_code', 'service_name', 'tickets_count', 'total', 'days_since_prev'])"
   ]
  },
  {
   "cell_type": "code",
   "execution_count": 23,
   "id": "bcf32873",
   "metadata": {},
   "outputs": [
    {
     "data": {
      "text/plain": [
       "290819"
      ]
     },
     "execution_count": 23,
     "metadata": {},
     "output_type": "execute_result"
    }
   ],
   "source": [
    "# Убедимся, что удалили дубликаты\n",
    "len(orders_events_df)"
   ]
  },
  {
   "cell_type": "markdown",
   "id": "de1d44d4",
   "metadata": {},
   "source": [
    "Проверим распределение данных в столбцах с важными показателями. Данные представлены в разных валютах, поэтому отфильтруем данные и посмотрим распределение в рублях и тенге отдельно"
   ]
  },
  {
   "cell_type": "code",
   "execution_count": 24,
   "id": "4fd28fea",
   "metadata": {},
   "outputs": [
    {
     "data": {
      "text/plain": [
       "285750"
      ]
     },
     "execution_count": 24,
     "metadata": {},
     "output_type": "execute_result"
    }
   ],
   "source": [
    "# Фильтруем данные в рублях\n",
    "rub_df = orders_events_df[(orders_events_df['currency_code'] == 'rub')]\n",
    "# Проверим размер получившегося датасета\n",
    "len(rub_df)"
   ]
  },
  {
   "cell_type": "code",
   "execution_count": 25,
   "id": "4f2afc20",
   "metadata": {},
   "outputs": [
    {
     "data": {
      "text/plain": [
       "count    285750.000000\n",
       "mean        547.590617\n",
       "std         871.556472\n",
       "min         -90.760000\n",
       "25%         113.862500\n",
       "50%         346.180000\n",
       "75%         791.700000\n",
       "max       81174.540000\n",
       "Name: revenue, dtype: float64"
      ]
     },
     "execution_count": 25,
     "metadata": {},
     "output_type": "execute_result"
    }
   ],
   "source": [
    "# Изучим статистические данные\n",
    "rub_df['revenue'].describe()"
   ]
  },
  {
   "cell_type": "code",
   "execution_count": 26,
   "id": "a509d1dc",
   "metadata": {},
   "outputs": [
    {
     "data": {
      "image/png": "[encoded data removed]",
      "text/plain": [
       "<Figure size 1200x400 with 1 Axes>"
      ]
     },
     "metadata": {},
     "output_type": "display_data"
    }
   ],
   "source": [
    "plt.figure(figsize=(12, 4))\n",
    "sns.histplot(rub_df['revenue'], bins=30, kde=True)\n",
    "plt.title('Распределение выручки')\n",
    "plt.xlabel('Выручка')\n",
    "plt.ylabel('Количество заказов')\n",
    "plt.grid(alpha=0.4)\n",
    "plt.show()"
   ]
  },
  {
   "cell_type": "code",
   "execution_count": 27,
   "id": "c156dfcc",
   "metadata": {},
   "outputs": [
    {
     "data": {
      "image/png": "[encoded data removed]",
      "text/plain": [
       "<Figure size 1200x400 with 1 Axes>"
      ]
     },
     "metadata": {},
     "output_type": "display_data"
    }
   ],
   "source": [
    "# Строим диаграмму размаха \n",
    "plt.figure(figsize = (12, 4))\n",
    "rub_df.boxplot(column='revenue', vert = False, flierprops=dict(markerfacecolor='r', marker='o'))\n",
    "\n",
    "# Добавляем заголовок и метки оси\n",
    "plt.title('Распределение выручки')\n",
    "plt.xlabel('Выручка')\n",
    "plt.grid(alpha = 0.5)\n",
    "\n",
    "# Выводим график\n",
    "plt.show()"
   ]
  },
  {
   "cell_type": "markdown",
   "id": "c5327890",
   "metadata": {},
   "source": [
    "В столбце `revenue` содержатся данные о выручке сервиса. Этот столбец хранит данные которые являются одним из главных показателей эффективности продукта. Данные с большим перепадом значений, есть отрицательные значения, очевидно, это возвраты средств. Так же в данных есть выделяющиеся высокие значения. Распределение выручки ассиметричное, скошено вправо.\n",
    "Медианной данных является 346р, а средним значением 548р. Среднее и медианное значения отличаются друг от друга, в данных есть выбросы, а максимальное значение может являться аномальным значением. Построим диаграмму размаха, на которой сможем посмотреть распределение данных без выбросов."
   ]
  },
  {
   "cell_type": "code",
   "execution_count": 28,
   "id": "ce3c15c7",
   "metadata": {},
   "outputs": [
    {
     "data": {
      "image/png": "[encoded data removed]",
      "text/plain": [
       "<Figure size 1200x400 with 1 Axes>"
      ]
     },
     "metadata": {},
     "output_type": "display_data"
    }
   ],
   "source": [
    "# Строим диаграмму размаха \n",
    "plt.figure(figsize = (12, 4))\n",
    "rub_df.boxplot(column='revenue', vert = False, showfliers=False)\n",
    "\n",
    "# Добавляем заголовок и метки оси\n",
    "plt.title('Распределение выручки')\n",
    "plt.xlabel('Выручка')\n",
    "plt.grid(alpha = 0.5)\n",
    "\n",
    "# Выводим график\n",
    "plt.show()"
   ]
  },
  {
   "cell_type": "markdown",
   "id": "45d34d78",
   "metadata": {},
   "source": [
    "Еще одним важным показателем является количество билетов в заказе. Проверим распределение данных в стобце `tickets_count`"
   ]
  },
  {
   "cell_type": "code",
   "execution_count": 29,
   "id": "f366da3a",
   "metadata": {},
   "outputs": [
    {
     "data": {
      "text/plain": [
       "count    285750.000000\n",
       "mean          2.754103\n",
       "std           1.171413\n",
       "min           1.000000\n",
       "25%           2.000000\n",
       "50%           3.000000\n",
       "75%           4.000000\n",
       "max          57.000000\n",
       "Name: tickets_count, dtype: float64"
      ]
     },
     "execution_count": 29,
     "metadata": {},
     "output_type": "execute_result"
    }
   ],
   "source": [
    "# Изучим статистические данные\n",
    "rub_df['tickets_count'].describe()"
   ]
  },
  {
   "cell_type": "code",
   "execution_count": 30,
   "id": "fa65d3c5",
   "metadata": {},
   "outputs": [
    {
     "data": {
      "image/png": "[encoded data removed]",
      "text/plain": [
       "<Figure size 1200x400 with 1 Axes>"
      ]
     },
     "metadata": {},
     "output_type": "display_data"
    }
   ],
   "source": [
    "plt.figure(figsize=(12, 4))\n",
    "sns.histplot(rub_df['tickets_count'], bins=30, kde=True)\n",
    "plt.title('Распределение количества билетов в заказе')\n",
    "plt.xlabel('Количество билетов')\n",
    "plt.ylabel('Количество заказов')\n",
    "plt.grid(alpha=0.4)\n",
    "plt.show()"
   ]
  },
  {
   "cell_type": "code",
   "execution_count": 31,
   "id": "9b1f715a",
   "metadata": {},
   "outputs": [
    {
     "data": {
      "image/png": "[encoded data removed]",
      "text/plain": [
       "<Figure size 1200x400 with 1 Axes>"
      ]
     },
     "metadata": {},
     "output_type": "display_data"
    }
   ],
   "source": [
    "# Строим диаграмму размаха \n",
    "plt.figure(figsize = (12, 4))\n",
    "rub_df.boxplot(column='tickets_count', vert = False, flierprops=dict(markerfacecolor='r', marker='o'))\n",
    "\n",
    "# Добавляем заголовок и метки оси\n",
    "plt.title('Распределение количества билетов в заказе')\n",
    "plt.xlabel('Количество билетов')\n",
    "plt.grid(alpha = 0.5)\n",
    "\n",
    "# Выводим график\n",
    "plt.show()"
   ]
  },
  {
   "cell_type": "markdown",
   "id": "ac5106da",
   "metadata": {},
   "source": [
    "В столбце `tickets_count` содержатся данные о количестве билетов в заказе. Этот столбец хранит данные которые являются одним из главных показателей эффективности продукта. Данные с большим перепадом значений, минимальным значением являются заказы с 1 билетом. Так же в данных есть выделяющиеся высокие значения. Распределение выручки ассиметричное, скошено вправо.\n",
    "Медианной данных является 3 билета, а среднее значение 2,7 билета. Среднее и медианное значения практически не отличаются друг от друга, в данных есть выбросы, но их не так много и разброс у них не такой большой, чтобы повлиять на среднее. Максимальным является значение 57 билетов в одном заказе, что возможно. "
   ]
  },
  {
   "cell_type": "code",
   "execution_count": 32,
   "id": "934b267f",
   "metadata": {},
   "outputs": [
    {
     "data": {
      "text/plain": [
       "5069"
      ]
     },
     "execution_count": 32,
     "metadata": {},
     "output_type": "execute_result"
    }
   ],
   "source": [
    "# Фильтруем данные в рублях\n",
    "kzt_df = orders_events_df[(orders_events_df['currency_code'] == 'kzt')]\n",
    "# Проверим размер получившегося датасета\n",
    "len(kzt_df)"
   ]
  },
  {
   "cell_type": "code",
   "execution_count": 33,
   "id": "67db1c0c",
   "metadata": {},
   "outputs": [
    {
     "data": {
      "text/plain": [
       "count     5069.000000\n",
       "mean      4995.206767\n",
       "std       4916.752776\n",
       "min          0.000000\n",
       "25%        518.100000\n",
       "50%       3698.830000\n",
       "75%       7397.660000\n",
       "max      26425.860000\n",
       "Name: revenue, dtype: float64"
      ]
     },
     "execution_count": 33,
     "metadata": {},
     "output_type": "execute_result"
    }
   ],
   "source": [
    "# Изучим статистические данные\n",
    "kzt_df['revenue'].describe()"
   ]
  },
  {
   "cell_type": "code",
   "execution_count": 34,
   "id": "bd0478d6",
   "metadata": {},
   "outputs": [
    {
     "data": {
      "image/png": "[encoded data removed]",
      "text/plain": [
       "<Figure size 1200x400 with 1 Axes>"
      ]
     },
     "metadata": {},
     "output_type": "display_data"
    }
   ],
   "source": [
    "plt.figure(figsize=(12, 4))\n",
    "sns.histplot(kzt_df['revenue'], bins=30, kde=True)\n",
    "plt.title('Распределение выручки')\n",
    "plt.xlabel('Выручка')\n",
    "plt.ylabel('Количество заказов')\n",
    "plt.grid(alpha=0.4)\n",
    "plt.show()"
   ]
  },
  {
   "cell_type": "code",
   "execution_count": 35,
   "id": "5e332437",
   "metadata": {},
   "outputs": [
    {
     "data": {
      "image/png": "[encoded data removed]",
      "text/plain": [
       "<Figure size 1200x400 with 1 Axes>"
      ]
     },
     "metadata": {},
     "output_type": "display_data"
    }
   ],
   "source": [
    "# Строим диаграмму размаха \n",
    "plt.figure(figsize = (12, 4))\n",
    "kzt_df.boxplot(column='revenue', vert = False, flierprops=dict(markerfacecolor='r', marker='o'))\n",
    "\n",
    "# Добавляем заголовок и метки оси\n",
    "plt.title('Распределение выручки')\n",
    "plt.xlabel('Выручка')\n",
    "plt.grid(alpha = 0.5)\n",
    "\n",
    "# Выводим график\n",
    "plt.show()"
   ]
  },
  {
   "cell_type": "markdown",
   "id": "c337ae44",
   "metadata": {},
   "source": [
    "Данные в сегменте тенге так же с перепадом значений, но перепад гораздо меньше чем в рублевом, а так же отсутвуют отрицательные значения, видимо возвратов средств в этой валюте не было. Так же в данных есть выделяющиеся высокие значения. Распределение выручки ассиметричное, скошено вправо.\n",
    "Медианной данных является 3699 тенге, а средним значением 4995 тенге. Среднее и медианное значения отличаются друг от друга, в данных есть выбросы.\n",
    "Чтобы минимизировать влияние выбросов отфильтруем датасет по 99 процентилю в обеих валютах."
   ]
  },
  {
   "cell_type": "code",
   "execution_count": 36,
   "id": "9ae2f4cf",
   "metadata": {},
   "outputs": [
    {
     "data": {
      "text/plain": [
       "count    5069.000000\n",
       "mean        2.762872\n",
       "std         1.115558\n",
       "min         1.000000\n",
       "25%         2.000000\n",
       "50%         3.000000\n",
       "75%         4.000000\n",
       "max         6.000000\n",
       "Name: tickets_count, dtype: float64"
      ]
     },
     "execution_count": 36,
     "metadata": {},
     "output_type": "execute_result"
    }
   ],
   "source": [
    "# Изучим статистические данные\n",
    "kzt_df['tickets_count'].describe()"
   ]
  },
  {
   "cell_type": "code",
   "execution_count": 37,
   "id": "6fe4d19f",
   "metadata": {},
   "outputs": [
    {
     "data": {
      "image/png": "[encoded data removed]",
      "text/plain": [
       "<Figure size 1200x400 with 1 Axes>"
      ]
     },
     "metadata": {},
     "output_type": "display_data"
    }
   ],
   "source": [
    "plt.figure(figsize=(12, 4))\n",
    "sns.histplot(kzt_df['tickets_count'], bins=30, kde=True)\n",
    "plt.title('Распределение количества билетов в заказе')\n",
    "plt.xlabel('Количество билетов')\n",
    "plt.ylabel('Количество заказов')\n",
    "plt.grid(alpha=0.4)\n",
    "plt.show()"
   ]
  },
  {
   "cell_type": "code",
   "execution_count": 38,
   "id": "8a232347",
   "metadata": {},
   "outputs": [
    {
     "data": {
      "image/png": "[encoded data removed]",
      "text/plain": [
       "<Figure size 1200x400 with 1 Axes>"
      ]
     },
     "metadata": {},
     "output_type": "display_data"
    }
   ],
   "source": [
    "# Строим диаграмму размаха \n",
    "plt.figure(figsize = (12, 4))\n",
    "kzt_df.boxplot(column='tickets_count', vert = False, flierprops=dict(markerfacecolor='r', marker='o'))\n",
    "\n",
    "# Добавляем заголовок и метки оси\n",
    "plt.title('Распределение количества билетов в заказе')\n",
    "plt.xlabel('Количество билетов')\n",
    "plt.grid(alpha = 0.5)\n",
    "\n",
    "# Выводим график\n",
    "plt.show()"
   ]
  },
  {
   "cell_type": "markdown",
   "id": "103b468a",
   "metadata": {},
   "source": [
    "В столбце `tickets_count` содержатся данные о количестве билетов в заказе. В данных отсутствуют большие перепады значений, минимальным значением являются заказы с 1 билетом, а мксимальными заказы с 6 билетами. Распределение количества билетов в заказе слегка ассиметричное."
   ]
  },
  {
   "cell_type": "code",
   "execution_count": 39,
   "id": "30aebfa5",
   "metadata": {},
   "outputs": [
    {
     "name": "stdout",
     "output_type": "stream",
     "text": [
      "Размер датасета до фильтрации 290819\n",
      "Размер датасета после фильтрации 287932\n",
      "Доля срезанных данных после фильтрации 0.993\n"
     ]
    }
   ],
   "source": [
    "# отфильтруем датасет по 99 процентилю в обеих валютах\n",
    "filter_rub = rub_df['revenue'].quantile(0.99)\n",
    "filter_kzt = kzt_df['revenue'].quantile(0.99)\n",
    "\n",
    "filter_df = orders_events_df[((orders_events_df['currency_code'] == 'rub') & (orders_events_df['revenue'] <= filter_rub))| ((orders_events_df['currency_code'] == 'kzt') & (orders_events_df['revenue'] <= filter_kzt))]\n",
    "\n",
    "# Посмотрим размер получившегося датасета\n",
    "print(f'Размер датасета до фильтрации {len(orders_events_df)}')\n",
    "print(f'Размер датасета после фильтрации {len(filter_df)}')\n",
    "print(f'Доля срезанных данных после фильтрации {round((len(orders_events_df) - len(filter_df)) / len(orders_events_df) * 100, 3)}')"
   ]
  },
  {
   "cell_type": "code",
   "execution_count": 40,
   "id": "07a8112b",
   "metadata": {},
   "outputs": [
    {
     "data": {
      "text/html": [
       "<div>\n",
       "<style scoped>\n",
       "    .dataframe tbody tr th:only-of-type {\n",
       "        vertical-align: middle;\n",
       "    }\n",
       "\n",
       "    .dataframe tbody tr th {\n",
       "        vertical-align: top;\n",
       "    }\n",
       "\n",
       "    .dataframe thead th {\n",
       "        text-align: right;\n",
       "    }\n",
       "</style>\n",
       "<table border=\"1\" class=\"dataframe\">\n",
       "  <thead>\n",
       "    <tr style=\"text-align: right;\">\n",
       "      <th></th>\n",
       "      <th>order_id</th>\n",
       "      <th>user_id</th>\n",
       "      <th>created_dt_msk</th>\n",
       "      <th>created_ts_msk</th>\n",
       "      <th>event_id</th>\n",
       "      <th>cinema_circuit</th>\n",
       "      <th>age_limit</th>\n",
       "      <th>currency_code</th>\n",
       "      <th>device_type_canonical</th>\n",
       "      <th>revenue</th>\n",
       "      <th>...</th>\n",
       "      <th>region_name</th>\n",
       "      <th>city_name</th>\n",
       "      <th>city_id</th>\n",
       "      <th>venue_id</th>\n",
       "      <th>venue_name</th>\n",
       "      <th>venue_address</th>\n",
       "      <th>data</th>\n",
       "      <th>nominal</th>\n",
       "      <th>curs</th>\n",
       "      <th>cdx</th>\n",
       "    </tr>\n",
       "  </thead>\n",
       "  <tbody>\n",
       "    <tr>\n",
       "      <th>0</th>\n",
       "      <td>4359165</td>\n",
       "      <td>0002849b70a3ce2</td>\n",
       "      <td>2024-08-20</td>\n",
       "      <td>2024-08-20 16:08:03</td>\n",
       "      <td>169230</td>\n",
       "      <td>нет</td>\n",
       "      <td>16</td>\n",
       "      <td>rub</td>\n",
       "      <td>mobile</td>\n",
       "      <td>1521.94</td>\n",
       "      <td>...</td>\n",
       "      <td>Каменевский регион</td>\n",
       "      <td>Глиногорск</td>\n",
       "      <td>213.0</td>\n",
       "      <td>3972.0</td>\n",
       "      <td>Сценический центр \"Деталь\" Групп</td>\n",
       "      <td>алл. Машиностроителей, д. 19 стр. 6</td>\n",
       "      <td>2024-08-20</td>\n",
       "      <td>100</td>\n",
       "      <td>18.6972</td>\n",
       "      <td>kzt</td>\n",
       "    </tr>\n",
       "    <tr>\n",
       "      <th>1</th>\n",
       "      <td>7965605</td>\n",
       "      <td>0005ca5e93f2cf4</td>\n",
       "      <td>2024-07-23</td>\n",
       "      <td>2024-07-23 18:36:24</td>\n",
       "      <td>237325</td>\n",
       "      <td>нет</td>\n",
       "      <td>0</td>\n",
       "      <td>rub</td>\n",
       "      <td>mobile</td>\n",
       "      <td>289.45</td>\n",
       "      <td>...</td>\n",
       "      <td>Каменевский регион</td>\n",
       "      <td>Глиногорск</td>\n",
       "      <td>213.0</td>\n",
       "      <td>2941.0</td>\n",
       "      <td>Музыкальная школа для детей \"Аккаунт\" Лтд</td>\n",
       "      <td>алл. Шмидта, д. 9 стр. 4</td>\n",
       "      <td>2024-07-23</td>\n",
       "      <td>100</td>\n",
       "      <td>18.3419</td>\n",
       "      <td>kzt</td>\n",
       "    </tr>\n",
       "    <tr>\n",
       "      <th>2</th>\n",
       "      <td>7292370</td>\n",
       "      <td>0005ca5e93f2cf4</td>\n",
       "      <td>2024-10-06</td>\n",
       "      <td>2024-10-06 13:56:02</td>\n",
       "      <td>578454</td>\n",
       "      <td>нет</td>\n",
       "      <td>0</td>\n",
       "      <td>rub</td>\n",
       "      <td>mobile</td>\n",
       "      <td>1258.57</td>\n",
       "      <td>...</td>\n",
       "      <td>Каменевский регион</td>\n",
       "      <td>Глиногорск</td>\n",
       "      <td>213.0</td>\n",
       "      <td>4507.0</td>\n",
       "      <td>Училище искусств \"Нирвана\" Инк</td>\n",
       "      <td>алл. Юбилейная, д. 5/6</td>\n",
       "      <td>2024-10-06</td>\n",
       "      <td>100</td>\n",
       "      <td>19.6475</td>\n",
       "      <td>kzt</td>\n",
       "    </tr>\n",
       "    <tr>\n",
       "      <th>3</th>\n",
       "      <td>1139875</td>\n",
       "      <td>000898990054619</td>\n",
       "      <td>2024-07-13</td>\n",
       "      <td>2024-07-13 19:40:48</td>\n",
       "      <td>387271</td>\n",
       "      <td>нет</td>\n",
       "      <td>0</td>\n",
       "      <td>rub</td>\n",
       "      <td>mobile</td>\n",
       "      <td>8.49</td>\n",
       "      <td>...</td>\n",
       "      <td>Североярская область</td>\n",
       "      <td>Озёрск</td>\n",
       "      <td>2.0</td>\n",
       "      <td>3574.0</td>\n",
       "      <td>Театр альтернативного искусства \"Ода\" Лимитед</td>\n",
       "      <td>алл. Есенина, д. 243 к. 3/8</td>\n",
       "      <td>2024-07-13</td>\n",
       "      <td>100</td>\n",
       "      <td>18.5010</td>\n",
       "      <td>kzt</td>\n",
       "    </tr>\n",
       "    <tr>\n",
       "      <th>4</th>\n",
       "      <td>972400</td>\n",
       "      <td>000898990054619</td>\n",
       "      <td>2024-10-04</td>\n",
       "      <td>2024-10-04 22:33:15</td>\n",
       "      <td>509453</td>\n",
       "      <td>нет</td>\n",
       "      <td>18</td>\n",
       "      <td>rub</td>\n",
       "      <td>mobile</td>\n",
       "      <td>1390.41</td>\n",
       "      <td>...</td>\n",
       "      <td>Озернинский край</td>\n",
       "      <td>Родниковецк</td>\n",
       "      <td>240.0</td>\n",
       "      <td>1896.0</td>\n",
       "      <td>Театр кукол \"Огни\" Инкорпорэйтед</td>\n",
       "      <td>ш. Набережное, д. 595 стр. 8</td>\n",
       "      <td>2024-10-04</td>\n",
       "      <td>100</td>\n",
       "      <td>19.6648</td>\n",
       "      <td>kzt</td>\n",
       "    </tr>\n",
       "  </tbody>\n",
       "</table>\n",
       "<p>5 rows × 28 columns</p>\n",
       "</div>"
      ],
      "text/plain": [
       "   order_id          user_id created_dt_msk      created_ts_msk  event_id  \\\n",
       "0   4359165  0002849b70a3ce2     2024-08-20 2024-08-20 16:08:03    169230   \n",
       "1   7965605  0005ca5e93f2cf4     2024-07-23 2024-07-23 18:36:24    237325   \n",
       "2   7292370  0005ca5e93f2cf4     2024-10-06 2024-10-06 13:56:02    578454   \n",
       "3   1139875  000898990054619     2024-07-13 2024-07-13 19:40:48    387271   \n",
       "4    972400  000898990054619     2024-10-04 2024-10-04 22:33:15    509453   \n",
       "\n",
       "  cinema_circuit  age_limit currency_code device_type_canonical  revenue  ...  \\\n",
       "0            нет         16           rub                mobile  1521.94  ...   \n",
       "1            нет          0           rub                mobile   289.45  ...   \n",
       "2            нет          0           rub                mobile  1258.57  ...   \n",
       "3            нет          0           rub                mobile     8.49  ...   \n",
       "4            нет         18           rub                mobile  1390.41  ...   \n",
       "\n",
       "            region_name    city_name  city_id  venue_id  \\\n",
       "0    Каменевский регион   Глиногорск    213.0    3972.0   \n",
       "1    Каменевский регион   Глиногорск    213.0    2941.0   \n",
       "2    Каменевский регион   Глиногорск    213.0    4507.0   \n",
       "3  Североярская область       Озёрск      2.0    3574.0   \n",
       "4      Озернинский край  Родниковецк    240.0    1896.0   \n",
       "\n",
       "                                      venue_name  \\\n",
       "0               Сценический центр \"Деталь\" Групп   \n",
       "1      Музыкальная школа для детей \"Аккаунт\" Лтд   \n",
       "2                 Училище искусств \"Нирвана\" Инк   \n",
       "3  Театр альтернативного искусства \"Ода\" Лимитед   \n",
       "4               Театр кукол \"Огни\" Инкорпорэйтед   \n",
       "\n",
       "                         venue_address       data nominal     curs  cdx  \n",
       "0  алл. Машиностроителей, д. 19 стр. 6 2024-08-20     100  18.6972  kzt  \n",
       "1             алл. Шмидта, д. 9 стр. 4 2024-07-23     100  18.3419  kzt  \n",
       "2               алл. Юбилейная, д. 5/6 2024-10-06     100  19.6475  kzt  \n",
       "3          алл. Есенина, д. 243 к. 3/8 2024-07-13     100  18.5010  kzt  \n",
       "4         ш. Набережное, д. 595 стр. 8 2024-10-04     100  19.6648  kzt  \n",
       "\n",
       "[5 rows x 28 columns]"
      ]
     },
     "execution_count": 40,
     "metadata": {},
     "output_type": "execute_result"
    }
   ],
   "source": [
    "# Соединяем данные из двух датафреймов в единый датафрейм df\n",
    "df = pd.merge(filter_df, final_tickets_tenge_df, left_on = 'created_dt_msk', right_on = 'data', how = 'left')\n",
    "\n",
    "# Проверим получившийся датасет\n",
    "df.head()"
   ]
  },
  {
   "cell_type": "code",
   "execution_count": 41,
   "id": "0a610834",
   "metadata": {},
   "outputs": [],
   "source": [
    "# Приведем выручку к одной валюте\n",
    "\n",
    "# Функция для конвертации выручки\n",
    "def convert_to_rubles(row):\n",
    "    if row['currency_code'] == 'rub':\n",
    "        return row['revenue']\n",
    "    elif row['currency_code'] == 'kzt':\n",
    "        return row['revenue'] * (row['curs']/100)\n",
    "    else:\n",
    "        return None\n",
    "\n",
    "# Применяем функцию к датасету\n",
    "df['revenue_rub'] = df.apply(convert_to_rubles, axis=1)\n"
   ]
  },
  {
   "cell_type": "code",
   "execution_count": 42,
   "id": "cb968366",
   "metadata": {},
   "outputs": [],
   "source": [
    "# Добавим столбец с выручкой за один билет\n",
    "df['one_ticket_revenue_rub'] = df['revenue'] / df['tickets_count']\n",
    "\n",
    "# Добавим столбец с месяцем оформления заказа\n",
    "df['month'] = df['created_dt_msk'].dt.month"
   ]
  },
  {
   "cell_type": "code",
   "execution_count": 43,
   "id": "3af21f43",
   "metadata": {},
   "outputs": [
    {
     "data": {
      "text/html": [
       "<div>\n",
       "<style scoped>\n",
       "    .dataframe tbody tr th:only-of-type {\n",
       "        vertical-align: middle;\n",
       "    }\n",
       "\n",
       "    .dataframe tbody tr th {\n",
       "        vertical-align: top;\n",
       "    }\n",
       "\n",
       "    .dataframe thead th {\n",
       "        text-align: right;\n",
       "    }\n",
       "</style>\n",
       "<table border=\"1\" class=\"dataframe\">\n",
       "  <thead>\n",
       "    <tr style=\"text-align: right;\">\n",
       "      <th></th>\n",
       "      <th>order_id</th>\n",
       "      <th>user_id</th>\n",
       "      <th>created_dt_msk</th>\n",
       "      <th>created_ts_msk</th>\n",
       "      <th>event_id</th>\n",
       "      <th>cinema_circuit</th>\n",
       "      <th>age_limit</th>\n",
       "      <th>currency_code</th>\n",
       "      <th>device_type_canonical</th>\n",
       "      <th>revenue</th>\n",
       "      <th>...</th>\n",
       "      <th>venue_name</th>\n",
       "      <th>venue_address</th>\n",
       "      <th>data</th>\n",
       "      <th>nominal</th>\n",
       "      <th>curs</th>\n",
       "      <th>cdx</th>\n",
       "      <th>revenue_rub</th>\n",
       "      <th>one_ticket_revenue_rub</th>\n",
       "      <th>month</th>\n",
       "      <th>season</th>\n",
       "    </tr>\n",
       "  </thead>\n",
       "  <tbody>\n",
       "    <tr>\n",
       "      <th>0</th>\n",
       "      <td>4359165</td>\n",
       "      <td>0002849b70a3ce2</td>\n",
       "      <td>2024-08-20</td>\n",
       "      <td>2024-08-20 16:08:03</td>\n",
       "      <td>169230</td>\n",
       "      <td>нет</td>\n",
       "      <td>16</td>\n",
       "      <td>rub</td>\n",
       "      <td>mobile</td>\n",
       "      <td>1521.94</td>\n",
       "      <td>...</td>\n",
       "      <td>Сценический центр \"Деталь\" Групп</td>\n",
       "      <td>алл. Машиностроителей, д. 19 стр. 6</td>\n",
       "      <td>2024-08-20</td>\n",
       "      <td>100</td>\n",
       "      <td>18.6972</td>\n",
       "      <td>kzt</td>\n",
       "      <td>1521.94</td>\n",
       "      <td>380.485000</td>\n",
       "      <td>8</td>\n",
       "      <td>лето</td>\n",
       "    </tr>\n",
       "    <tr>\n",
       "      <th>1</th>\n",
       "      <td>7965605</td>\n",
       "      <td>0005ca5e93f2cf4</td>\n",
       "      <td>2024-07-23</td>\n",
       "      <td>2024-07-23 18:36:24</td>\n",
       "      <td>237325</td>\n",
       "      <td>нет</td>\n",
       "      <td>0</td>\n",
       "      <td>rub</td>\n",
       "      <td>mobile</td>\n",
       "      <td>289.45</td>\n",
       "      <td>...</td>\n",
       "      <td>Музыкальная школа для детей \"Аккаунт\" Лтд</td>\n",
       "      <td>алл. Шмидта, д. 9 стр. 4</td>\n",
       "      <td>2024-07-23</td>\n",
       "      <td>100</td>\n",
       "      <td>18.3419</td>\n",
       "      <td>kzt</td>\n",
       "      <td>289.45</td>\n",
       "      <td>144.725000</td>\n",
       "      <td>7</td>\n",
       "      <td>лето</td>\n",
       "    </tr>\n",
       "    <tr>\n",
       "      <th>2</th>\n",
       "      <td>7292370</td>\n",
       "      <td>0005ca5e93f2cf4</td>\n",
       "      <td>2024-10-06</td>\n",
       "      <td>2024-10-06 13:56:02</td>\n",
       "      <td>578454</td>\n",
       "      <td>нет</td>\n",
       "      <td>0</td>\n",
       "      <td>rub</td>\n",
       "      <td>mobile</td>\n",
       "      <td>1258.57</td>\n",
       "      <td>...</td>\n",
       "      <td>Училище искусств \"Нирвана\" Инк</td>\n",
       "      <td>алл. Юбилейная, д. 5/6</td>\n",
       "      <td>2024-10-06</td>\n",
       "      <td>100</td>\n",
       "      <td>19.6475</td>\n",
       "      <td>kzt</td>\n",
       "      <td>1258.57</td>\n",
       "      <td>314.642500</td>\n",
       "      <td>10</td>\n",
       "      <td>осень</td>\n",
       "    </tr>\n",
       "    <tr>\n",
       "      <th>3</th>\n",
       "      <td>1139875</td>\n",
       "      <td>000898990054619</td>\n",
       "      <td>2024-07-13</td>\n",
       "      <td>2024-07-13 19:40:48</td>\n",
       "      <td>387271</td>\n",
       "      <td>нет</td>\n",
       "      <td>0</td>\n",
       "      <td>rub</td>\n",
       "      <td>mobile</td>\n",
       "      <td>8.49</td>\n",
       "      <td>...</td>\n",
       "      <td>Театр альтернативного искусства \"Ода\" Лимитед</td>\n",
       "      <td>алл. Есенина, д. 243 к. 3/8</td>\n",
       "      <td>2024-07-13</td>\n",
       "      <td>100</td>\n",
       "      <td>18.5010</td>\n",
       "      <td>kzt</td>\n",
       "      <td>8.49</td>\n",
       "      <td>4.245000</td>\n",
       "      <td>7</td>\n",
       "      <td>лето</td>\n",
       "    </tr>\n",
       "    <tr>\n",
       "      <th>4</th>\n",
       "      <td>972400</td>\n",
       "      <td>000898990054619</td>\n",
       "      <td>2024-10-04</td>\n",
       "      <td>2024-10-04 22:33:15</td>\n",
       "      <td>509453</td>\n",
       "      <td>нет</td>\n",
       "      <td>18</td>\n",
       "      <td>rub</td>\n",
       "      <td>mobile</td>\n",
       "      <td>1390.41</td>\n",
       "      <td>...</td>\n",
       "      <td>Театр кукол \"Огни\" Инкорпорэйтед</td>\n",
       "      <td>ш. Набережное, д. 595 стр. 8</td>\n",
       "      <td>2024-10-04</td>\n",
       "      <td>100</td>\n",
       "      <td>19.6648</td>\n",
       "      <td>kzt</td>\n",
       "      <td>1390.41</td>\n",
       "      <td>463.470000</td>\n",
       "      <td>10</td>\n",
       "      <td>осень</td>\n",
       "    </tr>\n",
       "    <tr>\n",
       "      <th>...</th>\n",
       "      <td>...</td>\n",
       "      <td>...</td>\n",
       "      <td>...</td>\n",
       "      <td>...</td>\n",
       "      <td>...</td>\n",
       "      <td>...</td>\n",
       "      <td>...</td>\n",
       "      <td>...</td>\n",
       "      <td>...</td>\n",
       "      <td>...</td>\n",
       "      <td>...</td>\n",
       "      <td>...</td>\n",
       "      <td>...</td>\n",
       "      <td>...</td>\n",
       "      <td>...</td>\n",
       "      <td>...</td>\n",
       "      <td>...</td>\n",
       "      <td>...</td>\n",
       "      <td>...</td>\n",
       "      <td>...</td>\n",
       "      <td>...</td>\n",
       "    </tr>\n",
       "    <tr>\n",
       "      <th>287927</th>\n",
       "      <td>368620</td>\n",
       "      <td>fffcd3dde79eb2c</td>\n",
       "      <td>2024-10-27</td>\n",
       "      <td>2024-10-27 18:00:57</td>\n",
       "      <td>33189</td>\n",
       "      <td>нет</td>\n",
       "      <td>6</td>\n",
       "      <td>rub</td>\n",
       "      <td>mobile</td>\n",
       "      <td>965.57</td>\n",
       "      <td>...</td>\n",
       "      <td>Творческое объединение \"Модуль\" Инкорпорэйтед</td>\n",
       "      <td>алл. Глинки, д. 9/8 к. 67</td>\n",
       "      <td>2024-10-27</td>\n",
       "      <td>100</td>\n",
       "      <td>19.9266</td>\n",
       "      <td>kzt</td>\n",
       "      <td>965.57</td>\n",
       "      <td>241.392500</td>\n",
       "      <td>10</td>\n",
       "      <td>осень</td>\n",
       "    </tr>\n",
       "    <tr>\n",
       "      <th>287928</th>\n",
       "      <td>368562</td>\n",
       "      <td>fffcd3dde79eb2c</td>\n",
       "      <td>2024-10-27</td>\n",
       "      <td>2024-10-27 17:53:53</td>\n",
       "      <td>33189</td>\n",
       "      <td>нет</td>\n",
       "      <td>6</td>\n",
       "      <td>rub</td>\n",
       "      <td>mobile</td>\n",
       "      <td>1448.36</td>\n",
       "      <td>...</td>\n",
       "      <td>Творческое объединение \"Модуль\" Инкорпорэйтед</td>\n",
       "      <td>алл. Глинки, д. 9/8 к. 67</td>\n",
       "      <td>2024-10-27</td>\n",
       "      <td>100</td>\n",
       "      <td>19.9266</td>\n",
       "      <td>kzt</td>\n",
       "      <td>1448.36</td>\n",
       "      <td>241.393333</td>\n",
       "      <td>10</td>\n",
       "      <td>осень</td>\n",
       "    </tr>\n",
       "    <tr>\n",
       "      <th>287929</th>\n",
       "      <td>8473772</td>\n",
       "      <td>fffcd3dde79eb2c</td>\n",
       "      <td>2024-10-30</td>\n",
       "      <td>2024-10-30 13:37:43</td>\n",
       "      <td>205231</td>\n",
       "      <td>нет</td>\n",
       "      <td>16</td>\n",
       "      <td>rub</td>\n",
       "      <td>desktop</td>\n",
       "      <td>178.95</td>\n",
       "      <td>...</td>\n",
       "      <td>Клуб киноманов \"Верность\" Лтд</td>\n",
       "      <td>пр. Титова, д. 5 стр. 68</td>\n",
       "      <td>2024-10-30</td>\n",
       "      <td>100</td>\n",
       "      <td>19.9516</td>\n",
       "      <td>kzt</td>\n",
       "      <td>178.95</td>\n",
       "      <td>89.475000</td>\n",
       "      <td>10</td>\n",
       "      <td>осень</td>\n",
       "    </tr>\n",
       "    <tr>\n",
       "      <th>287930</th>\n",
       "      <td>5526067</td>\n",
       "      <td>fffeeb3c120cf0b</td>\n",
       "      <td>2024-09-24</td>\n",
       "      <td>2024-09-24 10:07:42</td>\n",
       "      <td>454526</td>\n",
       "      <td>нет</td>\n",
       "      <td>18</td>\n",
       "      <td>rub</td>\n",
       "      <td>desktop</td>\n",
       "      <td>661.53</td>\n",
       "      <td>...</td>\n",
       "      <td>Гильдия художников \"Флит\" Инк</td>\n",
       "      <td>пр. Макарова, д. 4</td>\n",
       "      <td>2024-09-24</td>\n",
       "      <td>100</td>\n",
       "      <td>19.3967</td>\n",
       "      <td>kzt</td>\n",
       "      <td>661.53</td>\n",
       "      <td>330.765000</td>\n",
       "      <td>9</td>\n",
       "      <td>осень</td>\n",
       "    </tr>\n",
       "    <tr>\n",
       "      <th>287931</th>\n",
       "      <td>813654</td>\n",
       "      <td>ffff00725179321</td>\n",
       "      <td>2024-09-25</td>\n",
       "      <td>2024-09-25 15:12:40</td>\n",
       "      <td>284965</td>\n",
       "      <td>нет</td>\n",
       "      <td>16</td>\n",
       "      <td>rub</td>\n",
       "      <td>mobile</td>\n",
       "      <td>802.25</td>\n",
       "      <td>...</td>\n",
       "      <td>Мастерская живого действия \"Гардероб\" Лимитед</td>\n",
       "      <td>ш. 30 лет Победы, д. 38 стр. 664</td>\n",
       "      <td>2024-09-25</td>\n",
       "      <td>100</td>\n",
       "      <td>19.3262</td>\n",
       "      <td>kzt</td>\n",
       "      <td>802.25</td>\n",
       "      <td>401.125000</td>\n",
       "      <td>9</td>\n",
       "      <td>осень</td>\n",
       "    </tr>\n",
       "  </tbody>\n",
       "</table>\n",
       "<p>287932 rows × 32 columns</p>\n",
       "</div>"
      ],
      "text/plain": [
       "        order_id          user_id created_dt_msk      created_ts_msk  \\\n",
       "0        4359165  0002849b70a3ce2     2024-08-20 2024-08-20 16:08:03   \n",
       "1        7965605  0005ca5e93f2cf4     2024-07-23 2024-07-23 18:36:24   \n",
       "2        7292370  0005ca5e93f2cf4     2024-10-06 2024-10-06 13:56:02   \n",
       "3        1139875  000898990054619     2024-07-13 2024-07-13 19:40:48   \n",
       "4         972400  000898990054619     2024-10-04 2024-10-04 22:33:15   \n",
       "...          ...              ...            ...                 ...   \n",
       "287927    368620  fffcd3dde79eb2c     2024-10-27 2024-10-27 18:00:57   \n",
       "287928    368562  fffcd3dde79eb2c     2024-10-27 2024-10-27 17:53:53   \n",
       "287929   8473772  fffcd3dde79eb2c     2024-10-30 2024-10-30 13:37:43   \n",
       "287930   5526067  fffeeb3c120cf0b     2024-09-24 2024-09-24 10:07:42   \n",
       "287931    813654  ffff00725179321     2024-09-25 2024-09-25 15:12:40   \n",
       "\n",
       "        event_id cinema_circuit  age_limit currency_code  \\\n",
       "0         169230            нет         16           rub   \n",
       "1         237325            нет          0           rub   \n",
       "2         578454            нет          0           rub   \n",
       "3         387271            нет          0           rub   \n",
       "4         509453            нет         18           rub   \n",
       "...          ...            ...        ...           ...   \n",
       "287927     33189            нет          6           rub   \n",
       "287928     33189            нет          6           rub   \n",
       "287929    205231            нет         16           rub   \n",
       "287930    454526            нет         18           rub   \n",
       "287931    284965            нет         16           rub   \n",
       "\n",
       "       device_type_canonical  revenue  ...  \\\n",
       "0                     mobile  1521.94  ...   \n",
       "1                     mobile   289.45  ...   \n",
       "2                     mobile  1258.57  ...   \n",
       "3                     mobile     8.49  ...   \n",
       "4                     mobile  1390.41  ...   \n",
       "...                      ...      ...  ...   \n",
       "287927                mobile   965.57  ...   \n",
       "287928                mobile  1448.36  ...   \n",
       "287929               desktop   178.95  ...   \n",
       "287930               desktop   661.53  ...   \n",
       "287931                mobile   802.25  ...   \n",
       "\n",
       "                                           venue_name  \\\n",
       "0                    Сценический центр \"Деталь\" Групп   \n",
       "1           Музыкальная школа для детей \"Аккаунт\" Лтд   \n",
       "2                      Училище искусств \"Нирвана\" Инк   \n",
       "3       Театр альтернативного искусства \"Ода\" Лимитед   \n",
       "4                    Театр кукол \"Огни\" Инкорпорэйтед   \n",
       "...                                               ...   \n",
       "287927  Творческое объединение \"Модуль\" Инкорпорэйтед   \n",
       "287928  Творческое объединение \"Модуль\" Инкорпорэйтед   \n",
       "287929                  Клуб киноманов \"Верность\" Лтд   \n",
       "287930                  Гильдия художников \"Флит\" Инк   \n",
       "287931  Мастерская живого действия \"Гардероб\" Лимитед   \n",
       "\n",
       "                              venue_address       data  nominal     curs  cdx  \\\n",
       "0       алл. Машиностроителей, д. 19 стр. 6 2024-08-20      100  18.6972  kzt   \n",
       "1                  алл. Шмидта, д. 9 стр. 4 2024-07-23      100  18.3419  kzt   \n",
       "2                    алл. Юбилейная, д. 5/6 2024-10-06      100  19.6475  kzt   \n",
       "3               алл. Есенина, д. 243 к. 3/8 2024-07-13      100  18.5010  kzt   \n",
       "4              ш. Набережное, д. 595 стр. 8 2024-10-04      100  19.6648  kzt   \n",
       "...                                     ...        ...      ...      ...  ...   \n",
       "287927            алл. Глинки, д. 9/8 к. 67 2024-10-27      100  19.9266  kzt   \n",
       "287928            алл. Глинки, д. 9/8 к. 67 2024-10-27      100  19.9266  kzt   \n",
       "287929             пр. Титова, д. 5 стр. 68 2024-10-30      100  19.9516  kzt   \n",
       "287930                   пр. Макарова, д. 4 2024-09-24      100  19.3967  kzt   \n",
       "287931     ш. 30 лет Победы, д. 38 стр. 664 2024-09-25      100  19.3262  kzt   \n",
       "\n",
       "       revenue_rub one_ticket_revenue_rub month season  \n",
       "0          1521.94             380.485000     8   лето  \n",
       "1           289.45             144.725000     7   лето  \n",
       "2          1258.57             314.642500    10  осень  \n",
       "3             8.49               4.245000     7   лето  \n",
       "4          1390.41             463.470000    10  осень  \n",
       "...            ...                    ...   ...    ...  \n",
       "287927      965.57             241.392500    10  осень  \n",
       "287928     1448.36             241.393333    10  осень  \n",
       "287929      178.95              89.475000    10  осень  \n",
       "287930      661.53             330.765000     9  осень  \n",
       "287931      802.25             401.125000     9  осень  \n",
       "\n",
       "[287932 rows x 32 columns]"
      ]
     },
     "metadata": {},
     "output_type": "display_data"
    }
   ],
   "source": [
    "# Функция для определения сезонности\n",
    "def convert_season(row):\n",
    "    if row['month'] < 2 or row['month'] > 11:\n",
    "        return 'зима'\n",
    "    elif row['month'] > 2 and row['month'] < 6:\n",
    "        return 'весна'\n",
    "    elif row['month'] > 5 and row['month'] < 9:\n",
    "        return 'лето'\n",
    "    else:\n",
    "        return 'осень'\n",
    "\n",
    "# Применяем функцию к датасету\n",
    "df['season'] = df.apply(convert_season, axis=1)\n",
    "display(df)"
   ]
  },
  {
   "cell_type": "markdown",
   "id": "95de2da8",
   "metadata": {},
   "source": [
    "При предобработке данных были сделаны следующие пункты:\n",
    "\n",
    "- Объединили данные в один датасет.\n",
    "- В столбцах с датой заменили тип данных с `object` на `datetime64`.\n",
    "- Оптимизировали данные.\n",
    "- Проверили на явные и неявные дубликаты и удалили их.\n",
    "- Изучили данные по выручке сервиса и по количеству билетов в заказе в разрезе двух представленных валют. \n",
    "- Отфильтровали датасет по 99 процентилю.\n",
    "- Привели данные к одной валюте.\n",
    "- Создали новые столбцы для последующих расчетов.\n",
    "\n",
    "Анализ распределения ключевых показателей выявил следующие особенности:\n",
    "\n",
    "Выручка:\n",
    "В обоих валютных сегментах зафиксировано асимметричное распределение с правосторнним смещением и наличием выбросов. В рублевом сегменте присутствуют отрицательные значения выручки, что указывает на операции возврата билетов. В сегменте тенге только положительные значения выручки. Чтобы минимизировать влияние выбросов отфильтровали датасет по 99 процентилю в обеих валютах.\n",
    "\n",
    "Количество билетов:\n",
    "Распределение данных в сегментах отличается. В рублевом асимметричное распределение с правосторонним смещением и выбросами, разброс значений от 1 до 57 билетов, при этом максимальные значения не аномальны и могут быть реальными. В сегменте тенге не такой большой разброс значений от 1 до 6 билетов, данные слегка ассиметричны с правосторонним смещением, а выбросов не наблюдается."
   ]
  },
  {
   "cell_type": "markdown",
   "id": "4eaa0099",
   "metadata": {},
   "source": [
    "<a class=\"anchor\" id=\"3-bullet\"></a>\n",
    "## 3. Исследовательский анализ данных"
   ]
  },
  {
   "cell_type": "code",
   "execution_count": 44,
   "id": "84bbe5f6",
   "metadata": {},
   "outputs": [
    {
     "data": {
      "text/plain": [
       "month\n",
       "6     34343\n",
       "7     40410\n",
       "8     44572\n",
       "9     69333\n",
       "10    99274\n",
       "Name: order_id, dtype: int64"
      ]
     },
     "metadata": {},
     "output_type": "display_data"
    }
   ],
   "source": [
    "# Найдем количество заказов для каждого месяца\n",
    "month_orders = df.groupby('month')['order_id'].count()\n",
    "display(month_orders)"
   ]
  },
  {
   "cell_type": "code",
   "execution_count": null,
   "id": "0302d571",
   "metadata": {},
   "outputs": [],
   "source": [
    "# Сравним распределение заказов осеннего и летнего периодов по типам мероприятия\n",
    "# Группируем данные по категориям\n",
    "grouped = df.groupby('event_type_main')['season'].value_counts(normalize = True).unstack(fill_value = 0)\n",
    "grouped.plot(kind = 'barh') \n",
    "\n",
    "# Настраиваем оформление графика\n",
    "plt.xlabel('Распределение заказов')\n",
    "plt.ylabel('Тип мероприятий')\n",
    "plt.grid(axis='x', alpha = 0.5)\n",
    "plt.legend(title = 'Период')\n",
    "\n",
    "# Выводим график\n",
    "plt.show()"
   ]
  },
  {
   "cell_type": "markdown",
   "id": "fd706512",
   "metadata": {},
   "source": [
    "Осенью заметно вырос спрос на такие мероприятия : 'Ёлки', 'Театр', 'Спорт', немного вырос спрос на 'Концерты' и 'Стендап' и практически не изменился на категории 'Другое' и 'Выставки'. "
   ]
  },
  {
   "cell_type": "code",
   "execution_count": 46,
   "id": "1cf39d98",
   "metadata": {},
   "outputs": [
    {
     "data": {
      "image/png": "[encoded data removed]",
      "text/plain": [
       "<Figure size 640x480 with 1 Axes>"
      ]
     },
     "metadata": {},
     "output_type": "display_data"
    }
   ],
   "source": [
    "# Сравним распределение заказов осеннего и летнего периодов по типам устройств\n",
    "# Группируем данные по категориям\n",
    "grouped = df.groupby('device_type_canonical')['season'].value_counts(normalize = True).unstack(fill_value = 0)\n",
    "grouped.plot(kind = 'barh') \n",
    "# Настраиваем оформление графика\n",
    "plt.xlabel('Распределение заказов')\n",
    "plt.ylabel('Тип устройства')\n",
    "plt.grid(axis='x', alpha = 0.5)\n",
    "plt.legend(title = 'Период')\n",
    "\n",
    "# Выводим график\n",
    "plt.show()"
   ]
  },
  {
   "cell_type": "markdown",
   "id": "563cc8b9",
   "metadata": {},
   "source": [
    "Предпочитаемый тип устройств не меняется в зависимости от сезона. И летом и осенью большая заказов производится с мобильных устройств, на такие заказы приходится практически 60% заказов. "
   ]
  },
  {
   "cell_type": "code",
   "execution_count": 47,
   "id": "e5b15743",
   "metadata": {},
   "outputs": [
    {
     "data": {
      "image/png": "[encoded data removed]",
      "text/plain": [
       "<Figure size 640x480 with 1 Axes>"
      ]
     },
     "metadata": {},
     "output_type": "display_data"
    }
   ],
   "source": [
    "# Сравним распределение заказов осеннего и летнего периодов по возрастному рейтингу\n",
    "# # Группируем данные по категориям\n",
    "grouped = df.groupby('age_limit')['season'].value_counts(normalize = True).unstack(fill_value = 0)\n",
    "grouped.plot(kind = 'barh') \n",
    "# Настраиваем оформление графика\n",
    "plt.xlabel('Распределение заказов')\n",
    "plt.ylabel('Возрастной рейтинг')\n",
    "plt.grid(axis='x', alpha = 0.5)\n",
    "plt.legend(title = 'Период')\n",
    "\n",
    "# Выводим график\n",
    "plt.show()"
   ]
  },
  {
   "cell_type": "markdown",
   "id": "39588106",
   "metadata": {},
   "source": [
    "Практически во всех категориях возрастного рейтинга осенью существенно увеличился спрос. Только в категории от 18 и старше наблюдается еле заметный спад."
   ]
  },
  {
   "cell_type": "code",
   "execution_count": null,
   "id": "bfec91f6",
   "metadata": {},
   "outputs": [],
   "source": [
    "# Посмотрим на изменение распределение выручки с продажи одного билета\n",
    "season_revenue = df.groupby(['event_type_main', 'season'])['one_ticket_revenue_rub'].mean().unstack()\n",
    "\n",
    "season_revenue['per_change'] = ((season_revenue['осень'] - season_revenue['лето']) / season_revenue['лето'] * 100).round(2)\n",
    "season_revenue = season_revenue.sort_values('per_change', ascending = False)\n",
    "display(season_revenue)"
   ]
  },
  {
   "cell_type": "code",
   "execution_count": 49,
   "id": "48e84168",
   "metadata": {},
   "outputs": [
    {
     "data": {
      "image/png": "[encoded data removed]",
      "text/plain": [
       "<Figure size 640x480 with 1 Axes>"
      ]
     },
     "metadata": {},
     "output_type": "display_data"
    }
   ],
   "source": [
    "# Создание столбчатой диаграммы\n",
    "fig, ax = plt.subplots()\n",
    "\n",
    "# Создание двух групп столбцов для каждого сезона\n",
    "width = 0.35\n",
    "x = range(len(season_revenue))\n",
    "\n",
    "# Рисуем столбцы для летнего периода\n",
    "ax.bar(x, season_revenue['лето'], width, label='Лето')\n",
    "\n",
    "# Рисуем столбцы для осеннего периода\n",
    "ax.bar([i + width for i in x], season_revenue['осень'], width, label='Осень')\n",
    "\n",
    "# Настройка подписей\n",
    "plt.grid(axis = 'y', linestyle='--', alpha=0.7)\n",
    "plt.title('Сравнение выручки с билета по сезонам')\n",
    "plt.xlabel('Тип мероприятия')\n",
    "plt.ylabel('Средняя выручка (руб.)')\n",
    "ax.set_xticks([i + width/2 for i in range(len(season_revenue))])\n",
    "ax.set_xticklabels(season_revenue.index)\n",
    "# Добавление легенды\n",
    "plt.legend()\n",
    "\n",
    "# Отображение графика\n",
    "plt.show()"
   ]
  },
  {
   "cell_type": "markdown",
   "id": "35a2b595",
   "metadata": {},
   "source": [
    "Осенью выручка с одного билета просела в таких категориях как 'Ёлки', 'Театр', 'Концерты'. В этих же категориях значительно увеличелось количество продаж, скорее всего, снилизась стоимость билета, из-за чего уменьшилась выручка с одного билета, но выросла общая выручка с этих мероприятий. Не изменилась выручка за категорию 'Спорт', хотя на нее так же повысился спрос осенью. В остальных категориях выручка практически не изменилась. \n",
    "Изучим активность пользователей за осень более подробно."
   ]
  },
  {
   "cell_type": "code",
   "execution_count": 50,
   "id": "923355c7",
   "metadata": {},
   "outputs": [],
   "source": [
    "# Отфильтруем данные\n",
    "autumn_df = df[(df['season'] == 'осень')]"
   ]
  },
  {
   "cell_type": "code",
   "execution_count": 51,
   "id": "47e0abb5",
   "metadata": {},
   "outputs": [
    {
     "data": {
      "text/html": [
       "<div>\n",
       "<style scoped>\n",
       "    .dataframe tbody tr th:only-of-type {\n",
       "        vertical-align: middle;\n",
       "    }\n",
       "\n",
       "    .dataframe tbody tr th {\n",
       "        vertical-align: top;\n",
       "    }\n",
       "\n",
       "    .dataframe thead th {\n",
       "        text-align: right;\n",
       "    }\n",
       "</style>\n",
       "<table border=\"1\" class=\"dataframe\">\n",
       "  <thead>\n",
       "    <tr style=\"text-align: right;\">\n",
       "      <th></th>\n",
       "      <th>created_dt_msk</th>\n",
       "      <th>total_orders</th>\n",
       "      <th>unique_users</th>\n",
       "      <th>total_revenue</th>\n",
       "      <th>total_tickets</th>\n",
       "      <th>avg_orders_per_user</th>\n",
       "      <th>avg_ticket_price</th>\n",
       "    </tr>\n",
       "  </thead>\n",
       "  <tbody>\n",
       "    <tr>\n",
       "      <th>0</th>\n",
       "      <td>2024-09-01</td>\n",
       "      <td>1327</td>\n",
       "      <td>564</td>\n",
       "      <td>733571.82</td>\n",
       "      <td>3718</td>\n",
       "      <td>2.352837</td>\n",
       "      <td>197.302803</td>\n",
       "    </tr>\n",
       "    <tr>\n",
       "      <th>1</th>\n",
       "      <td>2024-09-02</td>\n",
       "      <td>1380</td>\n",
       "      <td>574</td>\n",
       "      <td>777955.47</td>\n",
       "      <td>3704</td>\n",
       "      <td>2.404181</td>\n",
       "      <td>210.031174</td>\n",
       "    </tr>\n",
       "    <tr>\n",
       "      <th>2</th>\n",
       "      <td>2024-09-03</td>\n",
       "      <td>5111</td>\n",
       "      <td>778</td>\n",
       "      <td>1229176.90</td>\n",
       "      <td>15290</td>\n",
       "      <td>6.569409</td>\n",
       "      <td>80.390903</td>\n",
       "    </tr>\n",
       "    <tr>\n",
       "      <th>3</th>\n",
       "      <td>2024-09-04</td>\n",
       "      <td>1773</td>\n",
       "      <td>685</td>\n",
       "      <td>950093.25</td>\n",
       "      <td>4802</td>\n",
       "      <td>2.588321</td>\n",
       "      <td>197.853655</td>\n",
       "    </tr>\n",
       "    <tr>\n",
       "      <th>4</th>\n",
       "      <td>2024-09-05</td>\n",
       "      <td>1944</td>\n",
       "      <td>739</td>\n",
       "      <td>1106281.15</td>\n",
       "      <td>5214</td>\n",
       "      <td>2.630582</td>\n",
       "      <td>212.175134</td>\n",
       "    </tr>\n",
       "    <tr>\n",
       "      <th>...</th>\n",
       "      <td>...</td>\n",
       "      <td>...</td>\n",
       "      <td>...</td>\n",
       "      <td>...</td>\n",
       "      <td>...</td>\n",
       "      <td>...</td>\n",
       "      <td>...</td>\n",
       "    </tr>\n",
       "    <tr>\n",
       "      <th>56</th>\n",
       "      <td>2024-10-27</td>\n",
       "      <td>2849</td>\n",
       "      <td>1034</td>\n",
       "      <td>1475416.87</td>\n",
       "      <td>7867</td>\n",
       "      <td>2.755319</td>\n",
       "      <td>187.545045</td>\n",
       "    </tr>\n",
       "    <tr>\n",
       "      <th>57</th>\n",
       "      <td>2024-10-28</td>\n",
       "      <td>2838</td>\n",
       "      <td>985</td>\n",
       "      <td>1369752.08</td>\n",
       "      <td>7927</td>\n",
       "      <td>2.881218</td>\n",
       "      <td>172.795771</td>\n",
       "    </tr>\n",
       "    <tr>\n",
       "      <th>58</th>\n",
       "      <td>2024-10-29</td>\n",
       "      <td>2836</td>\n",
       "      <td>998</td>\n",
       "      <td>1372364.83</td>\n",
       "      <td>7962</td>\n",
       "      <td>2.841683</td>\n",
       "      <td>172.364334</td>\n",
       "    </tr>\n",
       "    <tr>\n",
       "      <th>59</th>\n",
       "      <td>2024-10-30</td>\n",
       "      <td>2928</td>\n",
       "      <td>1040</td>\n",
       "      <td>1520923.06</td>\n",
       "      <td>8064</td>\n",
       "      <td>2.815385</td>\n",
       "      <td>188.606530</td>\n",
       "    </tr>\n",
       "    <tr>\n",
       "      <th>60</th>\n",
       "      <td>2024-10-31</td>\n",
       "      <td>5961</td>\n",
       "      <td>1272</td>\n",
       "      <td>2359549.09</td>\n",
       "      <td>15142</td>\n",
       "      <td>4.686321</td>\n",
       "      <td>155.828100</td>\n",
       "    </tr>\n",
       "  </tbody>\n",
       "</table>\n",
       "<p>61 rows × 7 columns</p>\n",
       "</div>"
      ],
      "text/plain": [
       "   created_dt_msk  total_orders  unique_users  total_revenue  total_tickets  \\\n",
       "0      2024-09-01          1327           564      733571.82           3718   \n",
       "1      2024-09-02          1380           574      777955.47           3704   \n",
       "2      2024-09-03          5111           778     1229176.90          15290   \n",
       "3      2024-09-04          1773           685      950093.25           4802   \n",
       "4      2024-09-05          1944           739     1106281.15           5214   \n",
       "..            ...           ...           ...            ...            ...   \n",
       "56     2024-10-27          2849          1034     1475416.87           7867   \n",
       "57     2024-10-28          2838           985     1369752.08           7927   \n",
       "58     2024-10-29          2836           998     1372364.83           7962   \n",
       "59     2024-10-30          2928          1040     1520923.06           8064   \n",
       "60     2024-10-31          5961          1272     2359549.09          15142   \n",
       "\n",
       "    avg_orders_per_user  avg_ticket_price  \n",
       "0              2.352837        197.302803  \n",
       "1              2.404181        210.031174  \n",
       "2              6.569409         80.390903  \n",
       "3              2.588321        197.853655  \n",
       "4              2.630582        212.175134  \n",
       "..                  ...               ...  \n",
       "56             2.755319        187.545045  \n",
       "57             2.881218        172.795771  \n",
       "58             2.841683        172.364334  \n",
       "59             2.815385        188.606530  \n",
       "60             4.686321        155.828100  \n",
       "\n",
       "[61 rows x 7 columns]"
      ]
     },
     "metadata": {},
     "output_type": "display_data"
    }
   ],
   "source": [
    "# Создаем сводную таблицу\n",
    "daily_metrics = autumn_df.groupby('created_dt_msk').agg(\n",
    "    total_orders=('order_id', 'count'),  # Общее число заказов\n",
    "    unique_users=('user_id', 'nunique'),   # Количество уникальных пользователей (DAU)\n",
    "    total_revenue=('revenue', 'sum'),  # Общая выручка\n",
    "    total_tickets=('tickets_count', 'sum')  # Общее количество билетов\n",
    ").reset_index()\n",
    "\n",
    "# Рассчитываем дополнительные метрики\n",
    "daily_metrics['avg_orders_per_user'] = daily_metrics['total_orders'] / daily_metrics['unique_users']\n",
    "daily_metrics['avg_ticket_price'] = np.where(daily_metrics['total_tickets'] == 0, np.nan, daily_metrics['total_revenue'] / daily_metrics['total_tickets'])\n",
    "\n",
    "# Сортируем данные по дате\n",
    "daily_metrics = daily_metrics.sort_values('created_dt_msk')\n",
    "\n",
    "display(daily_metrics)"
   ]
  },
  {
   "cell_type": "code",
   "execution_count": 52,
   "id": "87b92e31",
   "metadata": {},
   "outputs": [
    {
     "data": {
      "image/png": "[encoded data removed]",
      "text/plain": [
       "<Figure size 1600x1200 with 1 Axes>"
      ]
     },
     "metadata": {},
     "output_type": "display_data"
    }
   ],
   "source": [
    "# Визуализация результатов\n",
    "plt.figure(figsize=(16, 12))\n",
    "\n",
    "# Общее число заказов и DAU\n",
    "plt.subplot(2, 2, 1)\n",
    "plt.plot(daily_metrics['created_dt_msk'], daily_metrics['total_orders'], label='Общее число заказов')\n",
    "plt.plot(daily_metrics['created_dt_msk'], daily_metrics['unique_users'], label='DAU')\n",
    "plt.title('Динамика заказов и активных пользователей')\n",
    "plt.xlabel('Дата заказа')\n",
    "plt.ylabel('Количество заказов')\n",
    "plt.xticks(rotation=90)\n",
    "plt.legend()\n",
    "\n",
    "plt.show()"
   ]
  },
  {
   "cell_type": "markdown",
   "id": "904e09c9",
   "metadata": {},
   "source": [
    "Количество заказов растет с резкими колебаниями, на первой неделе месяца и в октябре и в ноябре происходят резкие скачки в общем числе заказов. DAU же показывает более плавное увеличение без резких колебаний и скачков."
   ]
  },
  {
   "cell_type": "code",
   "execution_count": 53,
   "id": "bb230507",
   "metadata": {},
   "outputs": [
    {
     "data": {
      "image/png": "[encoded data removed]",
      "text/plain": [
       "<Figure size 1600x1200 with 1 Axes>"
      ]
     },
     "metadata": {},
     "output_type": "display_data"
    }
   ],
   "source": [
    "# Визуализируем среднее число заказов на пользователя\n",
    "plt.figure(figsize=(16, 12))\n",
    "plt.subplot(2, 2, 2)\n",
    "plt.plot(daily_metrics['created_dt_msk'], daily_metrics['avg_orders_per_user'])\n",
    "plt.title('Среднее число заказов на пользователя')\n",
    "plt.xlabel('Дата заказа')\n",
    "plt.ylabel('Среднее число заказов')\n",
    "plt.xticks(rotation=90)\n",
    "\n",
    "plt.show()"
   ]
  },
  {
   "cell_type": "markdown",
   "id": "bf94bc54",
   "metadata": {},
   "source": [
    "Среднее число заказов на пользователя растет с резкими колебаниями, на первой неделе месяца и в сентябре и в октябре происходят резкие скачки. Вкупе с предыдущем графиком можно сделать вывод, что в эти недели пользователи ведут себя более активно, количество заказов увеличивает при том же количетсве пользователей. "
   ]
  },
  {
   "cell_type": "code",
   "execution_count": 54,
   "id": "aa0a3199",
   "metadata": {},
   "outputs": [
    {
     "data": {
      "image/png": "[encoded data removed]",
      "text/plain": [
       "<Figure size 1600x1200 with 1 Axes>"
      ]
     },
     "metadata": {},
     "output_type": "display_data"
    }
   ],
   "source": [
    "# Визуализируем среднюю стоимость билета\n",
    "plt.figure(figsize=(16, 12))\n",
    "plt.subplot(2, 2, 3)\n",
    "plt.plot(daily_metrics['created_dt_msk'], daily_metrics['avg_ticket_price'])\n",
    "plt.title('Средняя стоимость билета')\n",
    "plt.xlabel('Дата покупки')\n",
    "plt.ylabel('Стоимость билета(руб.)')\n",
    "plt.xticks(rotation=90)\n",
    "\n",
    "plt.show()"
   ]
  },
  {
   "cell_type": "markdown",
   "id": "1c11a753",
   "metadata": {},
   "source": [
    "Средняя стоимость билетов не показывает явный рост или падение на выбранном временном промежутке, но колеблется, а так же имеются резкие падения в начале каждого месяца. Можно предположить, что в эти были акции или распродажи, что повлияло на рост заказов и уменьшение средней стоимости билета. \n",
    "Выделим дни недели и сравним пользовательскую активность в будни и в выходные. "
   ]
  },
  {
   "cell_type": "code",
   "execution_count": null,
   "id": "f204bb61",
   "metadata": {},
   "outputs": [],
   "source": [
    "# Добавляем день недели\n",
    "daily_metrics['day_of_week'] = daily_metrics['created_dt_msk'].dt.dayofweek\n",
    "daily_metrics['is_weekend'] = daily_metrics['day_of_week'].apply(lambda x: 1 if x >= 5 else 0)\n",
    "\n",
    "# Анализ активности по дням недели\n",
    "weekday_metrics = daily_metrics.groupby('is_weekend').agg(\n",
    "    avg_total_orders=('total_orders', 'mean'),\n",
    "    avg_unique_users=('unique_users', 'mean'),\n",
    "    avg_orders_per_user=('avg_orders_per_user', 'mean'),\n",
    "    avg_ticket_price=('avg_ticket_price', 'mean')\n",
    ").reset_index()\n",
    "\n",
    "# Визуализация сравнения будней и выходных\n",
    "plt.figure(figsize=(12, 6))\n",
    "\n",
    "# График сравнения\n",
    "sns.barplot(\n",
    "    data=weekday_metrics,\n",
    "    x='is_weekend',\n",
    "    y='avg_unique_users',\n",
    "    palette='viridis'\n",
    ")\n",
    "plt.title('Сравнение активности пользователей в будни и выходные')\n",
    "plt.xticks([0, 1], ['Будни', 'Выходные'])\n",
    "plt.xlabel('День недели')\n",
    "plt.ylabel('Среднее количество пользователей')\n",
    "\n",
    "display(weekday_metrics)\n",
    "plt.show()"
   ]
  },
  {
   "cell_type": "markdown",
   "id": "16c5e0cd",
   "metadata": {},
   "source": [
    "В среднем, пользователи более активны в будние дни (937 пользователей) , на выходных спрос на билеты слегка падает(888 пользователей). Среднее количество заказов в будние дни составляет 2906, а в выходные 2396. \n",
    "Посмотрим как события распределены по событиям и регионам."
   ]
  },
  {
   "cell_type": "code",
   "execution_count": 56,
   "id": "14180c34",
   "metadata": {},
   "outputs": [
    {
     "data": {
      "text/html": [
       "<div>\n",
       "<style scoped>\n",
       "    .dataframe tbody tr th:only-of-type {\n",
       "        vertical-align: middle;\n",
       "    }\n",
       "\n",
       "    .dataframe tbody tr th {\n",
       "        vertical-align: top;\n",
       "    }\n",
       "\n",
       "    .dataframe thead th {\n",
       "        text-align: right;\n",
       "    }\n",
       "</style>\n",
       "<table border=\"1\" class=\"dataframe\">\n",
       "  <thead>\n",
       "    <tr style=\"text-align: right;\">\n",
       "      <th></th>\n",
       "      <th>region_name</th>\n",
       "      <th>unique_events</th>\n",
       "      <th>total_orders</th>\n",
       "      <th>total_revenue</th>\n",
       "      <th>event_share</th>\n",
       "      <th>order_share</th>\n",
       "    </tr>\n",
       "  </thead>\n",
       "  <tbody>\n",
       "    <tr>\n",
       "      <th>23</th>\n",
       "      <td>Каменевский регион</td>\n",
       "      <td>7</td>\n",
       "      <td>46684</td>\n",
       "      <td>28673197.27</td>\n",
       "      <td>100.000000</td>\n",
       "      <td>27.688056</td>\n",
       "    </tr>\n",
       "    <tr>\n",
       "      <th>59</th>\n",
       "      <td>Североярская область</td>\n",
       "      <td>7</td>\n",
       "      <td>20718</td>\n",
       "      <td>10532500.45</td>\n",
       "      <td>100.000000</td>\n",
       "      <td>12.287746</td>\n",
       "    </tr>\n",
       "    <tr>\n",
       "      <th>41</th>\n",
       "      <td>Медовская область</td>\n",
       "      <td>7</td>\n",
       "      <td>12044</td>\n",
       "      <td>2343985.96</td>\n",
       "      <td>100.000000</td>\n",
       "      <td>7.143238</td>\n",
       "    </tr>\n",
       "    <tr>\n",
       "      <th>75</th>\n",
       "      <td>Широковская область</td>\n",
       "      <td>7</td>\n",
       "      <td>8715</td>\n",
       "      <td>4227784.19</td>\n",
       "      <td>100.000000</td>\n",
       "      <td>5.168825</td>\n",
       "    </tr>\n",
       "    <tr>\n",
       "      <th>44</th>\n",
       "      <td>Озернинский край</td>\n",
       "      <td>7</td>\n",
       "      <td>7480</td>\n",
       "      <td>6632990.91</td>\n",
       "      <td>100.000000</td>\n",
       "      <td>4.436352</td>\n",
       "    </tr>\n",
       "    <tr>\n",
       "      <th>...</th>\n",
       "      <td>...</td>\n",
       "      <td>...</td>\n",
       "      <td>...</td>\n",
       "      <td>...</td>\n",
       "      <td>...</td>\n",
       "      <td>...</td>\n",
       "    </tr>\n",
       "    <tr>\n",
       "      <th>68</th>\n",
       "      <td>Тихогорская область</td>\n",
       "      <td>2</td>\n",
       "      <td>19</td>\n",
       "      <td>10124.84</td>\n",
       "      <td>28.571429</td>\n",
       "      <td>0.011269</td>\n",
       "    </tr>\n",
       "    <tr>\n",
       "      <th>55</th>\n",
       "      <td>Светолесский край</td>\n",
       "      <td>2</td>\n",
       "      <td>18</td>\n",
       "      <td>7871.89</td>\n",
       "      <td>28.571429</td>\n",
       "      <td>0.010676</td>\n",
       "    </tr>\n",
       "    <tr>\n",
       "      <th>78</th>\n",
       "      <td>Яснопольский округ</td>\n",
       "      <td>2</td>\n",
       "      <td>18</td>\n",
       "      <td>957.83</td>\n",
       "      <td>28.571429</td>\n",
       "      <td>0.010676</td>\n",
       "    </tr>\n",
       "    <tr>\n",
       "      <th>5</th>\n",
       "      <td>Верхозёрский край</td>\n",
       "      <td>2</td>\n",
       "      <td>11</td>\n",
       "      <td>2180.02</td>\n",
       "      <td>28.571429</td>\n",
       "      <td>0.006524</td>\n",
       "    </tr>\n",
       "    <tr>\n",
       "      <th>65</th>\n",
       "      <td>Сосноводолинская область</td>\n",
       "      <td>1</td>\n",
       "      <td>9</td>\n",
       "      <td>1099.85</td>\n",
       "      <td>14.285714</td>\n",
       "      <td>0.005338</td>\n",
       "    </tr>\n",
       "  </tbody>\n",
       "</table>\n",
       "<p>79 rows × 6 columns</p>\n",
       "</div>"
      ],
      "text/plain": [
       "                 region_name  unique_events  total_orders  total_revenue  \\\n",
       "23        Каменевский регион              7         46684    28673197.27   \n",
       "59      Североярская область              7         20718    10532500.45   \n",
       "41         Медовская область              7         12044     2343985.96   \n",
       "75       Широковская область              7          8715     4227784.19   \n",
       "44          Озернинский край              7          7480     6632990.91   \n",
       "..                       ...            ...           ...            ...   \n",
       "68       Тихогорская область              2            19       10124.84   \n",
       "55         Светолесский край              2            18        7871.89   \n",
       "78        Яснопольский округ              2            18         957.83   \n",
       "5          Верхозёрский край              2            11        2180.02   \n",
       "65  Сосноводолинская область              1             9        1099.85   \n",
       "\n",
       "    event_share  order_share  \n",
       "23   100.000000    27.688056  \n",
       "59   100.000000    12.287746  \n",
       "41   100.000000     7.143238  \n",
       "75   100.000000     5.168825  \n",
       "44   100.000000     4.436352  \n",
       "..          ...          ...  \n",
       "68    28.571429     0.011269  \n",
       "55    28.571429     0.010676  \n",
       "78    28.571429     0.010676  \n",
       "5     28.571429     0.006524  \n",
       "65    14.285714     0.005338  \n",
       "\n",
       "[79 rows x 6 columns]"
      ]
     },
     "metadata": {},
     "output_type": "display_data"
    }
   ],
   "source": [
    "# Анализ регионов\n",
    "region_metrics = autumn_df.groupby('region_name').agg(\n",
    "    unique_events=('event_type_main', 'nunique'),  # Уникальные мероприятия\n",
    "    total_orders=('order_id', 'count'),  # Общее число заказов\n",
    "    total_revenue=('revenue', 'sum')  # Общая выручка\n",
    ").reset_index()\n",
    "\n",
    "# Добавляем доли\n",
    "total_events = autumn_df['event_type_main'].nunique()\n",
    "total_orders = autumn_df['order_id'].nunique()\n",
    "\n",
    "region_metrics['event_share'] = region_metrics['unique_events'] / total_events * 100\n",
    "region_metrics['order_share'] = region_metrics['total_orders'] / total_orders * 100\n",
    "\n",
    "# Сортировка по разнообразию мероприятий\n",
    "region_metrics = region_metrics.sort_values(['unique_events', 'total_orders'], ascending=False)\n",
    "display(region_metrics)"
   ]
  },
  {
   "cell_type": "code",
   "execution_count": null,
   "id": "e3066c4f",
   "metadata": {},
   "outputs": [],
   "source": [
    "# Отфильтруем топ регионов с наибольшим разнообразием мероприятий\n",
    "filter_region_metrics = region_metrics[(region_metrics['unique_events'] > 6)]\n",
    "# Визуализация регионов\n",
    "plt.figure(figsize=(12, 6))\n",
    "sns.barplot(\n",
    "    data = filter_region_metrics,\n",
    "    y='region_name',\n",
    "    x='order_share',\n",
    "    palette='crest_r'\n",
    "    \n",
    ")\n",
    "plt.title('Доля заказов по регионам c наибольшим разнообразием мероприятий')\n",
    "plt.ylabel('Регионы')\n",
    "plt.xlabel('Доля от общего числа заказов (%)')\n",
    "\n",
    "plt.show()"
   ]
  },
  {
   "cell_type": "markdown",
   "id": "f3172512",
   "metadata": {},
   "source": [
    "Наибольшее разнообразие мероприятий предлагают 16 регионов. Наиболее востребованым является Каменевский регион, на него приходится 28% от всех заказов. Второй по популярности является Североярская область, 12% от всех заказов приходится на эту область. Остальные регионы сильно отстают по количеству заказов."
   ]
  },
  {
   "cell_type": "code",
   "execution_count": 58,
   "id": "64d191de",
   "metadata": {},
   "outputs": [
    {
     "data": {
      "text/html": [
       "<div>\n",
       "<style scoped>\n",
       "    .dataframe tbody tr th:only-of-type {\n",
       "        vertical-align: middle;\n",
       "    }\n",
       "\n",
       "    .dataframe tbody tr th {\n",
       "        vertical-align: top;\n",
       "    }\n",
       "\n",
       "    .dataframe thead th {\n",
       "        text-align: right;\n",
       "    }\n",
       "</style>\n",
       "<table border=\"1\" class=\"dataframe\">\n",
       "  <thead>\n",
       "    <tr style=\"text-align: right;\">\n",
       "      <th></th>\n",
       "      <th>service_name</th>\n",
       "      <th>unique_events</th>\n",
       "      <th>total_orders</th>\n",
       "      <th>total_revenue</th>\n",
       "      <th>event_share</th>\n",
       "      <th>order_share</th>\n",
       "      <th>revenue_share</th>\n",
       "    </tr>\n",
       "  </thead>\n",
       "  <tbody>\n",
       "    <tr>\n",
       "      <th>3</th>\n",
       "      <td>Билеты без проблем</td>\n",
       "      <td>7</td>\n",
       "      <td>32383</td>\n",
       "      <td>13538511.75</td>\n",
       "      <td>100.000000</td>\n",
       "      <td>19.206201</td>\n",
       "      <td>16.107998</td>\n",
       "    </tr>\n",
       "    <tr>\n",
       "      <th>24</th>\n",
       "      <td>Мой билет</td>\n",
       "      <td>7</td>\n",
       "      <td>19419</td>\n",
       "      <td>11636878.48</td>\n",
       "      <td>100.000000</td>\n",
       "      <td>11.517315</td>\n",
       "      <td>13.845452</td>\n",
       "    </tr>\n",
       "    <tr>\n",
       "      <th>25</th>\n",
       "      <td>Облачко</td>\n",
       "      <td>7</td>\n",
       "      <td>15478</td>\n",
       "      <td>10611051.69</td>\n",
       "      <td>100.000000</td>\n",
       "      <td>9.179927</td>\n",
       "      <td>12.624933</td>\n",
       "    </tr>\n",
       "    <tr>\n",
       "      <th>21</th>\n",
       "      <td>Лови билет!</td>\n",
       "      <td>7</td>\n",
       "      <td>25792</td>\n",
       "      <td>10376793.48</td>\n",
       "      <td>100.000000</td>\n",
       "      <td>15.297111</td>\n",
       "      <td>12.346215</td>\n",
       "    </tr>\n",
       "    <tr>\n",
       "      <th>8</th>\n",
       "      <td>Весь в билетах</td>\n",
       "      <td>7</td>\n",
       "      <td>9406</td>\n",
       "      <td>9325570.66</td>\n",
       "      <td>100.000000</td>\n",
       "      <td>5.578653</td>\n",
       "      <td>11.095479</td>\n",
       "    </tr>\n",
       "    <tr>\n",
       "      <th>5</th>\n",
       "      <td>Билеты в руки</td>\n",
       "      <td>7</td>\n",
       "      <td>25734</td>\n",
       "      <td>7613965.50</td>\n",
       "      <td>100.000000</td>\n",
       "      <td>15.262712</td>\n",
       "      <td>9.059027</td>\n",
       "    </tr>\n",
       "    <tr>\n",
       "      <th>19</th>\n",
       "      <td>Край билетов</td>\n",
       "      <td>4</td>\n",
       "      <td>2997</td>\n",
       "      <td>3018372.54</td>\n",
       "      <td>57.142857</td>\n",
       "      <td>1.777506</td>\n",
       "      <td>3.591232</td>\n",
       "    </tr>\n",
       "    <tr>\n",
       "      <th>34</th>\n",
       "      <td>Яблоко</td>\n",
       "      <td>7</td>\n",
       "      <td>3473</td>\n",
       "      <td>2763332.31</td>\n",
       "      <td>100.000000</td>\n",
       "      <td>2.059820</td>\n",
       "      <td>3.287788</td>\n",
       "    </tr>\n",
       "    <tr>\n",
       "      <th>26</th>\n",
       "      <td>Прачечная</td>\n",
       "      <td>7</td>\n",
       "      <td>5798</td>\n",
       "      <td>2548310.47</td>\n",
       "      <td>100.000000</td>\n",
       "      <td>3.438766</td>\n",
       "      <td>3.031957</td>\n",
       "    </tr>\n",
       "    <tr>\n",
       "      <th>30</th>\n",
       "      <td>Тебе билет!</td>\n",
       "      <td>7</td>\n",
       "      <td>3749</td>\n",
       "      <td>2137900.34</td>\n",
       "      <td>100.000000</td>\n",
       "      <td>2.223514</td>\n",
       "      <td>2.543654</td>\n",
       "    </tr>\n",
       "  </tbody>\n",
       "</table>\n",
       "</div>"
      ],
      "text/plain": [
       "          service_name  unique_events  total_orders  total_revenue  \\\n",
       "3   Билеты без проблем              7         32383    13538511.75   \n",
       "24           Мой билет              7         19419    11636878.48   \n",
       "25             Облачко              7         15478    10611051.69   \n",
       "21         Лови билет!              7         25792    10376793.48   \n",
       "8       Весь в билетах              7          9406     9325570.66   \n",
       "5        Билеты в руки              7         25734     7613965.50   \n",
       "19        Край билетов              4          2997     3018372.54   \n",
       "34              Яблоко              7          3473     2763332.31   \n",
       "26           Прачечная              7          5798     2548310.47   \n",
       "30         Тебе билет!              7          3749     2137900.34   \n",
       "\n",
       "    event_share  order_share  revenue_share  \n",
       "3    100.000000    19.206201      16.107998  \n",
       "24   100.000000    11.517315      13.845452  \n",
       "25   100.000000     9.179927      12.624933  \n",
       "21   100.000000    15.297111      12.346215  \n",
       "8    100.000000     5.578653      11.095479  \n",
       "5    100.000000    15.262712       9.059027  \n",
       "19    57.142857     1.777506       3.591232  \n",
       "34   100.000000     2.059820       3.287788  \n",
       "26   100.000000     3.438766       3.031957  \n",
       "30   100.000000     2.223514       2.543654  "
      ]
     },
     "metadata": {},
     "output_type": "display_data"
    }
   ],
   "source": [
    "# Анализ билетных операторов\n",
    "partner_metrics = autumn_df.groupby('service_name').agg(\n",
    "    unique_events=('event_type_main', 'nunique'),  # Уникальные мероприятия\n",
    "    total_orders=('order_id', 'count'),  # Общее число заказов\n",
    "    total_revenue=('revenue', 'sum')  # Общая выручка\n",
    ").reset_index()\n",
    "\n",
    "# Добавляем доли\n",
    "partner_metrics['event_share'] = partner_metrics['unique_events'] / total_events * 100\n",
    "partner_metrics['order_share'] = partner_metrics['total_orders'] / total_orders * 100\n",
    "partner_metrics['revenue_share'] = partner_metrics['total_revenue'] / autumn_df['revenue'].sum() * 100\n",
    "\n",
    "# Сортировка по выручке\n",
    "partner_metrics = partner_metrics.sort_values('total_revenue', ascending=False)\n",
    "display(partner_metrics.head(10))"
   ]
  },
  {
   "cell_type": "code",
   "execution_count": null,
   "id": "565fac95",
   "metadata": {},
   "outputs": [],
   "source": [
    "# Визуализация билетных операторов\n",
    "plt.figure(figsize=(12, 6))\n",
    "\n",
    "# Основные метрики \n",
    "sns.barplot(\n",
    "    data=partner_metrics.head(10),  # Топ-10 партнеров\n",
    "    y ='service_name',\n",
    "    x ='total_revenue',\n",
    "    palette='crest_r'\n",
    ")\n",
    "plt.title('Выручка по билетным операторам')\n",
    "plt.xlabel('Суммарная выручка (руб.)')\n",
    "plt.ylabel('Билетный оператор')\n",
    "\n",
    "plt.show()"
   ]
  },
  {
   "cell_type": "markdown",
   "id": "37a76c25",
   "metadata": {},
   "source": [
    "Самый большой показатель по общей выручке наблюдается у билетного оператора 'Билеты без проблем' и составляет 13,5 млн.руб. Вторым по выручке является оператор 'Мой билет', его выручка составляет 11,6 млн.руб."
   ]
  },
  {
   "cell_type": "markdown",
   "id": "f8584838",
   "metadata": {},
   "source": [
    "<a class=\"anchor\" id=\"4-bullet\"></a>\n",
    "## 4. Проверка гипотез"
   ]
  },
  {
   "cell_type": "code",
   "execution_count": 60,
   "id": "b9fa3f45",
   "metadata": {},
   "outputs": [],
   "source": [
    "# Разделим данные на две группы\n",
    "mobile_users = autumn_df[(autumn_df['device_type_canonical'] == 'mobile')]\n",
    "desktop_users = autumn_df[(autumn_df['device_type_canonical'] == 'desktop')]"
   ]
  },
  {
   "cell_type": "code",
   "execution_count": 61,
   "id": "f99d8fea",
   "metadata": {},
   "outputs": [
    {
     "name": "stdout",
     "output_type": "stream",
     "text": [
      "Количество пользователей в группе 'mobile' - 14190. Количество пользователей в группе 'desktop' - 4869\n"
     ]
    }
   ],
   "source": [
    "# Посчитаем количество пользователей\n",
    "user_sample_a = mobile_users['user_id'].nunique()\n",
    "user_sample_b = desktop_users['user_id'].nunique()\n",
    "print(f\"Количество пользователей в группе 'mobile' - {user_sample_a}. Количество пользователей в группе 'desktop' - {user_sample_b}\")"
   ]
  },
  {
   "cell_type": "code",
   "execution_count": 62,
   "id": "9f6d6d40",
   "metadata": {},
   "outputs": [
    {
     "name": "stdout",
     "output_type": "stream",
     "text": [
      "Количество пользователей попавших в обе группы одновременно - 3250\n"
     ]
    }
   ],
   "source": [
    "# Рассчитываем количество пользователей, которые встречаются одновременно в двух группах\n",
    "user_sample_a = mobile_users['user_id']\n",
    "user_sample_b = desktop_users['user_id']\n",
    "intersection = list(set(user_sample_a) & set(user_sample_b))\n",
    "print(f\"Количество пользователей попавших в обе группы одновременно - {len(intersection)}\")"
   ]
  },
  {
   "cell_type": "code",
   "execution_count": 63,
   "id": "3f7e6579",
   "metadata": {},
   "outputs": [
    {
     "name": "stdout",
     "output_type": "stream",
     "text": [
      "Размер датафрейма после удаления - 34469\n"
     ]
    }
   ],
   "source": [
    "# Удаляем пользователей которые есть в обеих группах одновременно\n",
    "filter_autumn_df = autumn_df[~autumn_df['user_id'].isin(intersection)] \n",
    "print(f\"Размер датафрейма после удаления - {len(filter_autumn_df)}\")"
   ]
  },
  {
   "cell_type": "code",
   "execution_count": 64,
   "id": "ce2bd0a3",
   "metadata": {},
   "outputs": [
    {
     "name": "stdout",
     "output_type": "stream",
     "text": [
      "Количество пользователей в группе 'mobile' - 10940. Количество пользователей в группе 'desktop' - 1619\n"
     ]
    }
   ],
   "source": [
    "# Разделим данные на две группы\n",
    "mobile_users = filter_autumn_df[(filter_autumn_df['device_type_canonical'] == 'mobile')]\n",
    "desktop_users = filter_autumn_df[(filter_autumn_df['device_type_canonical'] == 'desktop')]\n",
    "# Рассчитываем количество уникальных пользователей\n",
    "user_sample_a = mobile_users['user_id'].nunique()\n",
    "user_sample_b = desktop_users['user_id'].nunique()\n",
    "print(f\"Количество пользователей в группе 'mobile' - {user_sample_a}. Количество пользователей в группе 'desktop' - {user_sample_b}\")"
   ]
  },
  {
   "cell_type": "markdown",
   "id": "380d55ba",
   "metadata": {},
   "source": [
    "- Между группами наблюдается существенный дисбаланс в количестве пользователей. В группе 'mobile' 10940 пользователей, а в группе 'desktop'  1619.\n",
    "- Для сравнения выборок применим t-тест Уэлча, поскольку наблюдается существенный дисбаланс в размерах тестовых групп."
   ]
  },
  {
   "cell_type": "markdown",
   "id": "3dc9fb83",
   "metadata": {},
   "source": [
    "Проверим гипотезу о том, что среднее количество заказов на одного пользователя мобильного приложения выше по сравнению с пользователями стационарных устройств:\n",
    "\n",
    "- Нулевая гипотеза H₀: Среднее количество заказов на одного пользователя мобильного приложения и пользователя стационарных устройств не различается или статистически не важно.\n",
    "\n",
    "- Альтернативная гипотеза H₁: Среднее количество заказов на одного пользователя мобильного приложения выше чем у пользователей стационарных устройств и это различие статистически важно."
   ]
  },
  {
   "cell_type": "code",
   "execution_count": 65,
   "id": "7dd44064",
   "metadata": {},
   "outputs": [
    {
     "name": "stdout",
     "output_type": "stream",
     "text": [
      "Среднее количество заказов на мобильного пользователя: 2.86\n",
      "Среднее количество заказов на стационарного пользователя: 1.97\n",
      "p-value теста Уэлча =0.0\n",
      "Нулевая гипотеза не находит подтверждения!\n",
      "Интерпретация: Среднее количество заказов на одного пользователя мобильного приложения выше чем у пользователей стационарных устройств и это различие статистически важно\n"
     ]
    }
   ],
   "source": [
    "# Для мобильных пользователей\n",
    "mobile_orders = mobile_users.groupby('user_id').agg(\n",
    "    total_orders=('order_id', 'nunique')\n",
    ").reset_index()\n",
    "\n",
    "# Для стационарных пользователей\n",
    "desktop_orders = desktop_users.groupby('user_id').agg(\n",
    "    total_orders=('order_id', 'nunique')\n",
    ").reset_index()\n",
    "\n",
    "# Проверим средние значения\n",
    "print(f\"Среднее количество заказов на мобильного пользователя: {mobile_orders['total_orders'].mean():.2f}\")\n",
    "print(f\"Среднее количество заказов на стационарного пользователя: {desktop_orders['total_orders'].mean():.2f}\")\n",
    "\n",
    "# Проведем t-тест Уэлча\n",
    "alpha = 0.05\n",
    "\n",
    "stat_welch_ttest, p_value_welch_ttest = ttest_ind(\n",
    "    mobile_orders['total_orders'],\n",
    "    desktop_orders['total_orders'],\n",
    "    equal_var=False,\n",
    "    alternative='greater'\n",
    ")\n",
    "\n",
    "# Интерпретация результатов\n",
    "if p_value_welch_ttest > alpha:\n",
    "    print(f'p-value теста Уэлча ={round(p_value_welch_ttest, 2)}')\n",
    "    print('Нулевая гипотеза находит подтверждение!')\n",
    "    print('Интерпретация: Среднее количество заказов на одного пользователя мобильного приложения и пользователя стационарных устройств не различается или статистически не важно.')\n",
    "else:\n",
    "    print(f'p-value теста Уэлча ={round(p_value_welch_ttest, 2)}')\n",
    "    print('Нулевая гипотеза не находит подтверждения!')\n",
    "    print('Интерпретация: Среднее количество заказов на одного пользователя мобильного приложения выше чем у пользователей стационарных устройств и это различие статистически важно')"
   ]
  },
  {
   "cell_type": "code",
   "execution_count": 66,
   "id": "8780bada",
   "metadata": {},
   "outputs": [
    {
     "name": "stdout",
     "output_type": "stream",
     "text": [
      "Размер получившегося датасета - 13539\n"
     ]
    }
   ],
   "source": [
    "# Отфильтруем данные \n",
    "active_users_df = filter_autumn_df[(filter_autumn_df['days_since_prev'] >= 1)]\n",
    "print(f'Размер получившегося датасета - {len(active_users_df)}')"
   ]
  },
  {
   "cell_type": "code",
   "execution_count": 67,
   "id": "a69d140d",
   "metadata": {},
   "outputs": [
    {
     "name": "stdout",
     "output_type": "stream",
     "text": [
      "Количество пользователей в группе 'mobile' - 5753. Количество пользователей в группе 'desktop' - 620\n"
     ]
    }
   ],
   "source": [
    "# Разделим данные на две группы\n",
    "mobile_users = active_users_df[(active_users_df['device_type_canonical'] == 'mobile')]\n",
    "desktop_users = active_users_df[(active_users_df['device_type_canonical'] == 'desktop')]\n",
    "\n",
    "# Рассчитываем количество уникальных пользователей\n",
    "user_sample_a = mobile_users['user_id'].nunique()\n",
    "user_sample_b = desktop_users['user_id'].nunique()\n",
    "print(f\"Количество пользователей в группе 'mobile' - {user_sample_a}. Количество пользователей в группе 'desktop' - {user_sample_b}\")"
   ]
  },
  {
   "cell_type": "code",
   "execution_count": 68,
   "id": "8ec4db28",
   "metadata": {},
   "outputs": [
    {
     "data": {
      "image/png": "[encoded data removed]",
      "text/plain": [
       "<Figure size 1400x600 with 1 Axes>"
      ]
     },
     "metadata": {},
     "output_type": "display_data"
    }
   ],
   "source": [
    "# Визуализируем распределения для выбора теста\n",
    "plt.figure(figsize=(14, 6))\n",
    "\n",
    "# График для мобильных\n",
    "sns.histplot(mobile_users['days_since_prev'], kde=True)\n",
    "# График для стационарных\n",
    "sns.histplot(desktop_users['days_since_prev'], kde=True)\n",
    "plt.title('Распределение дней между заказами')\n",
    "plt.xlabel('Дни')\n",
    "plt.ylabel('Количество')\n",
    "\n",
    "plt.show()"
   ]
  },
  {
   "cell_type": "markdown",
   "id": "5f9923bc",
   "metadata": {},
   "source": [
    "Распределения имеют ассиметричный вид с правым хвостом, но форма распределения сильно отличается. Для сравнения выборок применим t-тест Уэлча, поскольку наблюдается существенный дисбаланс в размерах тестовых групп"
   ]
  },
  {
   "cell_type": "markdown",
   "id": "ce270e77",
   "metadata": {},
   "source": [
    "Проверим гипотезу о том, что среднее время между заказами пользователей мобильных приложений выше по сравнению с пользователями стационарных устройств:\n",
    "\n",
    "- Нулевая гипотеза H₀: Среднее время между заказами пользователей мобильных приложений и пользователей стационарных устройств не различается или статистически не важно.\n",
    "\n",
    "- Альтернативная гипотеза H₁: Среднее время между заказами пользователей мобильного приложения выше чем у пользователей стационарных устройств и это различие статистически важно."
   ]
  },
  {
   "cell_type": "code",
   "execution_count": 69,
   "id": "7226a891",
   "metadata": {},
   "outputs": [
    {
     "name": "stdout",
     "output_type": "stream",
     "text": [
      "p-value теста Уэлча =1.0\n",
      "Нулевая гипотеза находит подтверждение!\n",
      "Интерпретация: Среднее время между заказами пользователей мобильных приложений и пользователей стационарных устройств не различается или статистически не важно.\n"
     ]
    }
   ],
   "source": [
    "# Рассчитываем количество уникальных пользователей\n",
    "user_sample_a = mobile_users['days_since_prev']\n",
    "user_sample_b = desktop_users['days_since_prev']\n",
    "\n",
    "alpha = 0.05\n",
    "\n",
    "# t-тест Уэлча\n",
    "stat_welch_ttest, p_value_welch_ttest = stats.ttest_ind(\n",
    "    user_sample_a,\n",
    "    user_sample_b,\n",
    "    equal_var=False,\n",
    "    alternative='greater'\n",
    ")\n",
    "\n",
    "\n",
    "# Интерпретация результатов\n",
    "if p_value_welch_ttest > alpha:\n",
    "    print(f'p-value теста Уэлча ={round(p_value_welch_ttest, 2)}')\n",
    "    print('Нулевая гипотеза находит подтверждение!')\n",
    "    print('Интерпретация: Среднее время между заказами пользователей мобильных приложений и пользователей стационарных устройств не различается или статистически не важно.')\n",
    "else:\n",
    "    print(f'p-value теста Уэлча ={round(p_value_welch_ttest, 2)}')\n",
    "    print('Нулевая гипотеза не находит подтверждения!')\n",
    "    print('Интерпретация: Среднее время между заказами пользователей мобильного приложения выше чем у пользователей стационарных устройств и это различие статистически важно')"
   ]
  },
  {
   "cell_type": "markdown",
   "id": "44b278c1",
   "metadata": {},
   "source": [
    "<a class=\"anchor\" id=\"5-bullet\"></a>\n",
    "## 5. Итоговые выводы"
   ]
  },
  {
   "cell_type": "markdown",
   "id": "895340a4",
   "metadata": {},
   "source": [
    "- В ходе исследования проанализировали данные из трех датасетов. В одном из датасетов был стобец с пропускоми, однако эти пропуски были ожидаемы.\n",
    "- В двух датасетах необходимо было заменить тип данных в столбцах где представлена информация о датах с `object` на `datetime64`. Всего таких столбцов было 3.\n",
    "- В одном столбце необходимо было заменить тип данных с `object` на `category`\n",
    "\n",
    "По итогам исследовательского анализа выявлено что:\n",
    "\n",
    "- Сезонность заметна практически во всех показателях.\n",
    "- Осенью заметно вырос спрос на мероприятия : 'Ёлки', 'Театр' и 'Спорт'. \n",
    "- Предпочитаемый тип устройств не меняется в зависимости от сезона. И летом и осенью большая заказов производится с мобильных устройств, на такие заказы приходится практически 60% заказов. \n",
    "- Осенью выручка с одного билета просела в таких категориях как 'Ёлки', 'Театр', 'Концерты'. Однако, в этих же категориях значительно увеличилось количество продаж. Не изменилась выручка за категорию 'Спорт', хотя на нее так же повысился спрос осенью.\n",
    "- Количество заказов осенью растет с резкими колебаниями, на первой неделе месяца и в октябре и в ноябре происходят резкие скачки в общем числе заказов. DAU же показывает более плавное увеличение без резких колебаний и скачков.\n",
    "- Осенью среднее количество заказов на пользователя так же растет с резкими колебаниями, на первой неделе месяца и в сентябре и в октябре происходят резкие скачки. Можно сделать вывод, что в эти недели пользователи ведут себя более активно, количество заказов увеличивает при том же количетсве пользователей.\n",
    "- Средняя стоимость билетов не показывает явный рост или падение на выбранном временном промежутке, но колеблется, а так же имеются резкие падения в начале каждого месяца. Можно предположить, что в эти были акции или распродажи, что повлияло на рост заказов и уменьшение средней стоимости билета. Выделим дни недели и сравним пользовательскую активность в будни и в выходные.\n",
    "- В среднем, пользователи более активны в будние дни (937 пользователей), на выходных спрос на билеты слегка падает(888 пользователей). Среднее количество заказов в будние дни составляет 2906, а в выходные 2396.\n",
    "- Наибольшее разнообразие мероприятий предлагают 16 регионов, в них продают билеты на 7 разных типов мероприятий. Наиболее востребованым является Каменевский регион, на него приходится 28% от всех заказов. Второй по популярности является Североярская область, 12% от всех заказов приходится на эту область. Остальные регионы сильно отстают по количеству заказов.\n",
    "- Самый большой показатель по общей выручке наблюдается у билетного оператора 'Билеты без проблем' и составляет 13,5 млн.руб. Вторым по выручке является оператор 'Мой билет', его выручка составляет 11,6 млн.руб.\n",
    "\n",
    "Были проверены две гипотезы, по результатам котрых выявлено, что:\n",
    "\n",
    "- Среднее количество заказов на одного пользователя мобильного приложения выше чем у пользователей стационарных устройств и это различие статистически важно\n",
    "- Среднее время между заказами пользователей мобильных приложений и пользователей стационарных устройств не различается или статистически не важно."
   ]
  },
  {
   "cell_type": "markdown",
   "id": "617a5c79",
   "metadata": {},
   "source": [
    "Рекомендации:\n",
    "\n",
    "- Разработать специальные акции или маркетинговые активности на популярные направления, в которых заметен рост покупок: 'Ёлки', 'Театр', 'Концерты'. Не направленные на снижение стоимости билета, так как итак наблюдается снижение выручки с билета при росте количества продаж.\n",
    "- Заняться продвижением мероприятий в наиболее активных регионах, таких как Каменевский регион и Североярская область. При этом проанализировать потенциал других регионов в которых наблюдается разнообразие мероприятий(таких регионов еще 14).\n",
    "- Оптимизировать мобильное приложение, так как 60% заказов приходится на мобильные устройства и так как среднее количество заказов на одного пользователя мобильного приложения выше чем у пользователей стационарных устройств. А так же проанализировать поведение таких пользователей для улучшения сервиса. \n",
    "- Усилить активность маркетинга в будние дни, когда пользователи более вовлечены и активны.\n",
    "- Укрепить сотрудничество с ведущими билетными операторами 'Билеты без проблем' и 'Мой билет'. А так же с 'Лови букет!' и 'Билеты в руки', эти операторы хоть и уступают по общей выручке, но являются популярными и по количеству продаж билетов обходят оператора 'Мой билет'."
   ]
  }
 ],
 "metadata": {
  "ExecuteTimeLog": [
   {
    "duration": 1230,
    "start_time": "2025-07-21T09:41:08.990Z"
   },
   {
    "duration": 1963,
    "start_time": "2025-07-21T09:41:10.222Z"
   },
   {
    "duration": 0,
    "start_time": "2025-07-21T09:41:12.189Z"
   },
   {
    "duration": 0,
    "start_time": "2025-07-21T09:41:12.191Z"
   },
   {
    "duration": 0,
    "start_time": "2025-07-21T09:41:12.192Z"
   },
   {
    "duration": 0,
    "start_time": "2025-07-21T09:41:12.194Z"
   },
   {
    "duration": 0,
    "start_time": "2025-07-21T09:41:12.195Z"
   },
   {
    "duration": 0,
    "start_time": "2025-07-21T09:41:12.197Z"
   },
   {
    "duration": 0,
    "start_time": "2025-07-21T09:41:12.198Z"
   },
   {
    "duration": 0,
    "start_time": "2025-07-21T09:41:12.200Z"
   },
   {
    "duration": 0,
    "start_time": "2025-07-21T09:41:12.201Z"
   },
   {
    "duration": 0,
    "start_time": "2025-07-21T09:41:12.203Z"
   },
   {
    "duration": 0,
    "start_time": "2025-07-21T09:41:12.205Z"
   },
   {
    "duration": 0,
    "start_time": "2025-07-21T09:41:12.206Z"
   },
   {
    "duration": 0,
    "start_time": "2025-07-21T09:41:12.207Z"
   },
   {
    "duration": 0,
    "start_time": "2025-07-21T09:41:12.209Z"
   },
   {
    "duration": 0,
    "start_time": "2025-07-21T09:41:12.210Z"
   },
   {
    "duration": 0,
    "start_time": "2025-07-21T09:41:12.212Z"
   },
   {
    "duration": 0,
    "start_time": "2025-07-21T09:41:12.213Z"
   },
   {
    "duration": 0,
    "start_time": "2025-07-21T09:41:12.215Z"
   },
   {
    "duration": 0,
    "start_time": "2025-07-21T09:41:12.217Z"
   },
   {
    "duration": 0,
    "start_time": "2025-07-21T09:41:12.219Z"
   },
   {
    "duration": 0,
    "start_time": "2025-07-21T09:41:12.220Z"
   },
   {
    "duration": 0,
    "start_time": "2025-07-21T09:41:12.222Z"
   },
   {
    "duration": 0,
    "start_time": "2025-07-21T09:41:12.224Z"
   },
   {
    "duration": 0,
    "start_time": "2025-07-21T09:41:12.277Z"
   },
   {
    "duration": 0,
    "start_time": "2025-07-21T09:41:12.278Z"
   },
   {
    "duration": 0,
    "start_time": "2025-07-21T09:41:12.280Z"
   },
   {
    "duration": 1,
    "start_time": "2025-07-21T09:41:12.281Z"
   },
   {
    "duration": 0,
    "start_time": "2025-07-21T09:41:12.283Z"
   },
   {
    "duration": 0,
    "start_time": "2025-07-21T09:41:12.285Z"
   },
   {
    "duration": 0,
    "start_time": "2025-07-21T09:41:12.286Z"
   },
   {
    "duration": 0,
    "start_time": "2025-07-21T09:41:12.287Z"
   },
   {
    "duration": 0,
    "start_time": "2025-07-21T09:41:12.289Z"
   },
   {
    "duration": 0,
    "start_time": "2025-07-21T09:41:12.290Z"
   },
   {
    "duration": 0,
    "start_time": "2025-07-21T09:41:12.292Z"
   },
   {
    "duration": 0,
    "start_time": "2025-07-21T09:41:12.293Z"
   },
   {
    "duration": 0,
    "start_time": "2025-07-21T09:41:12.295Z"
   },
   {
    "duration": 0,
    "start_time": "2025-07-21T09:41:12.297Z"
   },
   {
    "duration": 0,
    "start_time": "2025-07-21T09:41:12.298Z"
   },
   {
    "duration": 0,
    "start_time": "2025-07-21T09:41:12.299Z"
   },
   {
    "duration": 0,
    "start_time": "2025-07-21T09:41:12.301Z"
   },
   {
    "duration": 0,
    "start_time": "2025-07-21T09:41:12.302Z"
   },
   {
    "duration": 1,
    "start_time": "2025-07-21T09:41:12.303Z"
   },
   {
    "duration": 0,
    "start_time": "2025-07-21T09:41:12.305Z"
   },
   {
    "duration": 0,
    "start_time": "2025-07-21T09:41:12.306Z"
   },
   {
    "duration": 0,
    "start_time": "2025-07-21T09:41:12.307Z"
   },
   {
    "duration": 0,
    "start_time": "2025-07-21T09:41:12.308Z"
   },
   {
    "duration": 0,
    "start_time": "2025-07-21T09:41:12.310Z"
   },
   {
    "duration": 0,
    "start_time": "2025-07-21T09:41:12.311Z"
   },
   {
    "duration": 0,
    "start_time": "2025-07-21T09:41:12.312Z"
   },
   {
    "duration": 0,
    "start_time": "2025-07-21T09:41:12.313Z"
   },
   {
    "duration": 0,
    "start_time": "2025-07-21T09:41:12.313Z"
   },
   {
    "duration": 0,
    "start_time": "2025-07-21T09:41:12.314Z"
   },
   {
    "duration": 0,
    "start_time": "2025-07-21T09:41:12.376Z"
   },
   {
    "duration": 0,
    "start_time": "2025-07-21T09:41:12.378Z"
   },
   {
    "duration": 0,
    "start_time": "2025-07-21T09:41:12.379Z"
   },
   {
    "duration": 0,
    "start_time": "2025-07-21T09:41:12.380Z"
   },
   {
    "duration": 0,
    "start_time": "2025-07-21T09:41:12.381Z"
   },
   {
    "duration": 0,
    "start_time": "2025-07-21T09:41:12.382Z"
   },
   {
    "duration": 0,
    "start_time": "2025-07-21T09:41:12.383Z"
   },
   {
    "duration": 0,
    "start_time": "2025-07-21T09:41:12.384Z"
   },
   {
    "duration": 0,
    "start_time": "2025-07-21T09:41:12.385Z"
   },
   {
    "duration": 0,
    "start_time": "2025-07-21T09:41:12.386Z"
   },
   {
    "duration": 964,
    "start_time": "2025-07-21T09:42:13.872Z"
   },
   {
    "duration": 1333,
    "start_time": "2025-07-21T09:42:21.291Z"
   },
   {
    "duration": 1956,
    "start_time": "2025-07-21T09:42:22.626Z"
   },
   {
    "duration": 0,
    "start_time": "2025-07-21T09:42:24.586Z"
   },
   {
    "duration": 0,
    "start_time": "2025-07-21T09:42:24.587Z"
   },
   {
    "duration": 0,
    "start_time": "2025-07-21T09:42:24.588Z"
   },
   {
    "duration": 0,
    "start_time": "2025-07-21T09:42:24.589Z"
   },
   {
    "duration": 0,
    "start_time": "2025-07-21T09:42:24.590Z"
   },
   {
    "duration": 0,
    "start_time": "2025-07-21T09:42:24.591Z"
   },
   {
    "duration": 0,
    "start_time": "2025-07-21T09:42:24.593Z"
   },
   {
    "duration": 0,
    "start_time": "2025-07-21T09:42:24.594Z"
   },
   {
    "duration": 0,
    "start_time": "2025-07-21T09:42:24.595Z"
   },
   {
    "duration": 0,
    "start_time": "2025-07-21T09:42:24.596Z"
   },
   {
    "duration": 0,
    "start_time": "2025-07-21T09:42:24.597Z"
   },
   {
    "duration": 0,
    "start_time": "2025-07-21T09:42:24.598Z"
   },
   {
    "duration": 1,
    "start_time": "2025-07-21T09:42:24.599Z"
   },
   {
    "duration": 0,
    "start_time": "2025-07-21T09:42:24.601Z"
   },
   {
    "duration": 0,
    "start_time": "2025-07-21T09:42:24.602Z"
   },
   {
    "duration": 0,
    "start_time": "2025-07-21T09:42:24.604Z"
   },
   {
    "duration": 0,
    "start_time": "2025-07-21T09:42:24.605Z"
   },
   {
    "duration": 0,
    "start_time": "2025-07-21T09:42:24.606Z"
   },
   {
    "duration": 0,
    "start_time": "2025-07-21T09:42:24.608Z"
   },
   {
    "duration": 0,
    "start_time": "2025-07-21T09:42:24.609Z"
   },
   {
    "duration": 0,
    "start_time": "2025-07-21T09:42:24.611Z"
   },
   {
    "duration": 0,
    "start_time": "2025-07-21T09:42:24.612Z"
   },
   {
    "duration": 0,
    "start_time": "2025-07-21T09:42:24.614Z"
   },
   {
    "duration": 0,
    "start_time": "2025-07-21T09:42:24.615Z"
   },
   {
    "duration": 1,
    "start_time": "2025-07-21T09:42:24.616Z"
   },
   {
    "duration": 0,
    "start_time": "2025-07-21T09:42:24.618Z"
   },
   {
    "duration": 0,
    "start_time": "2025-07-21T09:42:24.619Z"
   },
   {
    "duration": 0,
    "start_time": "2025-07-21T09:42:24.620Z"
   },
   {
    "duration": 0,
    "start_time": "2025-07-21T09:42:24.622Z"
   },
   {
    "duration": 0,
    "start_time": "2025-07-21T09:42:24.680Z"
   },
   {
    "duration": 0,
    "start_time": "2025-07-21T09:42:24.681Z"
   },
   {
    "duration": 0,
    "start_time": "2025-07-21T09:42:24.682Z"
   },
   {
    "duration": 0,
    "start_time": "2025-07-21T09:42:24.684Z"
   },
   {
    "duration": 0,
    "start_time": "2025-07-21T09:42:24.684Z"
   },
   {
    "duration": 0,
    "start_time": "2025-07-21T09:42:24.686Z"
   },
   {
    "duration": 0,
    "start_time": "2025-07-21T09:42:24.687Z"
   },
   {
    "duration": 0,
    "start_time": "2025-07-21T09:42:24.688Z"
   },
   {
    "duration": 0,
    "start_time": "2025-07-21T09:42:24.689Z"
   },
   {
    "duration": 0,
    "start_time": "2025-07-21T09:42:24.690Z"
   },
   {
    "duration": 0,
    "start_time": "2025-07-21T09:42:24.691Z"
   },
   {
    "duration": 0,
    "start_time": "2025-07-21T09:42:24.693Z"
   },
   {
    "duration": 0,
    "start_time": "2025-07-21T09:42:24.694Z"
   },
   {
    "duration": 0,
    "start_time": "2025-07-21T09:42:24.695Z"
   },
   {
    "duration": 0,
    "start_time": "2025-07-21T09:42:24.696Z"
   },
   {
    "duration": 0,
    "start_time": "2025-07-21T09:42:24.697Z"
   },
   {
    "duration": 0,
    "start_time": "2025-07-21T09:42:24.698Z"
   },
   {
    "duration": 0,
    "start_time": "2025-07-21T09:42:24.699Z"
   },
   {
    "duration": 0,
    "start_time": "2025-07-21T09:42:24.701Z"
   },
   {
    "duration": 0,
    "start_time": "2025-07-21T09:42:24.701Z"
   },
   {
    "duration": 0,
    "start_time": "2025-07-21T09:42:24.703Z"
   },
   {
    "duration": 0,
    "start_time": "2025-07-21T09:42:24.704Z"
   },
   {
    "duration": 0,
    "start_time": "2025-07-21T09:42:24.705Z"
   },
   {
    "duration": 0,
    "start_time": "2025-07-21T09:42:24.706Z"
   },
   {
    "duration": 0,
    "start_time": "2025-07-21T09:42:24.709Z"
   },
   {
    "duration": 0,
    "start_time": "2025-07-21T09:42:24.710Z"
   },
   {
    "duration": 0,
    "start_time": "2025-07-21T09:42:24.711Z"
   },
   {
    "duration": 0,
    "start_time": "2025-07-21T09:42:24.712Z"
   },
   {
    "duration": 0,
    "start_time": "2025-07-21T09:42:24.776Z"
   },
   {
    "duration": 0,
    "start_time": "2025-07-21T09:42:24.777Z"
   },
   {
    "duration": 0,
    "start_time": "2025-07-21T09:42:24.778Z"
   },
   {
    "duration": 0,
    "start_time": "2025-07-21T09:42:24.779Z"
   },
   {
    "duration": 0,
    "start_time": "2025-07-21T09:42:24.781Z"
   },
   {
    "duration": 1300,
    "start_time": "2025-07-21T09:43:51.612Z"
   },
   {
    "duration": 1186,
    "start_time": "2025-07-21T09:43:52.914Z"
   },
   {
    "duration": 18,
    "start_time": "2025-07-21T09:43:54.102Z"
   },
   {
    "duration": 263,
    "start_time": "2025-07-21T09:43:54.123Z"
   },
   {
    "duration": 12,
    "start_time": "2025-07-21T09:43:54.388Z"
   },
   {
    "duration": 94,
    "start_time": "2025-07-21T09:43:54.402Z"
   },
   {
    "duration": 23,
    "start_time": "2025-07-21T09:43:54.498Z"
   },
   {
    "duration": 61,
    "start_time": "2025-07-21T09:43:54.523Z"
   },
   {
    "duration": 532,
    "start_time": "2025-07-21T09:43:54.586Z"
   },
   {
    "duration": 221,
    "start_time": "2025-07-21T09:43:55.178Z"
   },
   {
    "duration": 116,
    "start_time": "2025-07-21T09:43:55.401Z"
   },
   {
    "duration": 28,
    "start_time": "2025-07-21T09:43:55.518Z"
   },
   {
    "duration": 65,
    "start_time": "2025-07-21T09:43:55.548Z"
   },
   {
    "duration": 6,
    "start_time": "2025-07-21T09:43:55.614Z"
   },
   {
    "duration": 168,
    "start_time": "2025-07-21T09:43:55.622Z"
   },
   {
    "duration": 483,
    "start_time": "2025-07-21T09:43:55.792Z"
   },
   {
    "duration": 77,
    "start_time": "2025-07-21T09:43:56.276Z"
   },
   {
    "duration": 331,
    "start_time": "2025-07-21T09:43:56.355Z"
   },
   {
    "duration": 4,
    "start_time": "2025-07-21T09:43:56.688Z"
   },
   {
    "duration": 176,
    "start_time": "2025-07-21T09:43:56.693Z"
   },
   {
    "duration": 18,
    "start_time": "2025-07-21T09:43:56.870Z"
   },
   {
    "duration": 1555,
    "start_time": "2025-07-21T09:43:56.890Z"
   },
   {
    "duration": 407,
    "start_time": "2025-07-21T09:43:58.446Z"
   },
   {
    "duration": 393,
    "start_time": "2025-07-21T09:43:58.854Z"
   },
   {
    "duration": 14,
    "start_time": "2025-07-21T09:43:59.249Z"
   },
   {
    "duration": 1408,
    "start_time": "2025-07-21T09:43:59.277Z"
   },
   {
    "duration": 327,
    "start_time": "2025-07-21T09:44:00.687Z"
   },
   {
    "duration": 27,
    "start_time": "2025-07-21T09:44:01.018Z"
   },
   {
    "duration": 50,
    "start_time": "2025-07-21T09:44:01.047Z"
   },
   {
    "duration": 314,
    "start_time": "2025-07-21T09:44:01.098Z"
   },
   {
    "duration": 144,
    "start_time": "2025-07-21T09:44:01.414Z"
   },
   {
    "duration": 17,
    "start_time": "2025-07-21T09:44:01.560Z"
   },
   {
    "duration": 242,
    "start_time": "2025-07-21T09:44:01.579Z"
   },
   {
    "duration": 253,
    "start_time": "2025-07-21T09:44:01.823Z"
   },
   {
    "duration": 100,
    "start_time": "2025-07-21T09:44:02.078Z"
   },
   {
    "duration": 345,
    "start_time": "2025-07-21T09:44:02.180Z"
   },
   {
    "duration": 1418,
    "start_time": "2025-07-21T10:05:50.209Z"
   },
   {
    "duration": 956,
    "start_time": "2025-07-21T10:05:51.630Z"
   },
   {
    "duration": 18,
    "start_time": "2025-07-21T10:05:52.588Z"
   },
   {
    "duration": 104,
    "start_time": "2025-07-21T10:05:52.608Z"
   },
   {
    "duration": 12,
    "start_time": "2025-07-21T10:05:52.713Z"
   },
   {
    "duration": 36,
    "start_time": "2025-07-21T10:05:52.726Z"
   },
   {
    "duration": 21,
    "start_time": "2025-07-21T10:05:52.763Z"
   },
   {
    "duration": 25,
    "start_time": "2025-07-21T10:05:52.786Z"
   },
   {
    "duration": 285,
    "start_time": "2025-07-21T10:05:52.813Z"
   },
   {
    "duration": 208,
    "start_time": "2025-07-21T10:05:53.101Z"
   },
   {
    "duration": 122,
    "start_time": "2025-07-21T10:05:53.310Z"
   },
   {
    "duration": 38,
    "start_time": "2025-07-21T10:05:53.433Z"
   },
   {
    "duration": 43,
    "start_time": "2025-07-21T10:05:53.473Z"
   },
   {
    "duration": 6,
    "start_time": "2025-07-21T10:05:53.519Z"
   },
   {
    "duration": 181,
    "start_time": "2025-07-21T10:05:53.527Z"
   },
   {
    "duration": 486,
    "start_time": "2025-07-21T10:05:53.710Z"
   },
   {
    "duration": 92,
    "start_time": "2025-07-21T10:05:54.198Z"
   },
   {
    "duration": 217,
    "start_time": "2025-07-21T10:05:54.292Z"
   },
   {
    "duration": 3,
    "start_time": "2025-07-21T10:05:54.511Z"
   },
   {
    "duration": 81,
    "start_time": "2025-07-21T10:05:54.516Z"
   },
   {
    "duration": 18,
    "start_time": "2025-07-21T10:05:54.599Z"
   },
   {
    "duration": 1483,
    "start_time": "2025-07-21T10:05:54.619Z"
   },
   {
    "duration": 445,
    "start_time": "2025-07-21T10:05:56.104Z"
   },
   {
    "duration": 392,
    "start_time": "2025-07-21T10:05:56.551Z"
   },
   {
    "duration": 14,
    "start_time": "2025-07-21T10:05:56.945Z"
   },
   {
    "duration": 1402,
    "start_time": "2025-07-21T10:05:56.961Z"
   },
   {
    "duration": 323,
    "start_time": "2025-07-21T10:05:58.365Z"
   },
   {
    "duration": 26,
    "start_time": "2025-07-21T10:05:58.692Z"
   },
   {
    "duration": 15,
    "start_time": "2025-07-21T10:05:58.720Z"
   },
   {
    "duration": 262,
    "start_time": "2025-07-21T10:05:58.737Z"
   },
   {
    "duration": 124,
    "start_time": "2025-07-21T10:05:59.001Z"
   },
   {
    "duration": 8,
    "start_time": "2025-07-21T10:05:59.127Z"
   },
   {
    "duration": 282,
    "start_time": "2025-07-21T10:05:59.137Z"
   },
   {
    "duration": 217,
    "start_time": "2025-07-21T10:05:59.420Z"
   },
   {
    "duration": 98,
    "start_time": "2025-07-21T10:05:59.639Z"
   },
   {
    "duration": 369,
    "start_time": "2025-07-21T10:05:59.739Z"
   },
   {
    "duration": 5401,
    "start_time": "2025-07-21T10:06:00.110Z"
   },
   {
    "duration": 29,
    "start_time": "2025-07-21T10:06:05.513Z"
   },
   {
    "duration": 8414,
    "start_time": "2025-07-21T10:06:05.544Z"
   },
   {
    "duration": 13,
    "start_time": "2025-07-21T10:06:13.960Z"
   },
   {
    "duration": 214,
    "start_time": "2025-07-21T10:06:13.975Z"
   },
   {
    "duration": 204,
    "start_time": "2025-07-21T10:06:14.191Z"
   },
   {
    "duration": 210,
    "start_time": "2025-07-21T10:06:14.397Z"
   },
   {
    "duration": 39,
    "start_time": "2025-07-21T10:06:14.609Z"
   },
   {
    "duration": 187,
    "start_time": "2025-07-21T10:06:14.650Z"
   },
   {
    "duration": 113,
    "start_time": "2025-07-21T10:06:14.839Z"
   },
   {
    "duration": 256,
    "start_time": "2025-07-21T10:06:14.954Z"
   },
   {
    "duration": 171,
    "start_time": "2025-07-21T10:06:15.213Z"
   },
   {
    "duration": 176,
    "start_time": "2025-07-21T10:06:15.386Z"
   },
   {
    "duration": 179,
    "start_time": "2025-07-21T10:06:15.564Z"
   },
   {
    "duration": 136,
    "start_time": "2025-07-21T10:06:15.745Z"
   },
   {
    "duration": 405,
    "start_time": "2025-07-21T10:06:15.883Z"
   },
   {
    "duration": 116,
    "start_time": "2025-07-21T10:06:16.290Z"
   },
   {
    "duration": 218,
    "start_time": "2025-07-21T10:06:16.408Z"
   },
   {
    "duration": 184,
    "start_time": "2025-07-21T10:06:16.627Z"
   },
   {
    "duration": 28,
    "start_time": "2025-07-21T10:06:16.813Z"
   },
   {
    "duration": 29,
    "start_time": "2025-07-21T10:06:16.843Z"
   },
   {
    "duration": 36,
    "start_time": "2025-07-21T10:06:16.874Z"
   },
   {
    "duration": 31,
    "start_time": "2025-07-21T10:06:16.912Z"
   },
   {
    "duration": 38,
    "start_time": "2025-07-21T10:06:16.945Z"
   },
   {
    "duration": 8,
    "start_time": "2025-07-21T10:06:16.984Z"
   },
   {
    "duration": 28,
    "start_time": "2025-07-21T10:06:16.993Z"
   },
   {
    "duration": 509,
    "start_time": "2025-07-21T10:06:17.023Z"
   },
   {
    "duration": 6,
    "start_time": "2025-07-21T10:06:17.533Z"
   },
   {
    "duration": 1443,
    "start_time": "2025-07-21T13:07:18.969Z"
   },
   {
    "duration": 946,
    "start_time": "2025-07-21T13:07:20.414Z"
   },
   {
    "duration": 18,
    "start_time": "2025-07-21T13:07:21.362Z"
   },
   {
    "duration": 107,
    "start_time": "2025-07-21T13:07:21.383Z"
   },
   {
    "duration": 11,
    "start_time": "2025-07-21T13:07:21.492Z"
   },
   {
    "duration": 28,
    "start_time": "2025-07-21T13:07:21.504Z"
   },
   {
    "duration": 12,
    "start_time": "2025-07-21T13:07:21.533Z"
   },
   {
    "duration": 46,
    "start_time": "2025-07-21T13:07:21.546Z"
   },
   {
    "duration": 279,
    "start_time": "2025-07-21T13:07:21.593Z"
   },
   {
    "duration": 194,
    "start_time": "2025-07-21T13:07:21.875Z"
   },
   {
    "duration": 113,
    "start_time": "2025-07-21T13:07:22.071Z"
   },
   {
    "duration": 34,
    "start_time": "2025-07-21T13:07:22.185Z"
   },
   {
    "duration": 59,
    "start_time": "2025-07-21T13:07:22.221Z"
   },
   {
    "duration": 7,
    "start_time": "2025-07-21T13:07:22.282Z"
   },
   {
    "duration": 264,
    "start_time": "2025-07-21T13:07:22.291Z"
   },
   {
    "duration": 448,
    "start_time": "2025-07-21T13:07:22.556Z"
   },
   {
    "duration": 174,
    "start_time": "2025-07-21T13:07:23.005Z"
   },
   {
    "duration": 295,
    "start_time": "2025-07-21T13:07:23.180Z"
   },
   {
    "duration": 4,
    "start_time": "2025-07-21T13:07:23.477Z"
   },
   {
    "duration": 91,
    "start_time": "2025-07-21T13:07:23.483Z"
   },
   {
    "duration": 17,
    "start_time": "2025-07-21T13:07:23.576Z"
   },
   {
    "duration": 1377,
    "start_time": "2025-07-21T13:07:23.595Z"
   },
   {
    "duration": 380,
    "start_time": "2025-07-21T13:07:24.974Z"
   },
   {
    "duration": 358,
    "start_time": "2025-07-21T13:07:25.357Z"
   },
   {
    "duration": 13,
    "start_time": "2025-07-21T13:07:25.717Z"
   },
   {
    "duration": 1439,
    "start_time": "2025-07-21T13:07:25.732Z"
   },
   {
    "duration": 308,
    "start_time": "2025-07-21T13:07:27.173Z"
   },
   {
    "duration": 26,
    "start_time": "2025-07-21T13:07:27.486Z"
   },
   {
    "duration": 9,
    "start_time": "2025-07-21T13:07:27.514Z"
   },
   {
    "duration": 246,
    "start_time": "2025-07-21T13:07:27.525Z"
   },
   {
    "duration": 129,
    "start_time": "2025-07-21T13:07:27.773Z"
   },
   {
    "duration": 9,
    "start_time": "2025-07-21T13:07:27.904Z"
   },
   {
    "duration": 235,
    "start_time": "2025-07-21T13:07:27.915Z"
   },
   {
    "duration": 219,
    "start_time": "2025-07-21T13:07:28.152Z"
   },
   {
    "duration": 103,
    "start_time": "2025-07-21T13:07:28.374Z"
   },
   {
    "duration": 362,
    "start_time": "2025-07-21T13:07:28.478Z"
   },
   {
    "duration": 5439,
    "start_time": "2025-07-21T13:07:28.841Z"
   },
   {
    "duration": 28,
    "start_time": "2025-07-21T13:07:34.282Z"
   },
   {
    "duration": 8447,
    "start_time": "2025-07-21T13:07:34.312Z"
   },
   {
    "duration": 13,
    "start_time": "2025-07-21T13:07:42.760Z"
   },
   {
    "duration": 256,
    "start_time": "2025-07-21T13:07:42.774Z"
   },
   {
    "duration": 193,
    "start_time": "2025-07-21T13:07:43.032Z"
   },
   {
    "duration": 198,
    "start_time": "2025-07-21T13:07:43.226Z"
   },
   {
    "duration": 46,
    "start_time": "2025-07-21T13:07:43.426Z"
   },
   {
    "duration": 171,
    "start_time": "2025-07-21T13:07:43.474Z"
   },
   {
    "duration": 115,
    "start_time": "2025-07-21T13:07:43.646Z"
   },
   {
    "duration": 258,
    "start_time": "2025-07-21T13:07:43.762Z"
   },
   {
    "duration": 161,
    "start_time": "2025-07-21T13:07:44.022Z"
   },
   {
    "duration": 175,
    "start_time": "2025-07-21T13:07:44.185Z"
   },
   {
    "duration": 165,
    "start_time": "2025-07-21T13:07:44.362Z"
   },
   {
    "duration": 133,
    "start_time": "2025-07-21T13:07:44.529Z"
   },
   {
    "duration": 420,
    "start_time": "2025-07-21T13:07:44.663Z"
   },
   {
    "duration": 123,
    "start_time": "2025-07-21T13:07:45.085Z"
   },
   {
    "duration": 208,
    "start_time": "2025-07-21T13:07:45.210Z"
   },
   {
    "duration": 191,
    "start_time": "2025-07-21T13:07:45.420Z"
   },
   {
    "duration": 28,
    "start_time": "2025-07-21T13:07:45.613Z"
   },
   {
    "duration": 30,
    "start_time": "2025-07-21T13:07:45.642Z"
   },
   {
    "duration": 49,
    "start_time": "2025-07-21T13:07:45.674Z"
   },
   {
    "duration": 156,
    "start_time": "2025-07-21T13:07:45.725Z"
   },
   {
    "duration": 70,
    "start_time": "2025-07-21T13:07:45.882Z"
   },
   {
    "duration": 7,
    "start_time": "2025-07-21T13:07:45.954Z"
   },
   {
    "duration": 38,
    "start_time": "2025-07-21T13:07:45.963Z"
   },
   {
    "duration": 445,
    "start_time": "2025-07-21T13:07:46.002Z"
   },
   {
    "duration": 7,
    "start_time": "2025-07-21T13:07:46.449Z"
   },
   {
    "duration": 1217,
    "start_time": "2025-07-21T13:15:50.392Z"
   },
   {
    "duration": 941,
    "start_time": "2025-07-21T13:15:51.611Z"
   },
   {
    "duration": 17,
    "start_time": "2025-07-21T13:15:52.554Z"
   },
   {
    "duration": 163,
    "start_time": "2025-07-21T13:15:52.572Z"
   },
   {
    "duration": 12,
    "start_time": "2025-07-21T13:15:52.736Z"
   },
   {
    "duration": 127,
    "start_time": "2025-07-21T13:15:52.750Z"
   },
   {
    "duration": 8,
    "start_time": "2025-07-21T13:15:52.880Z"
   },
   {
    "duration": 25,
    "start_time": "2025-07-21T13:15:52.890Z"
   },
   {
    "duration": 294,
    "start_time": "2025-07-21T13:15:52.917Z"
   },
   {
    "duration": 205,
    "start_time": "2025-07-21T13:15:53.215Z"
   },
   {
    "duration": 114,
    "start_time": "2025-07-21T13:15:53.422Z"
   },
   {
    "duration": 34,
    "start_time": "2025-07-21T13:15:53.537Z"
   },
   {
    "duration": 32,
    "start_time": "2025-07-21T13:15:53.573Z"
   },
   {
    "duration": 6,
    "start_time": "2025-07-21T13:15:53.607Z"
   },
   {
    "duration": 176,
    "start_time": "2025-07-21T13:15:53.614Z"
   },
   {
    "duration": 447,
    "start_time": "2025-07-21T13:15:53.792Z"
   },
   {
    "duration": 179,
    "start_time": "2025-07-21T13:15:54.241Z"
   },
   {
    "duration": 299,
    "start_time": "2025-07-21T13:15:54.422Z"
   },
   {
    "duration": 3,
    "start_time": "2025-07-21T13:15:54.723Z"
   },
   {
    "duration": 184,
    "start_time": "2025-07-21T13:15:54.728Z"
   },
   {
    "duration": 18,
    "start_time": "2025-07-21T13:15:54.913Z"
   },
   {
    "duration": 1350,
    "start_time": "2025-07-21T13:15:54.933Z"
   },
   {
    "duration": 372,
    "start_time": "2025-07-21T13:15:56.285Z"
   },
   {
    "duration": 349,
    "start_time": "2025-07-21T13:15:56.658Z"
   },
   {
    "duration": 13,
    "start_time": "2025-07-21T13:15:57.009Z"
   },
   {
    "duration": 1352,
    "start_time": "2025-07-21T13:15:57.023Z"
   },
   {
    "duration": 319,
    "start_time": "2025-07-21T13:15:58.377Z"
   },
   {
    "duration": 25,
    "start_time": "2025-07-21T13:15:58.700Z"
   },
   {
    "duration": 138,
    "start_time": "2025-07-21T13:15:58.726Z"
   },
   {
    "duration": 220,
    "start_time": "2025-07-21T13:15:58.866Z"
   },
   {
    "duration": 119,
    "start_time": "2025-07-21T13:15:59.088Z"
   },
   {
    "duration": 9,
    "start_time": "2025-07-21T13:15:59.208Z"
   },
   {
    "duration": 237,
    "start_time": "2025-07-21T13:15:59.219Z"
   },
   {
    "duration": 218,
    "start_time": "2025-07-21T13:15:59.457Z"
   },
   {
    "duration": 95,
    "start_time": "2025-07-21T13:15:59.677Z"
   },
   {
    "duration": 359,
    "start_time": "2025-07-21T13:15:59.774Z"
   },
   {
    "duration": 5407,
    "start_time": "2025-07-21T13:16:00.135Z"
   },
   {
    "duration": 35,
    "start_time": "2025-07-21T13:16:05.544Z"
   },
   {
    "duration": 8289,
    "start_time": "2025-07-21T13:16:05.581Z"
   },
   {
    "duration": 8,
    "start_time": "2025-07-21T13:16:13.872Z"
   },
   {
    "duration": 211,
    "start_time": "2025-07-21T13:16:13.882Z"
   },
   {
    "duration": 188,
    "start_time": "2025-07-21T13:16:14.094Z"
   },
   {
    "duration": 196,
    "start_time": "2025-07-21T13:16:14.284Z"
   },
   {
    "duration": 36,
    "start_time": "2025-07-21T13:16:14.482Z"
   },
   {
    "duration": 183,
    "start_time": "2025-07-21T13:16:14.520Z"
   },
   {
    "duration": 117,
    "start_time": "2025-07-21T13:16:14.704Z"
   },
   {
    "duration": 270,
    "start_time": "2025-07-21T13:16:14.823Z"
   },
   {
    "duration": 162,
    "start_time": "2025-07-21T13:16:15.095Z"
   },
   {
    "duration": 183,
    "start_time": "2025-07-21T13:16:15.259Z"
   },
   {
    "duration": 183,
    "start_time": "2025-07-21T13:16:15.444Z"
   },
   {
    "duration": 137,
    "start_time": "2025-07-21T13:16:15.628Z"
   },
   {
    "duration": 440,
    "start_time": "2025-07-21T13:16:15.767Z"
   },
   {
    "duration": 123,
    "start_time": "2025-07-21T13:16:16.209Z"
   },
   {
    "duration": 210,
    "start_time": "2025-07-21T13:16:16.334Z"
   },
   {
    "duration": 183,
    "start_time": "2025-07-21T13:16:16.545Z"
   },
   {
    "duration": 27,
    "start_time": "2025-07-21T13:16:16.730Z"
   },
   {
    "duration": 139,
    "start_time": "2025-07-21T13:16:16.771Z"
   },
   {
    "duration": 34,
    "start_time": "2025-07-21T13:16:16.912Z"
   },
   {
    "duration": 32,
    "start_time": "2025-07-21T13:16:16.947Z"
   },
   {
    "duration": 33,
    "start_time": "2025-07-21T13:16:16.981Z"
   },
   {
    "duration": 7,
    "start_time": "2025-07-21T13:16:17.015Z"
   },
   {
    "duration": 25,
    "start_time": "2025-07-21T13:16:17.024Z"
   },
   {
    "duration": 479,
    "start_time": "2025-07-21T13:16:17.051Z"
   },
   {
    "duration": 6,
    "start_time": "2025-07-21T13:16:17.532Z"
   },
   {
    "duration": 1238,
    "start_time": "2025-07-21T13:26:08.010Z"
   },
   {
    "duration": 966,
    "start_time": "2025-07-21T13:26:09.250Z"
   },
   {
    "duration": 19,
    "start_time": "2025-07-21T13:26:10.217Z"
   },
   {
    "duration": 114,
    "start_time": "2025-07-21T13:26:10.238Z"
   },
   {
    "duration": 22,
    "start_time": "2025-07-21T13:26:10.354Z"
   },
   {
    "duration": 23,
    "start_time": "2025-07-21T13:26:10.379Z"
   },
   {
    "duration": 80,
    "start_time": "2025-07-21T13:26:10.403Z"
   },
   {
    "duration": 25,
    "start_time": "2025-07-21T13:26:10.485Z"
   },
   {
    "duration": 294,
    "start_time": "2025-07-21T13:26:10.512Z"
   },
   {
    "duration": 234,
    "start_time": "2025-07-21T13:26:10.810Z"
   },
   {
    "duration": 114,
    "start_time": "2025-07-21T13:26:11.046Z"
   },
   {
    "duration": 34,
    "start_time": "2025-07-21T13:26:11.162Z"
   },
   {
    "duration": 33,
    "start_time": "2025-07-21T13:26:11.198Z"
   },
   {
    "duration": 8,
    "start_time": "2025-07-21T13:26:11.232Z"
   },
   {
    "duration": 196,
    "start_time": "2025-07-21T13:26:11.241Z"
   },
   {
    "duration": 462,
    "start_time": "2025-07-21T13:26:11.439Z"
   },
   {
    "duration": 178,
    "start_time": "2025-07-21T13:26:11.902Z"
   },
   {
    "duration": 325,
    "start_time": "2025-07-21T13:26:12.082Z"
   },
   {
    "duration": 5,
    "start_time": "2025-07-21T13:26:12.409Z"
   },
   {
    "duration": 125,
    "start_time": "2025-07-21T13:26:12.415Z"
   },
   {
    "duration": 17,
    "start_time": "2025-07-21T13:26:12.541Z"
   },
   {
    "duration": 1349,
    "start_time": "2025-07-21T13:26:12.560Z"
   },
   {
    "duration": 391,
    "start_time": "2025-07-21T13:26:13.910Z"
   },
   {
    "duration": 368,
    "start_time": "2025-07-21T13:26:14.303Z"
   },
   {
    "duration": 12,
    "start_time": "2025-07-21T13:26:14.673Z"
   },
   {
    "duration": 1344,
    "start_time": "2025-07-21T13:26:14.687Z"
   },
   {
    "duration": 320,
    "start_time": "2025-07-21T13:26:16.033Z"
   },
   {
    "duration": 29,
    "start_time": "2025-07-21T13:26:16.357Z"
   },
   {
    "duration": 97,
    "start_time": "2025-07-21T13:26:16.387Z"
   },
   {
    "duration": 219,
    "start_time": "2025-07-21T13:26:16.486Z"
   },
   {
    "duration": 122,
    "start_time": "2025-07-21T13:26:16.706Z"
   },
   {
    "duration": 9,
    "start_time": "2025-07-21T13:26:16.829Z"
   },
   {
    "duration": 277,
    "start_time": "2025-07-21T13:26:16.839Z"
   },
   {
    "duration": 212,
    "start_time": "2025-07-21T13:26:17.118Z"
   },
   {
    "duration": 99,
    "start_time": "2025-07-21T13:26:17.331Z"
   },
   {
    "duration": 365,
    "start_time": "2025-07-21T13:26:17.432Z"
   },
   {
    "duration": 5336,
    "start_time": "2025-07-21T13:26:17.799Z"
   },
   {
    "duration": 34,
    "start_time": "2025-07-21T13:26:23.137Z"
   },
   {
    "duration": 8264,
    "start_time": "2025-07-21T13:26:23.173Z"
   },
   {
    "duration": 8,
    "start_time": "2025-07-21T13:26:31.439Z"
   },
   {
    "duration": 201,
    "start_time": "2025-07-21T13:26:31.449Z"
   },
   {
    "duration": 205,
    "start_time": "2025-07-21T13:26:31.652Z"
   },
   {
    "duration": 199,
    "start_time": "2025-07-21T13:26:31.858Z"
   },
   {
    "duration": 40,
    "start_time": "2025-07-21T13:26:32.059Z"
   },
   {
    "duration": 197,
    "start_time": "2025-07-21T13:26:32.100Z"
   },
   {
    "duration": 117,
    "start_time": "2025-07-21T13:26:32.299Z"
   },
   {
    "duration": 264,
    "start_time": "2025-07-21T13:26:32.418Z"
   },
   {
    "duration": 172,
    "start_time": "2025-07-21T13:26:32.684Z"
   },
   {
    "duration": 166,
    "start_time": "2025-07-21T13:26:32.857Z"
   },
   {
    "duration": 166,
    "start_time": "2025-07-21T13:26:33.025Z"
   },
   {
    "duration": 128,
    "start_time": "2025-07-21T13:26:33.192Z"
   },
   {
    "duration": 394,
    "start_time": "2025-07-21T13:26:33.321Z"
   },
   {
    "duration": 118,
    "start_time": "2025-07-21T13:26:33.717Z"
   },
   {
    "duration": 205,
    "start_time": "2025-07-21T13:26:33.836Z"
   },
   {
    "duration": 184,
    "start_time": "2025-07-21T13:26:34.042Z"
   },
   {
    "duration": 26,
    "start_time": "2025-07-21T13:26:34.228Z"
   },
   {
    "duration": 31,
    "start_time": "2025-07-21T13:26:34.256Z"
   },
   {
    "duration": 27,
    "start_time": "2025-07-21T13:26:34.289Z"
   },
   {
    "duration": 30,
    "start_time": "2025-07-21T13:26:34.317Z"
   },
   {
    "duration": 44,
    "start_time": "2025-07-21T13:26:34.349Z"
   },
   {
    "duration": 8,
    "start_time": "2025-07-21T13:26:34.395Z"
   },
   {
    "duration": 113,
    "start_time": "2025-07-21T13:26:34.404Z"
   },
   {
    "duration": 476,
    "start_time": "2025-07-21T13:26:34.518Z"
   },
   {
    "duration": 7,
    "start_time": "2025-07-21T13:26:34.997Z"
   },
   {
    "duration": 1235,
    "start_time": "2025-07-21T13:33:49.381Z"
   },
   {
    "duration": 971,
    "start_time": "2025-07-21T13:33:50.618Z"
   },
   {
    "duration": 19,
    "start_time": "2025-07-21T13:33:51.593Z"
   },
   {
    "duration": 115,
    "start_time": "2025-07-21T13:33:51.613Z"
   },
   {
    "duration": 12,
    "start_time": "2025-07-21T13:33:51.729Z"
   },
   {
    "duration": 36,
    "start_time": "2025-07-21T13:33:51.743Z"
   },
   {
    "duration": 10,
    "start_time": "2025-07-21T13:33:51.780Z"
   },
   {
    "duration": 23,
    "start_time": "2025-07-21T13:33:51.791Z"
   },
   {
    "duration": 298,
    "start_time": "2025-07-21T13:33:51.818Z"
   },
   {
    "duration": 246,
    "start_time": "2025-07-21T13:33:52.118Z"
   },
   {
    "duration": 114,
    "start_time": "2025-07-21T13:33:52.366Z"
   },
   {
    "duration": 28,
    "start_time": "2025-07-21T13:33:52.482Z"
   },
   {
    "duration": 67,
    "start_time": "2025-07-21T13:33:52.512Z"
   },
   {
    "duration": 6,
    "start_time": "2025-07-21T13:33:52.581Z"
   },
   {
    "duration": 175,
    "start_time": "2025-07-21T13:33:52.588Z"
   },
   {
    "duration": 459,
    "start_time": "2025-07-21T13:33:52.765Z"
   },
   {
    "duration": 186,
    "start_time": "2025-07-21T13:33:53.226Z"
   },
   {
    "duration": 311,
    "start_time": "2025-07-21T13:33:53.414Z"
   },
   {
    "duration": 4,
    "start_time": "2025-07-21T13:33:53.727Z"
   },
   {
    "duration": 82,
    "start_time": "2025-07-21T13:33:53.733Z"
   },
   {
    "duration": 19,
    "start_time": "2025-07-21T13:33:53.817Z"
   },
   {
    "duration": 1472,
    "start_time": "2025-07-21T13:33:53.838Z"
   },
   {
    "duration": 396,
    "start_time": "2025-07-21T13:33:55.312Z"
   },
   {
    "duration": 383,
    "start_time": "2025-07-21T13:33:55.710Z"
   },
   {
    "duration": 15,
    "start_time": "2025-07-21T13:33:56.095Z"
   },
   {
    "duration": 1340,
    "start_time": "2025-07-21T13:33:56.112Z"
   },
   {
    "duration": 311,
    "start_time": "2025-07-21T13:33:57.457Z"
   },
   {
    "duration": 27,
    "start_time": "2025-07-21T13:33:57.771Z"
   },
   {
    "duration": 44,
    "start_time": "2025-07-21T13:33:57.800Z"
   },
   {
    "duration": 215,
    "start_time": "2025-07-21T13:33:57.847Z"
   },
   {
    "duration": 127,
    "start_time": "2025-07-21T13:33:58.064Z"
   },
   {
    "duration": 9,
    "start_time": "2025-07-21T13:33:58.194Z"
   },
   {
    "duration": 236,
    "start_time": "2025-07-21T13:33:58.205Z"
   },
   {
    "duration": 213,
    "start_time": "2025-07-21T13:33:58.443Z"
   },
   {
    "duration": 92,
    "start_time": "2025-07-21T13:33:58.658Z"
   },
   {
    "duration": 377,
    "start_time": "2025-07-21T13:33:58.753Z"
   },
   {
    "duration": 5342,
    "start_time": "2025-07-21T13:33:59.133Z"
   },
   {
    "duration": 29,
    "start_time": "2025-07-21T13:34:04.477Z"
   },
   {
    "duration": 8545,
    "start_time": "2025-07-21T13:34:04.508Z"
   },
   {
    "duration": 19,
    "start_time": "2025-07-21T13:34:13.055Z"
   },
   {
    "duration": 218,
    "start_time": "2025-07-21T13:34:13.076Z"
   },
   {
    "duration": 197,
    "start_time": "2025-07-21T13:34:13.295Z"
   },
   {
    "duration": 209,
    "start_time": "2025-07-21T13:34:13.494Z"
   },
   {
    "duration": 36,
    "start_time": "2025-07-21T13:34:13.705Z"
   },
   {
    "duration": 183,
    "start_time": "2025-07-21T13:34:13.742Z"
   },
   {
    "duration": 119,
    "start_time": "2025-07-21T13:34:13.927Z"
   },
   {
    "duration": 266,
    "start_time": "2025-07-21T13:34:14.048Z"
   },
   {
    "duration": 161,
    "start_time": "2025-07-21T13:34:14.316Z"
   },
   {
    "duration": 168,
    "start_time": "2025-07-21T13:34:14.479Z"
   },
   {
    "duration": 173,
    "start_time": "2025-07-21T13:34:14.649Z"
   },
   {
    "duration": 136,
    "start_time": "2025-07-21T13:34:14.823Z"
   },
   {
    "duration": 414,
    "start_time": "2025-07-21T13:34:14.960Z"
   },
   {
    "duration": 125,
    "start_time": "2025-07-21T13:34:15.375Z"
   },
   {
    "duration": 221,
    "start_time": "2025-07-21T13:34:15.501Z"
   },
   {
    "duration": 187,
    "start_time": "2025-07-21T13:34:15.724Z"
   },
   {
    "duration": 28,
    "start_time": "2025-07-21T13:34:15.913Z"
   },
   {
    "duration": 78,
    "start_time": "2025-07-21T13:34:15.942Z"
   },
   {
    "duration": 20,
    "start_time": "2025-07-21T13:34:16.022Z"
   },
   {
    "duration": 35,
    "start_time": "2025-07-21T13:34:16.044Z"
   },
   {
    "duration": 37,
    "start_time": "2025-07-21T13:34:16.082Z"
   },
   {
    "duration": 10,
    "start_time": "2025-07-21T13:34:16.121Z"
   },
   {
    "duration": 37,
    "start_time": "2025-07-21T13:34:16.134Z"
   },
   {
    "duration": 560,
    "start_time": "2025-07-21T13:34:16.173Z"
   },
   {
    "duration": 7,
    "start_time": "2025-07-21T13:34:16.736Z"
   },
   {
    "duration": 1287,
    "start_time": "2025-07-21T13:36:09.040Z"
   },
   {
    "duration": 961,
    "start_time": "2025-07-21T13:36:10.329Z"
   },
   {
    "duration": 20,
    "start_time": "2025-07-21T13:36:11.292Z"
   },
   {
    "duration": 106,
    "start_time": "2025-07-21T13:36:11.315Z"
   },
   {
    "duration": 12,
    "start_time": "2025-07-21T13:36:11.423Z"
   },
   {
    "duration": 34,
    "start_time": "2025-07-21T13:36:11.437Z"
   },
   {
    "duration": 30,
    "start_time": "2025-07-21T13:36:11.473Z"
   },
   {
    "duration": 32,
    "start_time": "2025-07-21T13:36:11.504Z"
   },
   {
    "duration": 320,
    "start_time": "2025-07-21T13:36:11.537Z"
   },
   {
    "duration": 220,
    "start_time": "2025-07-21T13:36:11.861Z"
   },
   {
    "duration": 118,
    "start_time": "2025-07-21T13:36:12.082Z"
   },
   {
    "duration": 49,
    "start_time": "2025-07-21T13:36:12.204Z"
   },
   {
    "duration": 50,
    "start_time": "2025-07-21T13:36:12.255Z"
   },
   {
    "duration": 5,
    "start_time": "2025-07-21T13:36:12.307Z"
   },
   {
    "duration": 189,
    "start_time": "2025-07-21T13:36:12.314Z"
   },
   {
    "duration": 548,
    "start_time": "2025-07-21T13:36:12.504Z"
   },
   {
    "duration": 213,
    "start_time": "2025-07-21T13:36:13.054Z"
   },
   {
    "duration": 330,
    "start_time": "2025-07-21T13:36:13.272Z"
   },
   {
    "duration": 4,
    "start_time": "2025-07-21T13:36:13.604Z"
   },
   {
    "duration": 76,
    "start_time": "2025-07-21T13:36:13.609Z"
   },
   {
    "duration": 18,
    "start_time": "2025-07-21T13:36:13.686Z"
   },
   {
    "duration": 1410,
    "start_time": "2025-07-21T13:36:13.706Z"
   },
   {
    "duration": 418,
    "start_time": "2025-07-21T13:36:15.119Z"
   },
   {
    "duration": 410,
    "start_time": "2025-07-21T13:36:15.539Z"
   },
   {
    "duration": 24,
    "start_time": "2025-07-21T13:36:15.950Z"
   },
   {
    "duration": 1458,
    "start_time": "2025-07-21T13:36:15.975Z"
   },
   {
    "duration": 321,
    "start_time": "2025-07-21T13:36:17.434Z"
   },
   {
    "duration": 30,
    "start_time": "2025-07-21T13:36:17.759Z"
   },
   {
    "duration": 72,
    "start_time": "2025-07-21T13:36:17.791Z"
   },
   {
    "duration": 253,
    "start_time": "2025-07-21T13:36:17.864Z"
   },
   {
    "duration": 131,
    "start_time": "2025-07-21T13:36:18.119Z"
   },
   {
    "duration": 8,
    "start_time": "2025-07-21T13:36:18.252Z"
   },
   {
    "duration": 242,
    "start_time": "2025-07-21T13:36:18.262Z"
   },
   {
    "duration": 220,
    "start_time": "2025-07-21T13:36:18.506Z"
   },
   {
    "duration": 99,
    "start_time": "2025-07-21T13:36:18.728Z"
   },
   {
    "duration": 363,
    "start_time": "2025-07-21T13:36:18.828Z"
   },
   {
    "duration": 5407,
    "start_time": "2025-07-21T13:36:19.193Z"
   },
   {
    "duration": 28,
    "start_time": "2025-07-21T13:36:24.602Z"
   },
   {
    "duration": 8479,
    "start_time": "2025-07-21T13:36:24.631Z"
   },
   {
    "duration": 10,
    "start_time": "2025-07-21T13:36:33.111Z"
   },
   {
    "duration": 237,
    "start_time": "2025-07-21T13:36:33.122Z"
   },
   {
    "duration": 203,
    "start_time": "2025-07-21T13:36:33.361Z"
   },
   {
    "duration": 207,
    "start_time": "2025-07-21T13:36:33.566Z"
   },
   {
    "duration": 42,
    "start_time": "2025-07-21T13:36:33.775Z"
   },
   {
    "duration": 199,
    "start_time": "2025-07-21T13:36:33.819Z"
   },
   {
    "duration": 124,
    "start_time": "2025-07-21T13:36:34.020Z"
   },
   {
    "duration": 286,
    "start_time": "2025-07-21T13:36:34.146Z"
   },
   {
    "duration": 161,
    "start_time": "2025-07-21T13:36:34.434Z"
   },
   {
    "duration": 185,
    "start_time": "2025-07-21T13:36:34.597Z"
   },
   {
    "duration": 179,
    "start_time": "2025-07-21T13:36:34.783Z"
   },
   {
    "duration": 138,
    "start_time": "2025-07-21T13:36:34.964Z"
   },
   {
    "duration": 397,
    "start_time": "2025-07-21T13:36:35.104Z"
   },
   {
    "duration": 122,
    "start_time": "2025-07-21T13:36:35.503Z"
   },
   {
    "duration": 218,
    "start_time": "2025-07-21T13:36:35.626Z"
   },
   {
    "duration": 196,
    "start_time": "2025-07-21T13:36:35.846Z"
   },
   {
    "duration": 40,
    "start_time": "2025-07-21T13:36:36.044Z"
   },
   {
    "duration": 20,
    "start_time": "2025-07-21T13:36:36.086Z"
   },
   {
    "duration": 28,
    "start_time": "2025-07-21T13:36:36.108Z"
   },
   {
    "duration": 50,
    "start_time": "2025-07-21T13:36:36.138Z"
   },
   {
    "duration": 38,
    "start_time": "2025-07-21T13:36:36.190Z"
   },
   {
    "duration": 13,
    "start_time": "2025-07-21T13:36:36.230Z"
   },
   {
    "duration": 40,
    "start_time": "2025-07-21T13:36:36.245Z"
   },
   {
    "duration": 448,
    "start_time": "2025-07-21T13:36:36.287Z"
   },
   {
    "duration": 7,
    "start_time": "2025-07-21T13:36:36.736Z"
   },
   {
    "duration": 1562,
    "start_time": "2025-07-22T08:54:55.659Z"
   },
   {
    "duration": 943,
    "start_time": "2025-07-22T08:54:57.223Z"
   },
   {
    "duration": 19,
    "start_time": "2025-07-22T08:54:58.168Z"
   },
   {
    "duration": 112,
    "start_time": "2025-07-22T08:54:58.189Z"
   },
   {
    "duration": 11,
    "start_time": "2025-07-22T08:54:58.303Z"
   },
   {
    "duration": 82,
    "start_time": "2025-07-22T08:54:58.316Z"
   },
   {
    "duration": 16,
    "start_time": "2025-07-22T08:54:58.399Z"
   },
   {
    "duration": 13,
    "start_time": "2025-07-22T08:54:58.417Z"
   },
   {
    "duration": 291,
    "start_time": "2025-07-22T08:54:58.432Z"
   },
   {
    "duration": 222,
    "start_time": "2025-07-22T08:54:58.726Z"
   },
   {
    "duration": 143,
    "start_time": "2025-07-22T08:54:58.950Z"
   },
   {
    "duration": 103,
    "start_time": "2025-07-22T08:54:59.095Z"
   },
   {
    "duration": 32,
    "start_time": "2025-07-22T08:54:59.200Z"
   },
   {
    "duration": 8,
    "start_time": "2025-07-22T08:54:59.234Z"
   },
   {
    "duration": 187,
    "start_time": "2025-07-22T08:54:59.244Z"
   },
   {
    "duration": 459,
    "start_time": "2025-07-22T08:54:59.433Z"
   },
   {
    "duration": 217,
    "start_time": "2025-07-22T08:54:59.894Z"
   },
   {
    "duration": 347,
    "start_time": "2025-07-22T08:55:00.113Z"
   },
   {
    "duration": 4,
    "start_time": "2025-07-22T08:55:00.462Z"
   },
   {
    "duration": 77,
    "start_time": "2025-07-22T08:55:00.468Z"
   },
   {
    "duration": 49,
    "start_time": "2025-07-22T08:55:00.548Z"
   },
   {
    "duration": 1587,
    "start_time": "2025-07-22T08:55:00.600Z"
   },
   {
    "duration": 467,
    "start_time": "2025-07-22T08:55:02.189Z"
   },
   {
    "duration": 398,
    "start_time": "2025-07-22T08:55:02.660Z"
   },
   {
    "duration": 13,
    "start_time": "2025-07-22T08:55:03.060Z"
   },
   {
    "duration": 1548,
    "start_time": "2025-07-22T08:55:03.074Z"
   },
   {
    "duration": 330,
    "start_time": "2025-07-22T08:55:04.624Z"
   },
   {
    "duration": 27,
    "start_time": "2025-07-22T08:55:04.963Z"
   },
   {
    "duration": 72,
    "start_time": "2025-07-22T08:55:04.991Z"
   },
   {
    "duration": 243,
    "start_time": "2025-07-22T08:55:05.064Z"
   },
   {
    "duration": 129,
    "start_time": "2025-07-22T08:55:05.309Z"
   },
   {
    "duration": 9,
    "start_time": "2025-07-22T08:55:05.439Z"
   },
   {
    "duration": 244,
    "start_time": "2025-07-22T08:55:05.449Z"
   },
   {
    "duration": 246,
    "start_time": "2025-07-22T08:55:05.695Z"
   },
   {
    "duration": 103,
    "start_time": "2025-07-22T08:55:05.944Z"
   },
   {
    "duration": 380,
    "start_time": "2025-07-22T08:55:06.049Z"
   },
   {
    "duration": 5605,
    "start_time": "2025-07-22T08:55:06.431Z"
   },
   {
    "duration": 40,
    "start_time": "2025-07-22T08:55:12.038Z"
   },
   {
    "duration": 8964,
    "start_time": "2025-07-22T08:55:12.080Z"
   },
   {
    "duration": 23,
    "start_time": "2025-07-22T08:55:21.046Z"
   },
   {
    "duration": 233,
    "start_time": "2025-07-22T08:55:21.071Z"
   },
   {
    "duration": 215,
    "start_time": "2025-07-22T08:55:21.306Z"
   },
   {
    "duration": 218,
    "start_time": "2025-07-22T08:55:21.523Z"
   },
   {
    "duration": 48,
    "start_time": "2025-07-22T08:55:21.742Z"
   },
   {
    "duration": 194,
    "start_time": "2025-07-22T08:55:21.792Z"
   },
   {
    "duration": 126,
    "start_time": "2025-07-22T08:55:21.989Z"
   },
   {
    "duration": 283,
    "start_time": "2025-07-22T08:55:22.117Z"
   },
   {
    "duration": 174,
    "start_time": "2025-07-22T08:55:22.402Z"
   },
   {
    "duration": 188,
    "start_time": "2025-07-22T08:55:22.579Z"
   },
   {
    "duration": 206,
    "start_time": "2025-07-22T08:55:22.769Z"
   },
   {
    "duration": 144,
    "start_time": "2025-07-22T08:55:22.978Z"
   },
   {
    "duration": 439,
    "start_time": "2025-07-22T08:55:23.124Z"
   },
   {
    "duration": 131,
    "start_time": "2025-07-22T08:55:23.565Z"
   },
   {
    "duration": 80,
    "start_time": "2025-07-22T08:55:23.698Z"
   },
   {
    "duration": 0,
    "start_time": "2025-07-22T08:55:23.780Z"
   },
   {
    "duration": 0,
    "start_time": "2025-07-22T08:55:23.781Z"
   },
   {
    "duration": 0,
    "start_time": "2025-07-22T08:55:23.783Z"
   },
   {
    "duration": 0,
    "start_time": "2025-07-22T08:55:23.784Z"
   },
   {
    "duration": 0,
    "start_time": "2025-07-22T08:55:23.785Z"
   },
   {
    "duration": 0,
    "start_time": "2025-07-22T08:55:23.786Z"
   },
   {
    "duration": 0,
    "start_time": "2025-07-22T08:55:23.787Z"
   },
   {
    "duration": 0,
    "start_time": "2025-07-22T08:55:23.789Z"
   },
   {
    "duration": 0,
    "start_time": "2025-07-22T08:55:23.790Z"
   },
   {
    "duration": 0,
    "start_time": "2025-07-22T08:55:23.792Z"
   },
   {
    "duration": 1305,
    "start_time": "2025-07-22T09:05:38.215Z"
   },
   {
    "duration": 1006,
    "start_time": "2025-07-22T09:05:39.522Z"
   },
   {
    "duration": 21,
    "start_time": "2025-07-22T09:05:40.531Z"
   },
   {
    "duration": 106,
    "start_time": "2025-07-22T09:05:40.555Z"
   },
   {
    "duration": 13,
    "start_time": "2025-07-22T09:05:40.663Z"
   },
   {
    "duration": 21,
    "start_time": "2025-07-22T09:05:40.678Z"
   },
   {
    "duration": 10,
    "start_time": "2025-07-22T09:05:40.701Z"
   },
   {
    "duration": 48,
    "start_time": "2025-07-22T09:05:40.713Z"
   },
   {
    "duration": 300,
    "start_time": "2025-07-22T09:05:40.763Z"
   },
   {
    "duration": 225,
    "start_time": "2025-07-22T09:05:41.067Z"
   },
   {
    "duration": 119,
    "start_time": "2025-07-22T09:05:41.294Z"
   },
   {
    "duration": 37,
    "start_time": "2025-07-22T09:05:41.415Z"
   },
   {
    "duration": 44,
    "start_time": "2025-07-22T09:05:41.454Z"
   },
   {
    "duration": 8,
    "start_time": "2025-07-22T09:05:41.499Z"
   },
   {
    "duration": 212,
    "start_time": "2025-07-22T09:05:41.509Z"
   },
   {
    "duration": 497,
    "start_time": "2025-07-22T09:05:41.723Z"
   },
   {
    "duration": 262,
    "start_time": "2025-07-22T09:05:42.223Z"
   },
   {
    "duration": 342,
    "start_time": "2025-07-22T09:05:42.486Z"
   },
   {
    "duration": 5,
    "start_time": "2025-07-22T09:05:42.829Z"
   },
   {
    "duration": 87,
    "start_time": "2025-07-22T09:05:42.836Z"
   },
   {
    "duration": 46,
    "start_time": "2025-07-22T09:05:42.925Z"
   },
   {
    "duration": 1682,
    "start_time": "2025-07-22T09:05:42.972Z"
   },
   {
    "duration": 449,
    "start_time": "2025-07-22T09:05:44.655Z"
   },
   {
    "duration": 431,
    "start_time": "2025-07-22T09:05:45.106Z"
   },
   {
    "duration": 31,
    "start_time": "2025-07-22T09:05:45.539Z"
   },
   {
    "duration": 1553,
    "start_time": "2025-07-22T09:05:45.572Z"
   },
   {
    "duration": 354,
    "start_time": "2025-07-22T09:05:47.127Z"
   },
   {
    "duration": 28,
    "start_time": "2025-07-22T09:05:47.486Z"
   },
   {
    "duration": 16,
    "start_time": "2025-07-22T09:05:47.517Z"
   },
   {
    "duration": 272,
    "start_time": "2025-07-22T09:05:47.536Z"
   },
   {
    "duration": 138,
    "start_time": "2025-07-22T09:05:47.810Z"
   },
   {
    "duration": 15,
    "start_time": "2025-07-22T09:05:47.951Z"
   },
   {
    "duration": 263,
    "start_time": "2025-07-22T09:05:47.968Z"
   },
   {
    "duration": 239,
    "start_time": "2025-07-22T09:05:48.234Z"
   },
   {
    "duration": 219,
    "start_time": "2025-07-22T09:05:48.475Z"
   },
   {
    "duration": 0,
    "start_time": "2025-07-22T09:05:48.695Z"
   },
   {
    "duration": 0,
    "start_time": "2025-07-22T09:05:48.697Z"
   },
   {
    "duration": 0,
    "start_time": "2025-07-22T09:05:48.697Z"
   },
   {
    "duration": 0,
    "start_time": "2025-07-22T09:05:48.698Z"
   },
   {
    "duration": 0,
    "start_time": "2025-07-22T09:05:48.700Z"
   },
   {
    "duration": 0,
    "start_time": "2025-07-22T09:05:48.701Z"
   },
   {
    "duration": 0,
    "start_time": "2025-07-22T09:05:48.702Z"
   },
   {
    "duration": 0,
    "start_time": "2025-07-22T09:05:48.703Z"
   },
   {
    "duration": 0,
    "start_time": "2025-07-22T09:05:48.704Z"
   },
   {
    "duration": 1,
    "start_time": "2025-07-22T09:05:48.705Z"
   },
   {
    "duration": 0,
    "start_time": "2025-07-22T09:05:48.707Z"
   },
   {
    "duration": 0,
    "start_time": "2025-07-22T09:05:48.708Z"
   },
   {
    "duration": 0,
    "start_time": "2025-07-22T09:05:48.709Z"
   },
   {
    "duration": 0,
    "start_time": "2025-07-22T09:05:48.711Z"
   },
   {
    "duration": 0,
    "start_time": "2025-07-22T09:05:48.712Z"
   },
   {
    "duration": 0,
    "start_time": "2025-07-22T09:05:48.713Z"
   },
   {
    "duration": 0,
    "start_time": "2025-07-22T09:05:48.715Z"
   },
   {
    "duration": 0,
    "start_time": "2025-07-22T09:05:48.716Z"
   },
   {
    "duration": 0,
    "start_time": "2025-07-22T09:05:48.718Z"
   },
   {
    "duration": 0,
    "start_time": "2025-07-22T09:05:48.760Z"
   },
   {
    "duration": 0,
    "start_time": "2025-07-22T09:05:48.762Z"
   },
   {
    "duration": 0,
    "start_time": "2025-07-22T09:05:48.763Z"
   },
   {
    "duration": 0,
    "start_time": "2025-07-22T09:05:48.765Z"
   },
   {
    "duration": 0,
    "start_time": "2025-07-22T09:05:48.766Z"
   },
   {
    "duration": 0,
    "start_time": "2025-07-22T09:05:48.767Z"
   },
   {
    "duration": 0,
    "start_time": "2025-07-22T09:05:48.769Z"
   },
   {
    "duration": 0,
    "start_time": "2025-07-22T09:05:48.770Z"
   },
   {
    "duration": 0,
    "start_time": "2025-07-22T09:05:48.771Z"
   },
   {
    "duration": 0,
    "start_time": "2025-07-22T09:05:48.772Z"
   },
   {
    "duration": 1400,
    "start_time": "2025-07-22T09:06:29.990Z"
   },
   {
    "duration": 1044,
    "start_time": "2025-07-22T09:06:31.392Z"
   },
   {
    "duration": 20,
    "start_time": "2025-07-22T09:06:32.438Z"
   },
   {
    "duration": 114,
    "start_time": "2025-07-22T09:06:32.460Z"
   },
   {
    "duration": 14,
    "start_time": "2025-07-22T09:06:32.576Z"
   },
   {
    "duration": 37,
    "start_time": "2025-07-22T09:06:32.591Z"
   },
   {
    "duration": 38,
    "start_time": "2025-07-22T09:06:32.630Z"
   },
   {
    "duration": 35,
    "start_time": "2025-07-22T09:06:32.670Z"
   },
   {
    "duration": 307,
    "start_time": "2025-07-22T09:06:32.707Z"
   },
   {
    "duration": 235,
    "start_time": "2025-07-22T09:06:33.017Z"
   },
   {
    "duration": 125,
    "start_time": "2025-07-22T09:06:33.254Z"
   },
   {
    "duration": 31,
    "start_time": "2025-07-22T09:06:33.381Z"
   },
   {
    "duration": 46,
    "start_time": "2025-07-22T09:06:33.414Z"
   },
   {
    "duration": 17,
    "start_time": "2025-07-22T09:06:33.462Z"
   },
   {
    "duration": 188,
    "start_time": "2025-07-22T09:06:33.481Z"
   },
   {
    "duration": 490,
    "start_time": "2025-07-22T09:06:33.671Z"
   },
   {
    "duration": 220,
    "start_time": "2025-07-22T09:06:34.163Z"
   },
   {
    "duration": 379,
    "start_time": "2025-07-22T09:06:34.386Z"
   },
   {
    "duration": 4,
    "start_time": "2025-07-22T09:06:34.768Z"
   },
   {
    "duration": 98,
    "start_time": "2025-07-22T09:06:34.774Z"
   },
   {
    "duration": 23,
    "start_time": "2025-07-22T09:06:34.874Z"
   },
   {
    "duration": 1617,
    "start_time": "2025-07-22T09:06:34.899Z"
   },
   {
    "duration": 433,
    "start_time": "2025-07-22T09:06:36.517Z"
   },
   {
    "duration": 408,
    "start_time": "2025-07-22T09:06:36.959Z"
   },
   {
    "duration": 17,
    "start_time": "2025-07-22T09:06:37.369Z"
   },
   {
    "duration": 1488,
    "start_time": "2025-07-22T09:06:37.388Z"
   },
   {
    "duration": 384,
    "start_time": "2025-07-22T09:06:38.878Z"
   },
   {
    "duration": 29,
    "start_time": "2025-07-22T09:06:39.268Z"
   },
   {
    "duration": 9,
    "start_time": "2025-07-22T09:06:39.300Z"
   },
   {
    "duration": 266,
    "start_time": "2025-07-22T09:06:39.310Z"
   },
   {
    "duration": 144,
    "start_time": "2025-07-22T09:06:39.578Z"
   },
   {
    "duration": 14,
    "start_time": "2025-07-22T09:06:39.724Z"
   },
   {
    "duration": 260,
    "start_time": "2025-07-22T09:06:39.740Z"
   },
   {
    "duration": 240,
    "start_time": "2025-07-22T09:06:40.002Z"
   },
   {
    "duration": 108,
    "start_time": "2025-07-22T09:06:40.244Z"
   },
   {
    "duration": 379,
    "start_time": "2025-07-22T09:06:40.354Z"
   },
   {
    "duration": 5914,
    "start_time": "2025-07-22T09:06:40.735Z"
   },
   {
    "duration": 50,
    "start_time": "2025-07-22T09:06:46.651Z"
   },
   {
    "duration": 9251,
    "start_time": "2025-07-22T09:06:46.703Z"
   },
   {
    "duration": 10,
    "start_time": "2025-07-22T09:06:55.960Z"
   },
   {
    "duration": 247,
    "start_time": "2025-07-22T09:06:55.972Z"
   },
   {
    "duration": 219,
    "start_time": "2025-07-22T09:06:56.221Z"
   },
   {
    "duration": 232,
    "start_time": "2025-07-22T09:06:56.442Z"
   },
   {
    "duration": 44,
    "start_time": "2025-07-22T09:06:56.676Z"
   },
   {
    "duration": 213,
    "start_time": "2025-07-22T09:06:56.722Z"
   },
   {
    "duration": 123,
    "start_time": "2025-07-22T09:06:56.937Z"
   },
   {
    "duration": 293,
    "start_time": "2025-07-22T09:06:57.062Z"
   },
   {
    "duration": 191,
    "start_time": "2025-07-22T09:06:57.360Z"
   },
   {
    "duration": 184,
    "start_time": "2025-07-22T09:06:57.561Z"
   },
   {
    "duration": 193,
    "start_time": "2025-07-22T09:06:57.747Z"
   },
   {
    "duration": 150,
    "start_time": "2025-07-22T09:06:57.942Z"
   },
   {
    "duration": 412,
    "start_time": "2025-07-22T09:06:58.094Z"
   },
   {
    "duration": 141,
    "start_time": "2025-07-22T09:06:58.508Z"
   },
   {
    "duration": 142,
    "start_time": "2025-07-22T09:06:58.650Z"
   },
   {
    "duration": 0,
    "start_time": "2025-07-22T09:06:58.794Z"
   },
   {
    "duration": 0,
    "start_time": "2025-07-22T09:06:58.795Z"
   },
   {
    "duration": 0,
    "start_time": "2025-07-22T09:06:58.797Z"
   },
   {
    "duration": 0,
    "start_time": "2025-07-22T09:06:58.798Z"
   },
   {
    "duration": 0,
    "start_time": "2025-07-22T09:06:58.799Z"
   },
   {
    "duration": 0,
    "start_time": "2025-07-22T09:06:58.800Z"
   },
   {
    "duration": 0,
    "start_time": "2025-07-22T09:06:58.802Z"
   },
   {
    "duration": 0,
    "start_time": "2025-07-22T09:06:58.804Z"
   },
   {
    "duration": 0,
    "start_time": "2025-07-22T09:06:58.805Z"
   },
   {
    "duration": 0,
    "start_time": "2025-07-22T09:06:58.807Z"
   },
   {
    "duration": 1340,
    "start_time": "2025-07-22T09:51:06.978Z"
   },
   {
    "duration": 983,
    "start_time": "2025-07-22T09:51:08.319Z"
   },
   {
    "duration": 19,
    "start_time": "2025-07-22T09:51:09.304Z"
   },
   {
    "duration": 132,
    "start_time": "2025-07-22T09:51:09.325Z"
   },
   {
    "duration": 12,
    "start_time": "2025-07-22T09:51:09.459Z"
   },
   {
    "duration": 21,
    "start_time": "2025-07-22T09:51:09.473Z"
   },
   {
    "duration": 8,
    "start_time": "2025-07-22T09:51:09.496Z"
   },
   {
    "duration": 14,
    "start_time": "2025-07-22T09:51:09.506Z"
   },
   {
    "duration": 301,
    "start_time": "2025-07-22T09:51:09.522Z"
   },
   {
    "duration": 216,
    "start_time": "2025-07-22T09:51:09.826Z"
   },
   {
    "duration": 124,
    "start_time": "2025-07-22T09:51:10.044Z"
   },
   {
    "duration": 30,
    "start_time": "2025-07-22T09:51:10.170Z"
   },
   {
    "duration": 35,
    "start_time": "2025-07-22T09:51:10.202Z"
   },
   {
    "duration": 24,
    "start_time": "2025-07-22T09:51:10.239Z"
   },
   {
    "duration": 185,
    "start_time": "2025-07-22T09:51:10.265Z"
   },
   {
    "duration": 483,
    "start_time": "2025-07-22T09:51:10.451Z"
   },
   {
    "duration": 212,
    "start_time": "2025-07-22T09:51:10.935Z"
   },
   {
    "duration": 332,
    "start_time": "2025-07-22T09:51:11.148Z"
   },
   {
    "duration": 4,
    "start_time": "2025-07-22T09:51:11.482Z"
   },
   {
    "duration": 79,
    "start_time": "2025-07-22T09:51:11.487Z"
   },
   {
    "duration": 19,
    "start_time": "2025-07-22T09:51:11.567Z"
   },
   {
    "duration": 1476,
    "start_time": "2025-07-22T09:51:11.587Z"
   },
   {
    "duration": 418,
    "start_time": "2025-07-22T09:51:13.065Z"
   },
   {
    "duration": 404,
    "start_time": "2025-07-22T09:51:13.485Z"
   },
   {
    "duration": 15,
    "start_time": "2025-07-22T09:51:13.891Z"
   },
   {
    "duration": 1452,
    "start_time": "2025-07-22T09:51:13.908Z"
   },
   {
    "duration": 344,
    "start_time": "2025-07-22T09:51:15.362Z"
   },
   {
    "duration": 29,
    "start_time": "2025-07-22T09:51:15.710Z"
   },
   {
    "duration": 27,
    "start_time": "2025-07-22T09:51:15.743Z"
   },
   {
    "duration": 263,
    "start_time": "2025-07-22T09:51:15.773Z"
   },
   {
    "duration": 136,
    "start_time": "2025-07-22T09:51:16.037Z"
   },
   {
    "duration": 9,
    "start_time": "2025-07-22T09:51:16.175Z"
   },
   {
    "duration": 257,
    "start_time": "2025-07-22T09:51:16.186Z"
   },
   {
    "duration": 231,
    "start_time": "2025-07-22T09:51:16.445Z"
   },
   {
    "duration": 104,
    "start_time": "2025-07-22T09:51:16.678Z"
   },
   {
    "duration": 372,
    "start_time": "2025-07-22T09:51:16.784Z"
   },
   {
    "duration": 5673,
    "start_time": "2025-07-22T09:51:17.161Z"
   },
   {
    "duration": 39,
    "start_time": "2025-07-22T09:51:22.835Z"
   },
   {
    "duration": 8990,
    "start_time": "2025-07-22T09:51:22.875Z"
   },
   {
    "duration": 10,
    "start_time": "2025-07-22T09:51:31.867Z"
   },
   {
    "duration": 259,
    "start_time": "2025-07-22T09:51:31.878Z"
   },
   {
    "duration": 211,
    "start_time": "2025-07-22T09:51:32.139Z"
   },
   {
    "duration": 218,
    "start_time": "2025-07-22T09:51:32.352Z"
   },
   {
    "duration": 38,
    "start_time": "2025-07-22T09:51:32.572Z"
   },
   {
    "duration": 242,
    "start_time": "2025-07-22T09:51:32.612Z"
   },
   {
    "duration": 139,
    "start_time": "2025-07-22T09:51:32.860Z"
   },
   {
    "duration": 69,
    "start_time": "2025-07-22T09:51:33.001Z"
   },
   {
    "duration": 314,
    "start_time": "2025-07-22T09:51:33.072Z"
   },
   {
    "duration": 190,
    "start_time": "2025-07-22T09:51:33.388Z"
   },
   {
    "duration": 206,
    "start_time": "2025-07-22T09:51:33.580Z"
   },
   {
    "duration": 177,
    "start_time": "2025-07-22T09:51:33.787Z"
   },
   {
    "duration": 112,
    "start_time": "2025-07-22T09:51:33.966Z"
   },
   {
    "duration": 302,
    "start_time": "2025-07-22T09:51:34.079Z"
   },
   {
    "duration": 88,
    "start_time": "2025-07-22T09:51:34.383Z"
   },
   {
    "duration": 86,
    "start_time": "2025-07-22T09:51:34.473Z"
   },
   {
    "duration": 1,
    "start_time": "2025-07-22T09:51:34.560Z"
   },
   {
    "duration": 0,
    "start_time": "2025-07-22T09:51:34.562Z"
   },
   {
    "duration": 0,
    "start_time": "2025-07-22T09:51:34.563Z"
   },
   {
    "duration": 0,
    "start_time": "2025-07-22T09:51:34.564Z"
   },
   {
    "duration": 0,
    "start_time": "2025-07-22T09:51:34.566Z"
   },
   {
    "duration": 0,
    "start_time": "2025-07-22T09:51:34.567Z"
   },
   {
    "duration": 0,
    "start_time": "2025-07-22T09:51:34.569Z"
   },
   {
    "duration": 0,
    "start_time": "2025-07-22T09:51:34.569Z"
   },
   {
    "duration": 0,
    "start_time": "2025-07-22T09:51:34.571Z"
   },
   {
    "duration": 0,
    "start_time": "2025-07-22T09:51:34.572Z"
   },
   {
    "duration": 0,
    "start_time": "2025-07-22T09:51:34.573Z"
   },
   {
    "duration": 1429,
    "start_time": "2025-07-22T09:54:10.118Z"
   },
   {
    "duration": 967,
    "start_time": "2025-07-22T09:54:11.549Z"
   },
   {
    "duration": 20,
    "start_time": "2025-07-22T09:54:12.518Z"
   },
   {
    "duration": 111,
    "start_time": "2025-07-22T09:54:12.540Z"
   },
   {
    "duration": 18,
    "start_time": "2025-07-22T09:54:12.653Z"
   },
   {
    "duration": 20,
    "start_time": "2025-07-22T09:54:12.673Z"
   },
   {
    "duration": 10,
    "start_time": "2025-07-22T09:54:12.695Z"
   },
   {
    "duration": 19,
    "start_time": "2025-07-22T09:54:12.707Z"
   },
   {
    "duration": 323,
    "start_time": "2025-07-22T09:54:12.728Z"
   },
   {
    "duration": 223,
    "start_time": "2025-07-22T09:54:13.054Z"
   },
   {
    "duration": 123,
    "start_time": "2025-07-22T09:54:13.280Z"
   },
   {
    "duration": 31,
    "start_time": "2025-07-22T09:54:13.405Z"
   },
   {
    "duration": 53,
    "start_time": "2025-07-22T09:54:13.438Z"
   },
   {
    "duration": 8,
    "start_time": "2025-07-22T09:54:13.493Z"
   },
   {
    "duration": 207,
    "start_time": "2025-07-22T09:54:13.503Z"
   },
   {
    "duration": 473,
    "start_time": "2025-07-22T09:54:13.713Z"
   },
   {
    "duration": 221,
    "start_time": "2025-07-22T09:54:14.189Z"
   },
   {
    "duration": 329,
    "start_time": "2025-07-22T09:54:14.413Z"
   },
   {
    "duration": 4,
    "start_time": "2025-07-22T09:54:14.744Z"
   },
   {
    "duration": 66,
    "start_time": "2025-07-22T09:54:14.750Z"
   },
   {
    "duration": 19,
    "start_time": "2025-07-22T09:54:14.818Z"
   },
   {
    "duration": 1562,
    "start_time": "2025-07-22T09:54:14.839Z"
   },
   {
    "duration": 418,
    "start_time": "2025-07-22T09:54:16.403Z"
   },
   {
    "duration": 401,
    "start_time": "2025-07-22T09:54:16.823Z"
   },
   {
    "duration": 14,
    "start_time": "2025-07-22T09:54:17.226Z"
   },
   {
    "duration": 1508,
    "start_time": "2025-07-22T09:54:17.242Z"
   },
   {
    "duration": 393,
    "start_time": "2025-07-22T09:54:18.752Z"
   },
   {
    "duration": 32,
    "start_time": "2025-07-22T09:54:19.150Z"
   },
   {
    "duration": 8,
    "start_time": "2025-07-22T09:54:19.184Z"
   },
   {
    "duration": 369,
    "start_time": "2025-07-22T09:54:19.194Z"
   },
   {
    "duration": 131,
    "start_time": "2025-07-22T09:54:19.566Z"
   },
   {
    "duration": 9,
    "start_time": "2025-07-22T09:54:19.699Z"
   },
   {
    "duration": 254,
    "start_time": "2025-07-22T09:54:19.709Z"
   },
   {
    "duration": 229,
    "start_time": "2025-07-22T09:54:19.965Z"
   },
   {
    "duration": 107,
    "start_time": "2025-07-22T09:54:20.196Z"
   },
   {
    "duration": 370,
    "start_time": "2025-07-22T09:54:20.305Z"
   },
   {
    "duration": 6007,
    "start_time": "2025-07-22T09:54:20.677Z"
   },
   {
    "duration": 32,
    "start_time": "2025-07-22T09:54:26.686Z"
   },
   {
    "duration": 9693,
    "start_time": "2025-07-22T09:54:26.720Z"
   },
   {
    "duration": 10,
    "start_time": "2025-07-22T09:54:36.415Z"
   },
   {
    "duration": 278,
    "start_time": "2025-07-22T09:54:36.427Z"
   },
   {
    "duration": 225,
    "start_time": "2025-07-22T09:54:36.706Z"
   },
   {
    "duration": 236,
    "start_time": "2025-07-22T09:54:36.932Z"
   },
   {
    "duration": 40,
    "start_time": "2025-07-22T09:54:37.171Z"
   },
   {
    "duration": 216,
    "start_time": "2025-07-22T09:54:37.213Z"
   },
   {
    "duration": 159,
    "start_time": "2025-07-22T09:54:37.431Z"
   },
   {
    "duration": 77,
    "start_time": "2025-07-22T09:54:37.592Z"
   },
   {
    "duration": 346,
    "start_time": "2025-07-22T09:54:37.673Z"
   },
   {
    "duration": 216,
    "start_time": "2025-07-22T09:54:38.021Z"
   },
   {
    "duration": 230,
    "start_time": "2025-07-22T09:54:38.239Z"
   },
   {
    "duration": 191,
    "start_time": "2025-07-22T09:54:38.473Z"
   },
   {
    "duration": 118,
    "start_time": "2025-07-22T09:54:38.670Z"
   },
   {
    "duration": 368,
    "start_time": "2025-07-22T09:54:38.790Z"
   },
   {
    "duration": 87,
    "start_time": "2025-07-22T09:54:39.160Z"
   },
   {
    "duration": 260,
    "start_time": "2025-07-22T09:54:39.248Z"
   },
   {
    "duration": 77,
    "start_time": "2025-07-22T09:54:39.511Z"
   },
   {
    "duration": 30,
    "start_time": "2025-07-22T09:54:39.590Z"
   },
   {
    "duration": 18,
    "start_time": "2025-07-22T09:54:39.622Z"
   },
   {
    "duration": 27,
    "start_time": "2025-07-22T09:54:39.661Z"
   },
   {
    "duration": 34,
    "start_time": "2025-07-22T09:54:39.690Z"
   },
   {
    "duration": 79,
    "start_time": "2025-07-22T09:54:39.726Z"
   },
   {
    "duration": 10,
    "start_time": "2025-07-22T09:54:39.807Z"
   },
   {
    "duration": 125,
    "start_time": "2025-07-22T09:54:39.820Z"
   },
   {
    "duration": 521,
    "start_time": "2025-07-22T09:54:39.947Z"
   },
   {
    "duration": 8,
    "start_time": "2025-07-22T09:54:40.474Z"
   },
   {
    "duration": 1317,
    "start_time": "2025-07-22T10:00:52.817Z"
   },
   {
    "duration": 1006,
    "start_time": "2025-07-22T10:00:54.136Z"
   },
   {
    "duration": 19,
    "start_time": "2025-07-22T10:00:55.144Z"
   },
   {
    "duration": 116,
    "start_time": "2025-07-22T10:00:55.165Z"
   },
   {
    "duration": 13,
    "start_time": "2025-07-22T10:00:55.282Z"
   },
   {
    "duration": 72,
    "start_time": "2025-07-22T10:00:55.296Z"
   },
   {
    "duration": 19,
    "start_time": "2025-07-22T10:00:55.370Z"
   },
   {
    "duration": 16,
    "start_time": "2025-07-22T10:00:55.391Z"
   },
   {
    "duration": 307,
    "start_time": "2025-07-22T10:00:55.410Z"
   },
   {
    "duration": 253,
    "start_time": "2025-07-22T10:00:55.721Z"
   },
   {
    "duration": 126,
    "start_time": "2025-07-22T10:00:55.976Z"
   },
   {
    "duration": 30,
    "start_time": "2025-07-22T10:00:56.104Z"
   },
   {
    "duration": 48,
    "start_time": "2025-07-22T10:00:56.136Z"
   },
   {
    "duration": 7,
    "start_time": "2025-07-22T10:00:56.186Z"
   },
   {
    "duration": 192,
    "start_time": "2025-07-22T10:00:56.194Z"
   },
   {
    "duration": 491,
    "start_time": "2025-07-22T10:00:56.388Z"
   },
   {
    "duration": 209,
    "start_time": "2025-07-22T10:00:56.880Z"
   },
   {
    "duration": 329,
    "start_time": "2025-07-22T10:00:57.091Z"
   },
   {
    "duration": 4,
    "start_time": "2025-07-22T10:00:57.422Z"
   },
   {
    "duration": 78,
    "start_time": "2025-07-22T10:00:57.428Z"
   },
   {
    "duration": 19,
    "start_time": "2025-07-22T10:00:57.508Z"
   },
   {
    "duration": 1555,
    "start_time": "2025-07-22T10:00:57.529Z"
   },
   {
    "duration": 415,
    "start_time": "2025-07-22T10:00:59.086Z"
   },
   {
    "duration": 394,
    "start_time": "2025-07-22T10:00:59.503Z"
   },
   {
    "duration": 14,
    "start_time": "2025-07-22T10:00:59.899Z"
   },
   {
    "duration": 1405,
    "start_time": "2025-07-22T10:00:59.915Z"
   },
   {
    "duration": 358,
    "start_time": "2025-07-22T10:01:01.322Z"
   },
   {
    "duration": 27,
    "start_time": "2025-07-22T10:01:01.684Z"
   },
   {
    "duration": 45,
    "start_time": "2025-07-22T10:01:01.712Z"
   },
   {
    "duration": 261,
    "start_time": "2025-07-22T10:01:01.759Z"
   },
   {
    "duration": 141,
    "start_time": "2025-07-22T10:01:02.022Z"
   },
   {
    "duration": 9,
    "start_time": "2025-07-22T10:01:02.165Z"
   },
   {
    "duration": 287,
    "start_time": "2025-07-22T10:01:02.176Z"
   },
   {
    "duration": 232,
    "start_time": "2025-07-22T10:01:02.465Z"
   },
   {
    "duration": 151,
    "start_time": "2025-07-22T10:01:02.699Z"
   },
   {
    "duration": 438,
    "start_time": "2025-07-22T10:01:02.851Z"
   },
   {
    "duration": 5657,
    "start_time": "2025-07-22T10:01:03.290Z"
   },
   {
    "duration": 43,
    "start_time": "2025-07-22T10:01:08.949Z"
   },
   {
    "duration": 8771,
    "start_time": "2025-07-22T10:01:08.994Z"
   },
   {
    "duration": 10,
    "start_time": "2025-07-22T10:01:17.766Z"
   },
   {
    "duration": 241,
    "start_time": "2025-07-22T10:01:17.777Z"
   },
   {
    "duration": 212,
    "start_time": "2025-07-22T10:01:18.019Z"
   },
   {
    "duration": 212,
    "start_time": "2025-07-22T10:01:18.233Z"
   },
   {
    "duration": 42,
    "start_time": "2025-07-22T10:01:18.447Z"
   },
   {
    "duration": 185,
    "start_time": "2025-07-22T10:01:18.491Z"
   },
   {
    "duration": 145,
    "start_time": "2025-07-22T10:01:18.677Z"
   },
   {
    "duration": 64,
    "start_time": "2025-07-22T10:01:18.824Z"
   },
   {
    "duration": 343,
    "start_time": "2025-07-22T10:01:18.890Z"
   },
   {
    "duration": 196,
    "start_time": "2025-07-22T10:01:19.235Z"
   },
   {
    "duration": 211,
    "start_time": "2025-07-22T10:01:19.433Z"
   },
   {
    "duration": 177,
    "start_time": "2025-07-22T10:01:19.645Z"
   },
   {
    "duration": 100,
    "start_time": "2025-07-22T10:01:19.823Z"
   },
   {
    "duration": 172,
    "start_time": "2025-07-22T10:01:19.925Z"
   },
   {
    "duration": 0,
    "start_time": "2025-07-22T10:01:20.098Z"
   },
   {
    "duration": 0,
    "start_time": "2025-07-22T10:01:20.100Z"
   },
   {
    "duration": 0,
    "start_time": "2025-07-22T10:01:20.101Z"
   },
   {
    "duration": 0,
    "start_time": "2025-07-22T10:01:20.102Z"
   },
   {
    "duration": 0,
    "start_time": "2025-07-22T10:01:20.103Z"
   },
   {
    "duration": 0,
    "start_time": "2025-07-22T10:01:20.104Z"
   },
   {
    "duration": 0,
    "start_time": "2025-07-22T10:01:20.106Z"
   },
   {
    "duration": 0,
    "start_time": "2025-07-22T10:01:20.107Z"
   },
   {
    "duration": 0,
    "start_time": "2025-07-22T10:01:20.108Z"
   },
   {
    "duration": 0,
    "start_time": "2025-07-22T10:01:20.109Z"
   },
   {
    "duration": 0,
    "start_time": "2025-07-22T10:01:20.110Z"
   },
   {
    "duration": 0,
    "start_time": "2025-07-22T10:01:20.111Z"
   },
   {
    "duration": 1301,
    "start_time": "2025-07-22T10:04:04.925Z"
   },
   {
    "duration": 1017,
    "start_time": "2025-07-22T10:04:06.228Z"
   },
   {
    "duration": 20,
    "start_time": "2025-07-22T10:04:07.247Z"
   },
   {
    "duration": 211,
    "start_time": "2025-07-22T10:04:07.269Z"
   },
   {
    "duration": 12,
    "start_time": "2025-07-22T10:04:07.481Z"
   },
   {
    "duration": 23,
    "start_time": "2025-07-22T10:04:07.495Z"
   },
   {
    "duration": 11,
    "start_time": "2025-07-22T10:04:07.520Z"
   },
   {
    "duration": 40,
    "start_time": "2025-07-22T10:04:07.533Z"
   },
   {
    "duration": 299,
    "start_time": "2025-07-22T10:04:07.575Z"
   },
   {
    "duration": 215,
    "start_time": "2025-07-22T10:04:07.877Z"
   },
   {
    "duration": 131,
    "start_time": "2025-07-22T10:04:08.094Z"
   },
   {
    "duration": 36,
    "start_time": "2025-07-22T10:04:08.227Z"
   },
   {
    "duration": 34,
    "start_time": "2025-07-22T10:04:08.265Z"
   },
   {
    "duration": 7,
    "start_time": "2025-07-22T10:04:08.300Z"
   },
   {
    "duration": 204,
    "start_time": "2025-07-22T10:04:08.308Z"
   },
   {
    "duration": 471,
    "start_time": "2025-07-22T10:04:08.514Z"
   },
   {
    "duration": 225,
    "start_time": "2025-07-22T10:04:08.987Z"
   },
   {
    "duration": 329,
    "start_time": "2025-07-22T10:04:09.214Z"
   },
   {
    "duration": 4,
    "start_time": "2025-07-22T10:04:09.545Z"
   },
   {
    "duration": 63,
    "start_time": "2025-07-22T10:04:09.550Z"
   },
   {
    "duration": 18,
    "start_time": "2025-07-22T10:04:09.614Z"
   },
   {
    "duration": 1520,
    "start_time": "2025-07-22T10:04:09.634Z"
   },
   {
    "duration": 414,
    "start_time": "2025-07-22T10:04:11.156Z"
   },
   {
    "duration": 377,
    "start_time": "2025-07-22T10:04:11.572Z"
   },
   {
    "duration": 22,
    "start_time": "2025-07-22T10:04:11.950Z"
   },
   {
    "duration": 1459,
    "start_time": "2025-07-22T10:04:11.974Z"
   },
   {
    "duration": 337,
    "start_time": "2025-07-22T10:04:13.435Z"
   },
   {
    "duration": 27,
    "start_time": "2025-07-22T10:04:13.777Z"
   },
   {
    "duration": 8,
    "start_time": "2025-07-22T10:04:13.806Z"
   },
   {
    "duration": 259,
    "start_time": "2025-07-22T10:04:13.816Z"
   },
   {
    "duration": 135,
    "start_time": "2025-07-22T10:04:14.077Z"
   },
   {
    "duration": 8,
    "start_time": "2025-07-22T10:04:14.214Z"
   },
   {
    "duration": 248,
    "start_time": "2025-07-22T10:04:14.224Z"
   },
   {
    "duration": 229,
    "start_time": "2025-07-22T10:04:14.473Z"
   },
   {
    "duration": 101,
    "start_time": "2025-07-22T10:04:14.704Z"
   },
   {
    "duration": 371,
    "start_time": "2025-07-22T10:04:14.806Z"
   },
   {
    "duration": 5673,
    "start_time": "2025-07-22T10:04:15.178Z"
   },
   {
    "duration": 30,
    "start_time": "2025-07-22T10:04:20.853Z"
   },
   {
    "duration": 8942,
    "start_time": "2025-07-22T10:04:20.885Z"
   },
   {
    "duration": 10,
    "start_time": "2025-07-22T10:04:29.829Z"
   },
   {
    "duration": 283,
    "start_time": "2025-07-22T10:04:29.840Z"
   },
   {
    "duration": 202,
    "start_time": "2025-07-22T10:04:30.125Z"
   },
   {
    "duration": 216,
    "start_time": "2025-07-22T10:04:30.329Z"
   },
   {
    "duration": 47,
    "start_time": "2025-07-22T10:04:30.547Z"
   },
   {
    "duration": 188,
    "start_time": "2025-07-22T10:04:30.596Z"
   },
   {
    "duration": 145,
    "start_time": "2025-07-22T10:04:30.786Z"
   },
   {
    "duration": 73,
    "start_time": "2025-07-22T10:04:30.933Z"
   },
   {
    "duration": 304,
    "start_time": "2025-07-22T10:04:31.007Z"
   },
   {
    "duration": 196,
    "start_time": "2025-07-22T10:04:31.313Z"
   },
   {
    "duration": 229,
    "start_time": "2025-07-22T10:04:31.511Z"
   },
   {
    "duration": 179,
    "start_time": "2025-07-22T10:04:31.742Z"
   },
   {
    "duration": 101,
    "start_time": "2025-07-22T10:04:31.922Z"
   },
   {
    "duration": 130,
    "start_time": "2025-07-22T10:04:32.025Z"
   },
   {
    "duration": 0,
    "start_time": "2025-07-22T10:04:32.160Z"
   },
   {
    "duration": 0,
    "start_time": "2025-07-22T10:04:32.161Z"
   },
   {
    "duration": 0,
    "start_time": "2025-07-22T10:04:32.162Z"
   },
   {
    "duration": 0,
    "start_time": "2025-07-22T10:04:32.163Z"
   },
   {
    "duration": 0,
    "start_time": "2025-07-22T10:04:32.164Z"
   },
   {
    "duration": 0,
    "start_time": "2025-07-22T10:04:32.165Z"
   },
   {
    "duration": 0,
    "start_time": "2025-07-22T10:04:32.166Z"
   },
   {
    "duration": 0,
    "start_time": "2025-07-22T10:04:32.167Z"
   },
   {
    "duration": 0,
    "start_time": "2025-07-22T10:04:32.168Z"
   },
   {
    "duration": 0,
    "start_time": "2025-07-22T10:04:32.169Z"
   },
   {
    "duration": 0,
    "start_time": "2025-07-22T10:04:32.170Z"
   },
   {
    "duration": 0,
    "start_time": "2025-07-22T10:04:32.171Z"
   },
   {
    "duration": 1304,
    "start_time": "2025-07-22T10:05:25.851Z"
   },
   {
    "duration": 1015,
    "start_time": "2025-07-22T10:05:27.161Z"
   },
   {
    "duration": 19,
    "start_time": "2025-07-22T10:05:28.178Z"
   },
   {
    "duration": 132,
    "start_time": "2025-07-22T10:05:28.199Z"
   },
   {
    "duration": 12,
    "start_time": "2025-07-22T10:05:28.332Z"
   },
   {
    "duration": 31,
    "start_time": "2025-07-22T10:05:28.346Z"
   },
   {
    "duration": 9,
    "start_time": "2025-07-22T10:05:28.378Z"
   },
   {
    "duration": 16,
    "start_time": "2025-07-22T10:05:28.389Z"
   },
   {
    "duration": 394,
    "start_time": "2025-07-22T10:05:28.407Z"
   },
   {
    "duration": 230,
    "start_time": "2025-07-22T10:05:28.804Z"
   },
   {
    "duration": 127,
    "start_time": "2025-07-22T10:05:29.036Z"
   },
   {
    "duration": 31,
    "start_time": "2025-07-22T10:05:29.165Z"
   },
   {
    "duration": 34,
    "start_time": "2025-07-22T10:05:29.198Z"
   },
   {
    "duration": 27,
    "start_time": "2025-07-22T10:05:29.234Z"
   },
   {
    "duration": 274,
    "start_time": "2025-07-22T10:05:29.263Z"
   },
   {
    "duration": 490,
    "start_time": "2025-07-22T10:05:29.539Z"
   },
   {
    "duration": 214,
    "start_time": "2025-07-22T10:05:30.030Z"
   },
   {
    "duration": 490,
    "start_time": "2025-07-22T10:05:30.246Z"
   },
   {
    "duration": 5,
    "start_time": "2025-07-22T10:05:30.738Z"
   },
   {
    "duration": 97,
    "start_time": "2025-07-22T10:05:30.745Z"
   },
   {
    "duration": 20,
    "start_time": "2025-07-22T10:05:30.844Z"
   },
   {
    "duration": 1500,
    "start_time": "2025-07-22T10:05:30.865Z"
   },
   {
    "duration": 423,
    "start_time": "2025-07-22T10:05:32.367Z"
   },
   {
    "duration": 396,
    "start_time": "2025-07-22T10:05:32.791Z"
   },
   {
    "duration": 15,
    "start_time": "2025-07-22T10:05:33.189Z"
   },
   {
    "duration": 1414,
    "start_time": "2025-07-22T10:05:33.206Z"
   },
   {
    "duration": 333,
    "start_time": "2025-07-22T10:05:34.622Z"
   },
   {
    "duration": 28,
    "start_time": "2025-07-22T10:05:34.959Z"
   },
   {
    "duration": 9,
    "start_time": "2025-07-22T10:05:34.988Z"
   },
   {
    "duration": 256,
    "start_time": "2025-07-22T10:05:34.999Z"
   },
   {
    "duration": 139,
    "start_time": "2025-07-22T10:05:35.259Z"
   },
   {
    "duration": 9,
    "start_time": "2025-07-22T10:05:35.401Z"
   },
   {
    "duration": 266,
    "start_time": "2025-07-22T10:05:35.411Z"
   },
   {
    "duration": 246,
    "start_time": "2025-07-22T10:05:35.679Z"
   },
   {
    "duration": 106,
    "start_time": "2025-07-22T10:05:35.927Z"
   },
   {
    "duration": 368,
    "start_time": "2025-07-22T10:05:36.034Z"
   },
   {
    "duration": 5604,
    "start_time": "2025-07-22T10:05:36.404Z"
   },
   {
    "duration": 30,
    "start_time": "2025-07-22T10:05:42.010Z"
   },
   {
    "duration": 8803,
    "start_time": "2025-07-22T10:05:42.042Z"
   },
   {
    "duration": 18,
    "start_time": "2025-07-22T10:05:50.847Z"
   },
   {
    "duration": 232,
    "start_time": "2025-07-22T10:05:50.866Z"
   },
   {
    "duration": 211,
    "start_time": "2025-07-22T10:05:51.100Z"
   },
   {
    "duration": 221,
    "start_time": "2025-07-22T10:05:51.313Z"
   },
   {
    "duration": 47,
    "start_time": "2025-07-22T10:05:51.536Z"
   },
   {
    "duration": 188,
    "start_time": "2025-07-22T10:05:51.585Z"
   },
   {
    "duration": 139,
    "start_time": "2025-07-22T10:05:51.775Z"
   },
   {
    "duration": 70,
    "start_time": "2025-07-22T10:05:51.916Z"
   },
   {
    "duration": 308,
    "start_time": "2025-07-22T10:05:51.988Z"
   },
   {
    "duration": 198,
    "start_time": "2025-07-22T10:05:52.297Z"
   },
   {
    "duration": 205,
    "start_time": "2025-07-22T10:05:52.497Z"
   },
   {
    "duration": 172,
    "start_time": "2025-07-22T10:05:52.704Z"
   },
   {
    "duration": 110,
    "start_time": "2025-07-22T10:05:52.877Z"
   },
   {
    "duration": 287,
    "start_time": "2025-07-22T10:05:52.990Z"
   },
   {
    "duration": 86,
    "start_time": "2025-07-22T10:05:53.279Z"
   },
   {
    "duration": 229,
    "start_time": "2025-07-22T10:05:53.366Z"
   },
   {
    "duration": 64,
    "start_time": "2025-07-22T10:05:53.597Z"
   },
   {
    "duration": 28,
    "start_time": "2025-07-22T10:05:53.662Z"
   },
   {
    "duration": 18,
    "start_time": "2025-07-22T10:05:53.692Z"
   },
   {
    "duration": 20,
    "start_time": "2025-07-22T10:05:53.711Z"
   },
   {
    "duration": 61,
    "start_time": "2025-07-22T10:05:53.733Z"
   },
   {
    "duration": 35,
    "start_time": "2025-07-22T10:05:53.796Z"
   },
   {
    "duration": 29,
    "start_time": "2025-07-22T10:05:53.833Z"
   },
   {
    "duration": 146,
    "start_time": "2025-07-22T10:05:53.863Z"
   },
   {
    "duration": 514,
    "start_time": "2025-07-22T10:05:54.011Z"
   },
   {
    "duration": 7,
    "start_time": "2025-07-22T10:05:54.527Z"
   },
   {
    "duration": 1294,
    "start_time": "2025-07-22T10:12:10.784Z"
   },
   {
    "duration": 1021,
    "start_time": "2025-07-22T10:12:12.081Z"
   },
   {
    "duration": 25,
    "start_time": "2025-07-22T10:12:13.104Z"
   },
   {
    "duration": 104,
    "start_time": "2025-07-22T10:12:13.131Z"
   },
   {
    "duration": 12,
    "start_time": "2025-07-22T10:12:13.237Z"
   },
   {
    "duration": 128,
    "start_time": "2025-07-22T10:12:13.251Z"
   },
   {
    "duration": 9,
    "start_time": "2025-07-22T10:12:13.381Z"
   },
   {
    "duration": 23,
    "start_time": "2025-07-22T10:12:13.391Z"
   },
   {
    "duration": 294,
    "start_time": "2025-07-22T10:12:13.415Z"
   },
   {
    "duration": 216,
    "start_time": "2025-07-22T10:12:13.712Z"
   },
   {
    "duration": 122,
    "start_time": "2025-07-22T10:12:13.930Z"
   },
   {
    "duration": 34,
    "start_time": "2025-07-22T10:12:14.054Z"
   },
   {
    "duration": 35,
    "start_time": "2025-07-22T10:12:14.090Z"
   },
   {
    "duration": 7,
    "start_time": "2025-07-22T10:12:14.126Z"
   },
   {
    "duration": 201,
    "start_time": "2025-07-22T10:12:14.134Z"
   },
   {
    "duration": 490,
    "start_time": "2025-07-22T10:12:14.337Z"
   },
   {
    "duration": 221,
    "start_time": "2025-07-22T10:12:14.829Z"
   },
   {
    "duration": 354,
    "start_time": "2025-07-22T10:12:15.052Z"
   },
   {
    "duration": 5,
    "start_time": "2025-07-22T10:12:15.408Z"
   },
   {
    "duration": 82,
    "start_time": "2025-07-22T10:12:15.415Z"
   },
   {
    "duration": 20,
    "start_time": "2025-07-22T10:12:15.499Z"
   },
   {
    "duration": 1557,
    "start_time": "2025-07-22T10:12:15.520Z"
   },
   {
    "duration": 427,
    "start_time": "2025-07-22T10:12:17.079Z"
   },
   {
    "duration": 403,
    "start_time": "2025-07-22T10:12:17.508Z"
   },
   {
    "duration": 15,
    "start_time": "2025-07-22T10:12:17.913Z"
   },
   {
    "duration": 1533,
    "start_time": "2025-07-22T10:12:17.931Z"
   },
   {
    "duration": 341,
    "start_time": "2025-07-22T10:12:19.466Z"
   },
   {
    "duration": 28,
    "start_time": "2025-07-22T10:12:19.811Z"
   },
   {
    "duration": 26,
    "start_time": "2025-07-22T10:12:19.840Z"
   },
   {
    "duration": 366,
    "start_time": "2025-07-22T10:12:19.867Z"
   },
   {
    "duration": 130,
    "start_time": "2025-07-22T10:12:20.234Z"
   },
   {
    "duration": 9,
    "start_time": "2025-07-22T10:12:20.365Z"
   },
   {
    "duration": 255,
    "start_time": "2025-07-22T10:12:20.375Z"
   },
   {
    "duration": 228,
    "start_time": "2025-07-22T10:12:20.632Z"
   },
   {
    "duration": 106,
    "start_time": "2025-07-22T10:12:20.862Z"
   },
   {
    "duration": 369,
    "start_time": "2025-07-22T10:12:20.970Z"
   },
   {
    "duration": 5749,
    "start_time": "2025-07-22T10:12:21.341Z"
   },
   {
    "duration": 31,
    "start_time": "2025-07-22T10:12:27.092Z"
   },
   {
    "duration": 8966,
    "start_time": "2025-07-22T10:12:27.124Z"
   },
   {
    "duration": 9,
    "start_time": "2025-07-22T10:12:36.092Z"
   },
   {
    "duration": 235,
    "start_time": "2025-07-22T10:12:36.103Z"
   },
   {
    "duration": 211,
    "start_time": "2025-07-22T10:12:36.340Z"
   },
   {
    "duration": 213,
    "start_time": "2025-07-22T10:12:36.561Z"
   },
   {
    "duration": 39,
    "start_time": "2025-07-22T10:12:36.776Z"
   },
   {
    "duration": 203,
    "start_time": "2025-07-22T10:12:36.817Z"
   },
   {
    "duration": 151,
    "start_time": "2025-07-22T10:12:37.022Z"
   },
   {
    "duration": 63,
    "start_time": "2025-07-22T10:12:37.175Z"
   },
   {
    "duration": 331,
    "start_time": "2025-07-22T10:12:37.241Z"
   },
   {
    "duration": 197,
    "start_time": "2025-07-22T10:12:37.575Z"
   },
   {
    "duration": 216,
    "start_time": "2025-07-22T10:12:37.775Z"
   },
   {
    "duration": 167,
    "start_time": "2025-07-22T10:12:37.993Z"
   },
   {
    "duration": 108,
    "start_time": "2025-07-22T10:12:38.162Z"
   },
   {
    "duration": 154,
    "start_time": "2025-07-22T10:12:38.272Z"
   },
   {
    "duration": 0,
    "start_time": "2025-07-22T10:12:38.428Z"
   },
   {
    "duration": 0,
    "start_time": "2025-07-22T10:12:38.429Z"
   },
   {
    "duration": 0,
    "start_time": "2025-07-22T10:12:38.430Z"
   },
   {
    "duration": 0,
    "start_time": "2025-07-22T10:12:38.432Z"
   },
   {
    "duration": 0,
    "start_time": "2025-07-22T10:12:38.433Z"
   },
   {
    "duration": 0,
    "start_time": "2025-07-22T10:12:38.434Z"
   },
   {
    "duration": 0,
    "start_time": "2025-07-22T10:12:38.435Z"
   },
   {
    "duration": 0,
    "start_time": "2025-07-22T10:12:38.436Z"
   },
   {
    "duration": 1,
    "start_time": "2025-07-22T10:12:38.437Z"
   },
   {
    "duration": 0,
    "start_time": "2025-07-22T10:12:38.439Z"
   },
   {
    "duration": 0,
    "start_time": "2025-07-22T10:12:38.461Z"
   },
   {
    "duration": 0,
    "start_time": "2025-07-22T10:12:38.462Z"
   },
   {
    "duration": 1237,
    "start_time": "2025-07-22T10:13:20.185Z"
   },
   {
    "duration": 1000,
    "start_time": "2025-07-22T10:13:21.424Z"
   },
   {
    "duration": 20,
    "start_time": "2025-07-22T10:13:22.426Z"
   },
   {
    "duration": 132,
    "start_time": "2025-07-22T10:13:22.448Z"
   },
   {
    "duration": 12,
    "start_time": "2025-07-22T10:13:22.582Z"
   },
   {
    "duration": 21,
    "start_time": "2025-07-22T10:13:22.596Z"
   },
   {
    "duration": 9,
    "start_time": "2025-07-22T10:13:22.619Z"
   },
   {
    "duration": 37,
    "start_time": "2025-07-22T10:13:22.629Z"
   },
   {
    "duration": 397,
    "start_time": "2025-07-22T10:13:22.668Z"
   },
   {
    "duration": 230,
    "start_time": "2025-07-22T10:13:23.068Z"
   },
   {
    "duration": 121,
    "start_time": "2025-07-22T10:13:23.300Z"
   },
   {
    "duration": 105,
    "start_time": "2025-07-22T10:13:23.422Z"
   },
   {
    "duration": 104,
    "start_time": "2025-07-22T10:13:23.529Z"
   },
   {
    "duration": 7,
    "start_time": "2025-07-22T10:13:23.634Z"
   },
   {
    "duration": 187,
    "start_time": "2025-07-22T10:13:23.642Z"
   },
   {
    "duration": 493,
    "start_time": "2025-07-22T10:13:23.831Z"
   },
   {
    "duration": 213,
    "start_time": "2025-07-22T10:13:24.326Z"
   },
   {
    "duration": 333,
    "start_time": "2025-07-22T10:13:24.541Z"
   },
   {
    "duration": 5,
    "start_time": "2025-07-22T10:13:24.875Z"
   },
   {
    "duration": 82,
    "start_time": "2025-07-22T10:13:24.881Z"
   },
   {
    "duration": 18,
    "start_time": "2025-07-22T10:13:24.965Z"
   },
   {
    "duration": 1512,
    "start_time": "2025-07-22T10:13:24.985Z"
   },
   {
    "duration": 447,
    "start_time": "2025-07-22T10:13:26.498Z"
   },
   {
    "duration": 426,
    "start_time": "2025-07-22T10:13:26.947Z"
   },
   {
    "duration": 14,
    "start_time": "2025-07-22T10:13:27.375Z"
   },
   {
    "duration": 1559,
    "start_time": "2025-07-22T10:13:27.391Z"
   },
   {
    "duration": 368,
    "start_time": "2025-07-22T10:13:28.951Z"
   },
   {
    "duration": 38,
    "start_time": "2025-07-22T10:13:29.323Z"
   },
   {
    "duration": 24,
    "start_time": "2025-07-22T10:13:29.363Z"
   },
   {
    "duration": 238,
    "start_time": "2025-07-22T10:13:29.388Z"
   },
   {
    "duration": 135,
    "start_time": "2025-07-22T10:13:29.628Z"
   },
   {
    "duration": 9,
    "start_time": "2025-07-22T10:13:29.765Z"
   },
   {
    "duration": 262,
    "start_time": "2025-07-22T10:13:29.775Z"
   },
   {
    "duration": 241,
    "start_time": "2025-07-22T10:13:30.039Z"
   },
   {
    "duration": 108,
    "start_time": "2025-07-22T10:13:30.281Z"
   },
   {
    "duration": 371,
    "start_time": "2025-07-22T10:13:30.391Z"
   },
   {
    "duration": 5693,
    "start_time": "2025-07-22T10:13:30.764Z"
   },
   {
    "duration": 31,
    "start_time": "2025-07-22T10:13:36.461Z"
   },
   {
    "duration": 8871,
    "start_time": "2025-07-22T10:13:36.494Z"
   },
   {
    "duration": 9,
    "start_time": "2025-07-22T10:13:45.369Z"
   },
   {
    "duration": 384,
    "start_time": "2025-07-22T10:13:45.380Z"
   },
   {
    "duration": 232,
    "start_time": "2025-07-22T10:13:45.766Z"
   },
   {
    "duration": 220,
    "start_time": "2025-07-22T10:13:45.999Z"
   },
   {
    "duration": 48,
    "start_time": "2025-07-22T10:13:46.220Z"
   },
   {
    "duration": 196,
    "start_time": "2025-07-22T10:13:46.270Z"
   },
   {
    "duration": 143,
    "start_time": "2025-07-22T10:13:46.467Z"
   },
   {
    "duration": 76,
    "start_time": "2025-07-22T10:13:46.612Z"
   },
   {
    "duration": 323,
    "start_time": "2025-07-22T10:13:46.690Z"
   },
   {
    "duration": 203,
    "start_time": "2025-07-22T10:13:47.015Z"
   },
   {
    "duration": 213,
    "start_time": "2025-07-22T10:13:47.220Z"
   },
   {
    "duration": 176,
    "start_time": "2025-07-22T10:13:47.434Z"
   },
   {
    "duration": 103,
    "start_time": "2025-07-22T10:13:47.612Z"
   },
   {
    "duration": 298,
    "start_time": "2025-07-22T10:13:47.717Z"
   },
   {
    "duration": 89,
    "start_time": "2025-07-22T10:13:48.017Z"
   },
   {
    "duration": 245,
    "start_time": "2025-07-22T10:13:48.108Z"
   },
   {
    "duration": 54,
    "start_time": "2025-07-22T10:13:48.356Z"
   },
   {
    "duration": 28,
    "start_time": "2025-07-22T10:13:48.412Z"
   },
   {
    "duration": 17,
    "start_time": "2025-07-22T10:13:48.460Z"
   },
   {
    "duration": 84,
    "start_time": "2025-07-22T10:13:48.480Z"
   },
   {
    "duration": 33,
    "start_time": "2025-07-22T10:13:48.566Z"
   },
   {
    "duration": 35,
    "start_time": "2025-07-22T10:13:48.601Z"
   },
   {
    "duration": 28,
    "start_time": "2025-07-22T10:13:48.638Z"
   },
   {
    "duration": 17,
    "start_time": "2025-07-22T10:13:48.668Z"
   },
   {
    "duration": 581,
    "start_time": "2025-07-22T10:13:48.687Z"
   },
   {
    "duration": 7,
    "start_time": "2025-07-22T10:13:49.270Z"
   },
   {
    "duration": 1369,
    "start_time": "2025-07-22T10:16:15.574Z"
   },
   {
    "duration": 1015,
    "start_time": "2025-07-22T10:16:16.946Z"
   },
   {
    "duration": 30,
    "start_time": "2025-07-22T10:16:17.964Z"
   },
   {
    "duration": 118,
    "start_time": "2025-07-22T10:16:17.996Z"
   },
   {
    "duration": 12,
    "start_time": "2025-07-22T10:16:18.117Z"
   },
   {
    "duration": 34,
    "start_time": "2025-07-22T10:16:18.131Z"
   },
   {
    "duration": 9,
    "start_time": "2025-07-22T10:16:18.167Z"
   },
   {
    "duration": 17,
    "start_time": "2025-07-22T10:16:18.178Z"
   },
   {
    "duration": 309,
    "start_time": "2025-07-22T10:16:18.197Z"
   },
   {
    "duration": 238,
    "start_time": "2025-07-22T10:16:18.508Z"
   },
   {
    "duration": 130,
    "start_time": "2025-07-22T10:16:18.748Z"
   },
   {
    "duration": 30,
    "start_time": "2025-07-22T10:16:18.880Z"
   },
   {
    "duration": 54,
    "start_time": "2025-07-22T10:16:18.911Z"
   },
   {
    "duration": 7,
    "start_time": "2025-07-22T10:16:18.970Z"
   },
   {
    "duration": 206,
    "start_time": "2025-07-22T10:16:18.979Z"
   },
   {
    "duration": 488,
    "start_time": "2025-07-22T10:16:19.187Z"
   },
   {
    "duration": 219,
    "start_time": "2025-07-22T10:16:19.676Z"
   },
   {
    "duration": 344,
    "start_time": "2025-07-22T10:16:19.897Z"
   },
   {
    "duration": 4,
    "start_time": "2025-07-22T10:16:20.243Z"
   },
   {
    "duration": 75,
    "start_time": "2025-07-22T10:16:20.261Z"
   },
   {
    "duration": 36,
    "start_time": "2025-07-22T10:16:20.337Z"
   },
   {
    "duration": 1550,
    "start_time": "2025-07-22T10:16:20.374Z"
   },
   {
    "duration": 443,
    "start_time": "2025-07-22T10:16:21.927Z"
   },
   {
    "duration": 411,
    "start_time": "2025-07-22T10:16:22.372Z"
   },
   {
    "duration": 14,
    "start_time": "2025-07-22T10:16:22.785Z"
   },
   {
    "duration": 1471,
    "start_time": "2025-07-22T10:16:22.801Z"
   },
   {
    "duration": 350,
    "start_time": "2025-07-22T10:16:24.273Z"
   },
   {
    "duration": 37,
    "start_time": "2025-07-22T10:16:24.624Z"
   },
   {
    "duration": 13,
    "start_time": "2025-07-22T10:16:24.663Z"
   },
   {
    "duration": 339,
    "start_time": "2025-07-22T10:16:24.678Z"
   },
   {
    "duration": 141,
    "start_time": "2025-07-22T10:16:25.019Z"
   },
   {
    "duration": 8,
    "start_time": "2025-07-22T10:16:25.162Z"
   },
   {
    "duration": 252,
    "start_time": "2025-07-22T10:16:25.172Z"
   },
   {
    "duration": 242,
    "start_time": "2025-07-22T10:16:25.426Z"
   },
   {
    "duration": 130,
    "start_time": "2025-07-22T10:16:25.670Z"
   },
   {
    "duration": 378,
    "start_time": "2025-07-22T10:16:25.803Z"
   },
   {
    "duration": 6031,
    "start_time": "2025-07-22T10:16:26.183Z"
   },
   {
    "duration": 32,
    "start_time": "2025-07-22T10:16:32.216Z"
   },
   {
    "duration": 9710,
    "start_time": "2025-07-22T10:16:32.261Z"
   },
   {
    "duration": 10,
    "start_time": "2025-07-22T10:16:41.973Z"
   },
   {
    "duration": 240,
    "start_time": "2025-07-22T10:16:41.987Z"
   },
   {
    "duration": 206,
    "start_time": "2025-07-22T10:16:42.229Z"
   },
   {
    "duration": 211,
    "start_time": "2025-07-22T10:16:42.437Z"
   },
   {
    "duration": 43,
    "start_time": "2025-07-22T10:16:42.650Z"
   },
   {
    "duration": 190,
    "start_time": "2025-07-22T10:16:42.694Z"
   },
   {
    "duration": 152,
    "start_time": "2025-07-22T10:16:42.886Z"
   },
   {
    "duration": 76,
    "start_time": "2025-07-22T10:16:43.040Z"
   },
   {
    "duration": 309,
    "start_time": "2025-07-22T10:16:43.118Z"
   },
   {
    "duration": 194,
    "start_time": "2025-07-22T10:16:43.428Z"
   },
   {
    "duration": 210,
    "start_time": "2025-07-22T10:16:43.624Z"
   },
   {
    "duration": 168,
    "start_time": "2025-07-22T10:16:43.836Z"
   },
   {
    "duration": 108,
    "start_time": "2025-07-22T10:16:44.006Z"
   },
   {
    "duration": 295,
    "start_time": "2025-07-22T10:16:44.116Z"
   },
   {
    "duration": 91,
    "start_time": "2025-07-22T10:16:44.412Z"
   },
   {
    "duration": 221,
    "start_time": "2025-07-22T10:16:44.506Z"
   },
   {
    "duration": 70,
    "start_time": "2025-07-22T10:16:44.728Z"
   },
   {
    "duration": 33,
    "start_time": "2025-07-22T10:16:44.800Z"
   },
   {
    "duration": 27,
    "start_time": "2025-07-22T10:16:44.834Z"
   },
   {
    "duration": 32,
    "start_time": "2025-07-22T10:16:44.863Z"
   },
   {
    "duration": 50,
    "start_time": "2025-07-22T10:16:44.897Z"
   },
   {
    "duration": 37,
    "start_time": "2025-07-22T10:16:44.949Z"
   },
   {
    "duration": 8,
    "start_time": "2025-07-22T10:16:44.988Z"
   },
   {
    "duration": 23,
    "start_time": "2025-07-22T10:16:44.998Z"
   },
   {
    "duration": 516,
    "start_time": "2025-07-22T10:16:45.023Z"
   },
   {
    "duration": 7,
    "start_time": "2025-07-22T10:16:45.540Z"
   },
   {
    "duration": 1242,
    "start_time": "2025-07-22T10:17:53.920Z"
   },
   {
    "duration": 1072,
    "start_time": "2025-07-22T10:17:55.164Z"
   },
   {
    "duration": 19,
    "start_time": "2025-07-22T10:17:56.238Z"
   },
   {
    "duration": 116,
    "start_time": "2025-07-22T10:17:56.259Z"
   },
   {
    "duration": 13,
    "start_time": "2025-07-22T10:17:56.378Z"
   },
   {
    "duration": 32,
    "start_time": "2025-07-22T10:17:56.392Z"
   },
   {
    "duration": 18,
    "start_time": "2025-07-22T10:17:56.426Z"
   },
   {
    "duration": 54,
    "start_time": "2025-07-22T10:17:56.446Z"
   },
   {
    "duration": 408,
    "start_time": "2025-07-22T10:17:56.502Z"
   },
   {
    "duration": 233,
    "start_time": "2025-07-22T10:17:56.912Z"
   },
   {
    "duration": 127,
    "start_time": "2025-07-22T10:17:57.147Z"
   },
   {
    "duration": 30,
    "start_time": "2025-07-22T10:17:57.276Z"
   },
   {
    "duration": 245,
    "start_time": "2025-07-22T10:17:57.308Z"
   },
   {
    "duration": 15,
    "start_time": "2025-07-22T10:17:57.556Z"
   },
   {
    "duration": 192,
    "start_time": "2025-07-22T10:17:57.575Z"
   },
   {
    "duration": 483,
    "start_time": "2025-07-22T10:17:57.773Z"
   },
   {
    "duration": 224,
    "start_time": "2025-07-22T10:17:58.260Z"
   },
   {
    "duration": 347,
    "start_time": "2025-07-22T10:17:58.486Z"
   },
   {
    "duration": 4,
    "start_time": "2025-07-22T10:17:58.835Z"
   },
   {
    "duration": 87,
    "start_time": "2025-07-22T10:17:58.841Z"
   },
   {
    "duration": 32,
    "start_time": "2025-07-22T10:17:58.930Z"
   },
   {
    "duration": 1575,
    "start_time": "2025-07-22T10:17:58.966Z"
   },
   {
    "duration": 470,
    "start_time": "2025-07-22T10:18:00.543Z"
   },
   {
    "duration": 427,
    "start_time": "2025-07-22T10:18:01.015Z"
   },
   {
    "duration": 33,
    "start_time": "2025-07-22T10:18:01.444Z"
   },
   {
    "duration": 1745,
    "start_time": "2025-07-22T10:18:01.479Z"
   },
   {
    "duration": 369,
    "start_time": "2025-07-22T10:18:03.226Z"
   },
   {
    "duration": 29,
    "start_time": "2025-07-22T10:18:03.597Z"
   },
   {
    "duration": 10,
    "start_time": "2025-07-22T10:18:03.628Z"
   },
   {
    "duration": 265,
    "start_time": "2025-07-22T10:18:03.669Z"
   },
   {
    "duration": 143,
    "start_time": "2025-07-22T10:18:03.936Z"
   },
   {
    "duration": 9,
    "start_time": "2025-07-22T10:18:04.081Z"
   },
   {
    "duration": 259,
    "start_time": "2025-07-22T10:18:04.091Z"
   },
   {
    "duration": 245,
    "start_time": "2025-07-22T10:18:04.351Z"
   },
   {
    "duration": 114,
    "start_time": "2025-07-22T10:18:04.598Z"
   },
   {
    "duration": 380,
    "start_time": "2025-07-22T10:18:04.714Z"
   },
   {
    "duration": 6181,
    "start_time": "2025-07-22T10:18:05.096Z"
   },
   {
    "duration": 31,
    "start_time": "2025-07-22T10:18:11.278Z"
   },
   {
    "duration": 9704,
    "start_time": "2025-07-22T10:18:11.310Z"
   },
   {
    "duration": 9,
    "start_time": "2025-07-22T10:18:21.016Z"
   },
   {
    "duration": 248,
    "start_time": "2025-07-22T10:18:21.030Z"
   },
   {
    "duration": 218,
    "start_time": "2025-07-22T10:18:21.280Z"
   },
   {
    "duration": 225,
    "start_time": "2025-07-22T10:18:21.499Z"
   },
   {
    "duration": 51,
    "start_time": "2025-07-22T10:18:21.726Z"
   },
   {
    "duration": 196,
    "start_time": "2025-07-22T10:18:21.779Z"
   },
   {
    "duration": 145,
    "start_time": "2025-07-22T10:18:21.978Z"
   },
   {
    "duration": 87,
    "start_time": "2025-07-22T10:18:22.125Z"
   },
   {
    "duration": 316,
    "start_time": "2025-07-22T10:18:22.214Z"
   },
   {
    "duration": 205,
    "start_time": "2025-07-22T10:18:22.532Z"
   },
   {
    "duration": 204,
    "start_time": "2025-07-22T10:18:22.739Z"
   },
   {
    "duration": 178,
    "start_time": "2025-07-22T10:18:22.944Z"
   },
   {
    "duration": 118,
    "start_time": "2025-07-22T10:18:23.124Z"
   },
   {
    "duration": 310,
    "start_time": "2025-07-22T10:18:23.244Z"
   },
   {
    "duration": 83,
    "start_time": "2025-07-22T10:18:23.556Z"
   },
   {
    "duration": 248,
    "start_time": "2025-07-22T10:18:23.641Z"
   },
   {
    "duration": 54,
    "start_time": "2025-07-22T10:18:23.890Z"
   },
   {
    "duration": 104,
    "start_time": "2025-07-22T10:18:23.946Z"
   },
   {
    "duration": 26,
    "start_time": "2025-07-22T10:18:24.052Z"
   },
   {
    "duration": 32,
    "start_time": "2025-07-22T10:18:24.080Z"
   },
   {
    "duration": 33,
    "start_time": "2025-07-22T10:18:24.114Z"
   },
   {
    "duration": 41,
    "start_time": "2025-07-22T10:18:24.149Z"
   },
   {
    "duration": 8,
    "start_time": "2025-07-22T10:18:24.192Z"
   },
   {
    "duration": 25,
    "start_time": "2025-07-22T10:18:24.202Z"
   },
   {
    "duration": 522,
    "start_time": "2025-07-22T10:18:24.229Z"
   },
   {
    "duration": 8,
    "start_time": "2025-07-22T10:18:24.753Z"
   },
   {
    "duration": 1353,
    "start_time": "2025-07-22T10:20:10.569Z"
   },
   {
    "duration": 1075,
    "start_time": "2025-07-22T10:20:11.924Z"
   },
   {
    "duration": 19,
    "start_time": "2025-07-22T10:20:13.001Z"
   },
   {
    "duration": 112,
    "start_time": "2025-07-22T10:20:13.022Z"
   },
   {
    "duration": 13,
    "start_time": "2025-07-22T10:20:13.136Z"
   },
   {
    "duration": 42,
    "start_time": "2025-07-22T10:20:13.151Z"
   },
   {
    "duration": 9,
    "start_time": "2025-07-22T10:20:13.195Z"
   },
   {
    "duration": 12,
    "start_time": "2025-07-22T10:20:13.205Z"
   },
   {
    "duration": 329,
    "start_time": "2025-07-22T10:20:13.219Z"
   },
   {
    "duration": 236,
    "start_time": "2025-07-22T10:20:13.551Z"
   },
   {
    "duration": 128,
    "start_time": "2025-07-22T10:20:13.789Z"
   },
   {
    "duration": 30,
    "start_time": "2025-07-22T10:20:13.919Z"
   },
   {
    "duration": 107,
    "start_time": "2025-07-22T10:20:13.964Z"
   },
   {
    "duration": 6,
    "start_time": "2025-07-22T10:20:14.074Z"
   },
   {
    "duration": 228,
    "start_time": "2025-07-22T10:20:14.082Z"
   },
   {
    "duration": 504,
    "start_time": "2025-07-22T10:20:14.312Z"
   },
   {
    "duration": 223,
    "start_time": "2025-07-22T10:20:14.818Z"
   },
   {
    "duration": 388,
    "start_time": "2025-07-22T10:20:15.043Z"
   },
   {
    "duration": 4,
    "start_time": "2025-07-22T10:20:15.433Z"
   },
   {
    "duration": 180,
    "start_time": "2025-07-22T10:20:15.438Z"
   },
   {
    "duration": 19,
    "start_time": "2025-07-22T10:20:15.620Z"
   },
   {
    "duration": 1596,
    "start_time": "2025-07-22T10:20:15.640Z"
   },
   {
    "duration": 460,
    "start_time": "2025-07-22T10:20:17.238Z"
   },
   {
    "duration": 420,
    "start_time": "2025-07-22T10:20:17.700Z"
   },
   {
    "duration": 15,
    "start_time": "2025-07-22T10:20:18.123Z"
   },
   {
    "duration": 1601,
    "start_time": "2025-07-22T10:20:18.140Z"
   },
   {
    "duration": 366,
    "start_time": "2025-07-22T10:20:19.743Z"
   },
   {
    "duration": 29,
    "start_time": "2025-07-22T10:20:20.113Z"
   },
   {
    "duration": 28,
    "start_time": "2025-07-22T10:20:20.143Z"
   },
   {
    "duration": 268,
    "start_time": "2025-07-22T10:20:20.173Z"
   },
   {
    "duration": 140,
    "start_time": "2025-07-22T10:20:20.443Z"
   },
   {
    "duration": 9,
    "start_time": "2025-07-22T10:20:20.585Z"
   },
   {
    "duration": 277,
    "start_time": "2025-07-22T10:20:20.596Z"
   },
   {
    "duration": 236,
    "start_time": "2025-07-22T10:20:20.875Z"
   },
   {
    "duration": 107,
    "start_time": "2025-07-22T10:20:21.112Z"
   },
   {
    "duration": 406,
    "start_time": "2025-07-22T10:20:21.220Z"
   },
   {
    "duration": 6047,
    "start_time": "2025-07-22T10:20:21.628Z"
   },
   {
    "duration": 32,
    "start_time": "2025-07-22T10:20:27.677Z"
   },
   {
    "duration": 9519,
    "start_time": "2025-07-22T10:20:27.711Z"
   },
   {
    "duration": 11,
    "start_time": "2025-07-22T10:20:37.232Z"
   },
   {
    "duration": 252,
    "start_time": "2025-07-22T10:20:37.244Z"
   },
   {
    "duration": 225,
    "start_time": "2025-07-22T10:20:37.497Z"
   },
   {
    "duration": 227,
    "start_time": "2025-07-22T10:20:37.724Z"
   },
   {
    "duration": 54,
    "start_time": "2025-07-22T10:20:37.953Z"
   },
   {
    "duration": 218,
    "start_time": "2025-07-22T10:20:38.009Z"
   },
   {
    "duration": 149,
    "start_time": "2025-07-22T10:20:38.229Z"
   },
   {
    "duration": 66,
    "start_time": "2025-07-22T10:20:38.380Z"
   },
   {
    "duration": 370,
    "start_time": "2025-07-22T10:20:38.461Z"
   },
   {
    "duration": 224,
    "start_time": "2025-07-22T10:20:38.833Z"
   },
   {
    "duration": 235,
    "start_time": "2025-07-22T10:20:39.061Z"
   },
   {
    "duration": 176,
    "start_time": "2025-07-22T10:20:39.298Z"
   },
   {
    "duration": 102,
    "start_time": "2025-07-22T10:20:39.476Z"
   },
   {
    "duration": 330,
    "start_time": "2025-07-22T10:20:39.579Z"
   },
   {
    "duration": 84,
    "start_time": "2025-07-22T10:20:39.910Z"
   },
   {
    "duration": 249,
    "start_time": "2025-07-22T10:20:39.996Z"
   },
   {
    "duration": 66,
    "start_time": "2025-07-22T10:20:40.247Z"
   },
   {
    "duration": 27,
    "start_time": "2025-07-22T10:20:40.315Z"
   },
   {
    "duration": 35,
    "start_time": "2025-07-22T10:20:40.344Z"
   },
   {
    "duration": 23,
    "start_time": "2025-07-22T10:20:40.381Z"
   },
   {
    "duration": 34,
    "start_time": "2025-07-22T10:20:40.406Z"
   },
   {
    "duration": 44,
    "start_time": "2025-07-22T10:20:40.460Z"
   },
   {
    "duration": 88,
    "start_time": "2025-07-22T10:20:40.506Z"
   },
   {
    "duration": 19,
    "start_time": "2025-07-22T10:20:40.596Z"
   },
   {
    "duration": 531,
    "start_time": "2025-07-22T10:20:40.617Z"
   },
   {
    "duration": 7,
    "start_time": "2025-07-22T10:20:41.150Z"
   },
   {
    "duration": 1341,
    "start_time": "2025-07-22T10:21:12.785Z"
   },
   {
    "duration": 1067,
    "start_time": "2025-07-22T10:21:14.128Z"
   },
   {
    "duration": 20,
    "start_time": "2025-07-22T10:21:15.197Z"
   },
   {
    "duration": 138,
    "start_time": "2025-07-22T10:21:15.220Z"
   },
   {
    "duration": 16,
    "start_time": "2025-07-22T10:21:15.360Z"
   },
   {
    "duration": 105,
    "start_time": "2025-07-22T10:21:15.380Z"
   },
   {
    "duration": 12,
    "start_time": "2025-07-22T10:21:15.487Z"
   },
   {
    "duration": 69,
    "start_time": "2025-07-22T10:21:15.501Z"
   },
   {
    "duration": 341,
    "start_time": "2025-07-22T10:21:15.574Z"
   },
   {
    "duration": 234,
    "start_time": "2025-07-22T10:21:15.919Z"
   },
   {
    "duration": 142,
    "start_time": "2025-07-22T10:21:16.155Z"
   },
   {
    "duration": 32,
    "start_time": "2025-07-22T10:21:16.299Z"
   },
   {
    "duration": 61,
    "start_time": "2025-07-22T10:21:16.333Z"
   },
   {
    "duration": 7,
    "start_time": "2025-07-22T10:21:16.397Z"
   },
   {
    "duration": 210,
    "start_time": "2025-07-22T10:21:16.406Z"
   },
   {
    "duration": 555,
    "start_time": "2025-07-22T10:21:16.619Z"
   },
   {
    "duration": 229,
    "start_time": "2025-07-22T10:21:17.177Z"
   },
   {
    "duration": 364,
    "start_time": "2025-07-22T10:21:17.409Z"
   },
   {
    "duration": 8,
    "start_time": "2025-07-22T10:21:17.775Z"
   },
   {
    "duration": 62,
    "start_time": "2025-07-22T10:21:17.784Z"
   },
   {
    "duration": 33,
    "start_time": "2025-07-22T10:21:17.848Z"
   },
   {
    "duration": 1592,
    "start_time": "2025-07-22T10:21:17.884Z"
   },
   {
    "duration": 450,
    "start_time": "2025-07-22T10:21:19.478Z"
   },
   {
    "duration": 429,
    "start_time": "2025-07-22T10:21:19.929Z"
   },
   {
    "duration": 23,
    "start_time": "2025-07-22T10:21:20.360Z"
   },
   {
    "duration": 1525,
    "start_time": "2025-07-22T10:21:20.385Z"
   },
   {
    "duration": 377,
    "start_time": "2025-07-22T10:21:21.912Z"
   },
   {
    "duration": 27,
    "start_time": "2025-07-22T10:21:22.294Z"
   },
   {
    "duration": 9,
    "start_time": "2025-07-22T10:21:22.323Z"
   },
   {
    "duration": 283,
    "start_time": "2025-07-22T10:21:22.334Z"
   },
   {
    "duration": 156,
    "start_time": "2025-07-22T10:21:22.620Z"
   },
   {
    "duration": 9,
    "start_time": "2025-07-22T10:21:22.778Z"
   },
   {
    "duration": 283,
    "start_time": "2025-07-22T10:21:22.789Z"
   },
   {
    "duration": 224,
    "start_time": "2025-07-22T10:21:23.074Z"
   },
   {
    "duration": 101,
    "start_time": "2025-07-22T10:21:23.300Z"
   },
   {
    "duration": 391,
    "start_time": "2025-07-22T10:21:23.403Z"
   },
   {
    "duration": 6220,
    "start_time": "2025-07-22T10:21:23.795Z"
   },
   {
    "duration": 47,
    "start_time": "2025-07-22T10:21:30.017Z"
   },
   {
    "duration": 9939,
    "start_time": "2025-07-22T10:21:30.074Z"
   },
   {
    "duration": 13,
    "start_time": "2025-07-22T10:21:40.015Z"
   },
   {
    "duration": 291,
    "start_time": "2025-07-22T10:21:40.030Z"
   },
   {
    "duration": 224,
    "start_time": "2025-07-22T10:21:40.323Z"
   },
   {
    "duration": 241,
    "start_time": "2025-07-22T10:21:40.549Z"
   },
   {
    "duration": 38,
    "start_time": "2025-07-22T10:21:40.792Z"
   },
   {
    "duration": 206,
    "start_time": "2025-07-22T10:21:40.832Z"
   },
   {
    "duration": 155,
    "start_time": "2025-07-22T10:21:41.040Z"
   },
   {
    "duration": 80,
    "start_time": "2025-07-22T10:21:41.198Z"
   },
   {
    "duration": 334,
    "start_time": "2025-07-22T10:21:41.280Z"
   },
   {
    "duration": 209,
    "start_time": "2025-07-22T10:21:41.616Z"
   },
   {
    "duration": 221,
    "start_time": "2025-07-22T10:21:41.827Z"
   },
   {
    "duration": 183,
    "start_time": "2025-07-22T10:21:42.050Z"
   },
   {
    "duration": 111,
    "start_time": "2025-07-22T10:21:42.235Z"
   },
   {
    "duration": 318,
    "start_time": "2025-07-22T10:21:42.348Z"
   },
   {
    "duration": 80,
    "start_time": "2025-07-22T10:21:42.668Z"
   },
   {
    "duration": 238,
    "start_time": "2025-07-22T10:21:42.761Z"
   },
   {
    "duration": 72,
    "start_time": "2025-07-22T10:21:43.001Z"
   },
   {
    "duration": 28,
    "start_time": "2025-07-22T10:21:43.075Z"
   },
   {
    "duration": 29,
    "start_time": "2025-07-22T10:21:43.105Z"
   },
   {
    "duration": 57,
    "start_time": "2025-07-22T10:21:43.136Z"
   },
   {
    "duration": 33,
    "start_time": "2025-07-22T10:21:43.195Z"
   },
   {
    "duration": 49,
    "start_time": "2025-07-22T10:21:43.231Z"
   },
   {
    "duration": 8,
    "start_time": "2025-07-22T10:21:43.282Z"
   },
   {
    "duration": 17,
    "start_time": "2025-07-22T10:21:43.291Z"
   },
   {
    "duration": 543,
    "start_time": "2025-07-22T10:21:43.310Z"
   },
   {
    "duration": 12,
    "start_time": "2025-07-22T10:21:43.862Z"
   },
   {
    "duration": 1314,
    "start_time": "2025-07-22T10:27:35.819Z"
   },
   {
    "duration": 1073,
    "start_time": "2025-07-22T10:27:37.135Z"
   },
   {
    "duration": 20,
    "start_time": "2025-07-22T10:27:38.209Z"
   },
   {
    "duration": 117,
    "start_time": "2025-07-22T10:27:38.231Z"
   },
   {
    "duration": 29,
    "start_time": "2025-07-22T10:27:38.349Z"
   },
   {
    "duration": 20,
    "start_time": "2025-07-22T10:27:38.380Z"
   },
   {
    "duration": 8,
    "start_time": "2025-07-22T10:27:38.402Z"
   },
   {
    "duration": 12,
    "start_time": "2025-07-22T10:27:38.412Z"
   },
   {
    "duration": 346,
    "start_time": "2025-07-22T10:27:38.426Z"
   },
   {
    "duration": 236,
    "start_time": "2025-07-22T10:27:38.775Z"
   },
   {
    "duration": 158,
    "start_time": "2025-07-22T10:27:39.014Z"
   },
   {
    "duration": 30,
    "start_time": "2025-07-22T10:27:39.175Z"
   },
   {
    "duration": 38,
    "start_time": "2025-07-22T10:27:39.207Z"
   },
   {
    "duration": 25,
    "start_time": "2025-07-22T10:27:39.247Z"
   },
   {
    "duration": 184,
    "start_time": "2025-07-22T10:27:39.274Z"
   },
   {
    "duration": 534,
    "start_time": "2025-07-22T10:27:39.460Z"
   },
   {
    "duration": 240,
    "start_time": "2025-07-22T10:27:39.996Z"
   },
   {
    "duration": 364,
    "start_time": "2025-07-22T10:27:40.238Z"
   },
   {
    "duration": 5,
    "start_time": "2025-07-22T10:27:40.604Z"
   },
   {
    "duration": 86,
    "start_time": "2025-07-22T10:27:40.611Z"
   },
   {
    "duration": 21,
    "start_time": "2025-07-22T10:27:40.699Z"
   },
   {
    "duration": 1619,
    "start_time": "2025-07-22T10:27:40.722Z"
   },
   {
    "duration": 451,
    "start_time": "2025-07-22T10:27:42.342Z"
   },
   {
    "duration": 415,
    "start_time": "2025-07-22T10:27:42.795Z"
   },
   {
    "duration": 14,
    "start_time": "2025-07-22T10:27:43.211Z"
   },
   {
    "duration": 1612,
    "start_time": "2025-07-22T10:27:43.227Z"
   },
   {
    "duration": 376,
    "start_time": "2025-07-22T10:27:44.841Z"
   },
   {
    "duration": 46,
    "start_time": "2025-07-22T10:27:45.221Z"
   },
   {
    "duration": 40,
    "start_time": "2025-07-22T10:27:45.273Z"
   },
   {
    "duration": 383,
    "start_time": "2025-07-22T10:27:45.314Z"
   },
   {
    "duration": 165,
    "start_time": "2025-07-22T10:27:45.698Z"
   },
   {
    "duration": 11,
    "start_time": "2025-07-22T10:27:45.865Z"
   },
   {
    "duration": 295,
    "start_time": "2025-07-22T10:27:45.878Z"
   },
   {
    "duration": 232,
    "start_time": "2025-07-22T10:27:46.175Z"
   },
   {
    "duration": 115,
    "start_time": "2025-07-22T10:27:46.409Z"
   },
   {
    "duration": 384,
    "start_time": "2025-07-22T10:27:46.526Z"
   },
   {
    "duration": 6192,
    "start_time": "2025-07-22T10:27:46.912Z"
   },
   {
    "duration": 30,
    "start_time": "2025-07-22T10:27:53.106Z"
   },
   {
    "duration": 9675,
    "start_time": "2025-07-22T10:27:53.138Z"
   },
   {
    "duration": 9,
    "start_time": "2025-07-22T10:28:02.815Z"
   },
   {
    "duration": 273,
    "start_time": "2025-07-22T10:28:02.826Z"
   },
   {
    "duration": 227,
    "start_time": "2025-07-22T10:28:03.101Z"
   },
   {
    "duration": 245,
    "start_time": "2025-07-22T10:28:03.330Z"
   },
   {
    "duration": 37,
    "start_time": "2025-07-22T10:28:03.577Z"
   },
   {
    "duration": 203,
    "start_time": "2025-07-22T10:28:03.616Z"
   },
   {
    "duration": 152,
    "start_time": "2025-07-22T10:28:03.821Z"
   },
   {
    "duration": 63,
    "start_time": "2025-07-22T10:28:03.976Z"
   },
   {
    "duration": 353,
    "start_time": "2025-07-22T10:28:04.041Z"
   },
   {
    "duration": 206,
    "start_time": "2025-07-22T10:28:04.396Z"
   },
   {
    "duration": 206,
    "start_time": "2025-07-22T10:28:04.603Z"
   },
   {
    "duration": 186,
    "start_time": "2025-07-22T10:28:04.811Z"
   },
   {
    "duration": 107,
    "start_time": "2025-07-22T10:28:05.000Z"
   },
   {
    "duration": 318,
    "start_time": "2025-07-22T10:28:05.109Z"
   },
   {
    "duration": 95,
    "start_time": "2025-07-22T10:28:05.429Z"
   },
   {
    "duration": 260,
    "start_time": "2025-07-22T10:28:05.526Z"
   },
   {
    "duration": 88,
    "start_time": "2025-07-22T10:28:05.788Z"
   },
   {
    "duration": 29,
    "start_time": "2025-07-22T10:28:05.878Z"
   },
   {
    "duration": 18,
    "start_time": "2025-07-22T10:28:05.909Z"
   },
   {
    "duration": 166,
    "start_time": "2025-07-22T10:28:05.929Z"
   },
   {
    "duration": 33,
    "start_time": "2025-07-22T10:28:06.097Z"
   },
   {
    "duration": 39,
    "start_time": "2025-07-22T10:28:06.132Z"
   },
   {
    "duration": 9,
    "start_time": "2025-07-22T10:28:06.175Z"
   },
   {
    "duration": 60,
    "start_time": "2025-07-22T10:28:06.186Z"
   },
   {
    "duration": 506,
    "start_time": "2025-07-22T10:28:06.249Z"
   },
   {
    "duration": 12,
    "start_time": "2025-07-22T10:28:06.764Z"
   },
   {
    "duration": 1306,
    "start_time": "2025-07-22T10:28:42.618Z"
   },
   {
    "duration": 1079,
    "start_time": "2025-07-22T10:28:43.926Z"
   },
   {
    "duration": 20,
    "start_time": "2025-07-22T10:28:45.006Z"
   },
   {
    "duration": 170,
    "start_time": "2025-07-22T10:28:45.028Z"
   },
   {
    "duration": 19,
    "start_time": "2025-07-22T10:28:45.200Z"
   },
   {
    "duration": 52,
    "start_time": "2025-07-22T10:28:45.223Z"
   },
   {
    "duration": 25,
    "start_time": "2025-07-22T10:28:45.277Z"
   },
   {
    "duration": 18,
    "start_time": "2025-07-22T10:28:45.303Z"
   },
   {
    "duration": 463,
    "start_time": "2025-07-22T10:28:45.323Z"
   },
   {
    "duration": 247,
    "start_time": "2025-07-22T10:28:45.790Z"
   },
   {
    "duration": 133,
    "start_time": "2025-07-22T10:28:46.039Z"
   },
   {
    "duration": 34,
    "start_time": "2025-07-22T10:28:46.174Z"
   },
   {
    "duration": 62,
    "start_time": "2025-07-22T10:28:46.210Z"
   },
   {
    "duration": 8,
    "start_time": "2025-07-22T10:28:46.274Z"
   },
   {
    "duration": 193,
    "start_time": "2025-07-22T10:28:46.284Z"
   },
   {
    "duration": 515,
    "start_time": "2025-07-22T10:28:46.480Z"
   },
   {
    "duration": 234,
    "start_time": "2025-07-22T10:28:46.997Z"
   },
   {
    "duration": 364,
    "start_time": "2025-07-22T10:28:47.233Z"
   },
   {
    "duration": 5,
    "start_time": "2025-07-22T10:28:47.599Z"
   },
   {
    "duration": 91,
    "start_time": "2025-07-22T10:28:47.605Z"
   },
   {
    "duration": 20,
    "start_time": "2025-07-22T10:28:47.698Z"
   },
   {
    "duration": 1656,
    "start_time": "2025-07-22T10:28:47.720Z"
   },
   {
    "duration": 436,
    "start_time": "2025-07-22T10:28:49.378Z"
   },
   {
    "duration": 419,
    "start_time": "2025-07-22T10:28:49.815Z"
   },
   {
    "duration": 26,
    "start_time": "2025-07-22T10:28:50.236Z"
   },
   {
    "duration": 1553,
    "start_time": "2025-07-22T10:28:50.273Z"
   },
   {
    "duration": 367,
    "start_time": "2025-07-22T10:28:51.828Z"
   },
   {
    "duration": 27,
    "start_time": "2025-07-22T10:28:52.200Z"
   },
   {
    "duration": 48,
    "start_time": "2025-07-22T10:28:52.228Z"
   },
   {
    "duration": 259,
    "start_time": "2025-07-22T10:28:52.277Z"
   },
   {
    "duration": 146,
    "start_time": "2025-07-22T10:28:52.537Z"
   },
   {
    "duration": 9,
    "start_time": "2025-07-22T10:28:52.685Z"
   },
   {
    "duration": 260,
    "start_time": "2025-07-22T10:28:52.695Z"
   },
   {
    "duration": 244,
    "start_time": "2025-07-22T10:28:52.957Z"
   },
   {
    "duration": 108,
    "start_time": "2025-07-22T10:28:53.203Z"
   },
   {
    "duration": 397,
    "start_time": "2025-07-22T10:28:53.313Z"
   },
   {
    "duration": 6177,
    "start_time": "2025-07-22T10:28:53.712Z"
   },
   {
    "duration": 30,
    "start_time": "2025-07-22T10:28:59.891Z"
   },
   {
    "duration": 9856,
    "start_time": "2025-07-22T10:28:59.923Z"
   },
   {
    "duration": 10,
    "start_time": "2025-07-22T10:29:09.780Z"
   },
   {
    "duration": 242,
    "start_time": "2025-07-22T10:29:09.792Z"
   },
   {
    "duration": 217,
    "start_time": "2025-07-22T10:29:10.036Z"
   },
   {
    "duration": 228,
    "start_time": "2025-07-22T10:29:10.255Z"
   },
   {
    "duration": 39,
    "start_time": "2025-07-22T10:29:10.485Z"
   },
   {
    "duration": 251,
    "start_time": "2025-07-22T10:29:10.526Z"
   },
   {
    "duration": 142,
    "start_time": "2025-07-22T10:29:10.779Z"
   },
   {
    "duration": 73,
    "start_time": "2025-07-22T10:29:10.923Z"
   },
   {
    "duration": 322,
    "start_time": "2025-07-22T10:29:10.998Z"
   },
   {
    "duration": 202,
    "start_time": "2025-07-22T10:29:11.322Z"
   },
   {
    "duration": 216,
    "start_time": "2025-07-22T10:29:11.526Z"
   },
   {
    "duration": 168,
    "start_time": "2025-07-22T10:29:11.743Z"
   },
   {
    "duration": 107,
    "start_time": "2025-07-22T10:29:11.913Z"
   },
   {
    "duration": 347,
    "start_time": "2025-07-22T10:29:12.022Z"
   },
   {
    "duration": 76,
    "start_time": "2025-07-22T10:29:12.371Z"
   },
   {
    "duration": 243,
    "start_time": "2025-07-22T10:29:12.449Z"
   },
   {
    "duration": 53,
    "start_time": "2025-07-22T10:29:12.694Z"
   },
   {
    "duration": 87,
    "start_time": "2025-07-22T10:29:12.749Z"
   },
   {
    "duration": 18,
    "start_time": "2025-07-22T10:29:12.838Z"
   },
   {
    "duration": 25,
    "start_time": "2025-07-22T10:29:12.858Z"
   },
   {
    "duration": 31,
    "start_time": "2025-07-22T10:29:12.885Z"
   },
   {
    "duration": 58,
    "start_time": "2025-07-22T10:29:12.918Z"
   },
   {
    "duration": 9,
    "start_time": "2025-07-22T10:29:12.979Z"
   },
   {
    "duration": 17,
    "start_time": "2025-07-22T10:29:12.990Z"
   },
   {
    "duration": 526,
    "start_time": "2025-07-22T10:29:13.009Z"
   },
   {
    "duration": 8,
    "start_time": "2025-07-22T10:29:13.537Z"
   },
   {
    "duration": 1331,
    "start_time": "2025-07-22T10:37:23.075Z"
   },
   {
    "duration": 1067,
    "start_time": "2025-07-22T10:37:24.408Z"
   },
   {
    "duration": 19,
    "start_time": "2025-07-22T10:37:25.477Z"
   },
   {
    "duration": 112,
    "start_time": "2025-07-22T10:37:25.499Z"
   },
   {
    "duration": 12,
    "start_time": "2025-07-22T10:37:25.613Z"
   },
   {
    "duration": 48,
    "start_time": "2025-07-22T10:37:25.626Z"
   },
   {
    "duration": 9,
    "start_time": "2025-07-22T10:37:25.676Z"
   },
   {
    "duration": 20,
    "start_time": "2025-07-22T10:37:25.687Z"
   },
   {
    "duration": 339,
    "start_time": "2025-07-22T10:37:25.708Z"
   },
   {
    "duration": 246,
    "start_time": "2025-07-22T10:37:26.050Z"
   },
   {
    "duration": 132,
    "start_time": "2025-07-22T10:37:26.298Z"
   },
   {
    "duration": 41,
    "start_time": "2025-07-22T10:37:26.432Z"
   },
   {
    "duration": 36,
    "start_time": "2025-07-22T10:37:26.474Z"
   },
   {
    "duration": 6,
    "start_time": "2025-07-22T10:37:26.512Z"
   },
   {
    "duration": 234,
    "start_time": "2025-07-22T10:37:26.520Z"
   },
   {
    "duration": 530,
    "start_time": "2025-07-22T10:37:26.756Z"
   },
   {
    "duration": 233,
    "start_time": "2025-07-22T10:37:27.288Z"
   },
   {
    "duration": 361,
    "start_time": "2025-07-22T10:37:27.523Z"
   },
   {
    "duration": 4,
    "start_time": "2025-07-22T10:37:27.886Z"
   },
   {
    "duration": 86,
    "start_time": "2025-07-22T10:37:27.892Z"
   },
   {
    "duration": 18,
    "start_time": "2025-07-22T10:37:27.980Z"
   },
   {
    "duration": 1682,
    "start_time": "2025-07-22T10:37:28.000Z"
   },
   {
    "duration": 457,
    "start_time": "2025-07-22T10:37:29.685Z"
   },
   {
    "duration": 457,
    "start_time": "2025-07-22T10:37:30.144Z"
   },
   {
    "duration": 15,
    "start_time": "2025-07-22T10:37:30.604Z"
   },
   {
    "duration": 1677,
    "start_time": "2025-07-22T10:37:30.621Z"
   },
   {
    "duration": 379,
    "start_time": "2025-07-22T10:37:32.301Z"
   },
   {
    "duration": 29,
    "start_time": "2025-07-22T10:37:32.686Z"
   },
   {
    "duration": 45,
    "start_time": "2025-07-22T10:37:32.717Z"
   },
   {
    "duration": 379,
    "start_time": "2025-07-22T10:37:32.763Z"
   },
   {
    "duration": 143,
    "start_time": "2025-07-22T10:37:33.144Z"
   },
   {
    "duration": 9,
    "start_time": "2025-07-22T10:37:33.288Z"
   },
   {
    "duration": 256,
    "start_time": "2025-07-22T10:37:33.299Z"
   },
   {
    "duration": 237,
    "start_time": "2025-07-22T10:37:33.562Z"
   },
   {
    "duration": 107,
    "start_time": "2025-07-22T10:37:33.801Z"
   },
   {
    "duration": 408,
    "start_time": "2025-07-22T10:37:33.910Z"
   },
   {
    "duration": 6156,
    "start_time": "2025-07-22T10:37:34.320Z"
   },
   {
    "duration": 31,
    "start_time": "2025-07-22T10:37:40.478Z"
   },
   {
    "duration": 9574,
    "start_time": "2025-07-22T10:37:40.511Z"
   },
   {
    "duration": 10,
    "start_time": "2025-07-22T10:37:50.087Z"
   },
   {
    "duration": 244,
    "start_time": "2025-07-22T10:37:50.099Z"
   },
   {
    "duration": 234,
    "start_time": "2025-07-22T10:37:50.344Z"
   },
   {
    "duration": 228,
    "start_time": "2025-07-22T10:37:50.580Z"
   },
   {
    "duration": 64,
    "start_time": "2025-07-22T10:37:50.810Z"
   },
   {
    "duration": 177,
    "start_time": "2025-07-22T10:37:50.875Z"
   },
   {
    "duration": 156,
    "start_time": "2025-07-22T10:37:51.054Z"
   },
   {
    "duration": 76,
    "start_time": "2025-07-22T10:37:51.212Z"
   },
   {
    "duration": 314,
    "start_time": "2025-07-22T10:37:51.290Z"
   },
   {
    "duration": 204,
    "start_time": "2025-07-22T10:37:51.606Z"
   },
   {
    "duration": 211,
    "start_time": "2025-07-22T10:37:51.812Z"
   },
   {
    "duration": 174,
    "start_time": "2025-07-22T10:37:52.024Z"
   },
   {
    "duration": 101,
    "start_time": "2025-07-22T10:37:52.200Z"
   },
   {
    "duration": 315,
    "start_time": "2025-07-22T10:37:52.303Z"
   },
   {
    "duration": 96,
    "start_time": "2025-07-22T10:37:52.620Z"
   },
   {
    "duration": 235,
    "start_time": "2025-07-22T10:37:52.718Z"
   },
   {
    "duration": 63,
    "start_time": "2025-07-22T10:37:52.955Z"
   },
   {
    "duration": 51,
    "start_time": "2025-07-22T10:37:53.020Z"
   },
   {
    "duration": 17,
    "start_time": "2025-07-22T10:37:53.074Z"
   },
   {
    "duration": 26,
    "start_time": "2025-07-22T10:37:53.092Z"
   },
   {
    "duration": 49,
    "start_time": "2025-07-22T10:37:53.120Z"
   },
   {
    "duration": 73,
    "start_time": "2025-07-22T10:37:53.171Z"
   },
   {
    "duration": 8,
    "start_time": "2025-07-22T10:37:53.246Z"
   },
   {
    "duration": 19,
    "start_time": "2025-07-22T10:37:53.256Z"
   },
   {
    "duration": 463,
    "start_time": "2025-07-22T10:37:53.277Z"
   },
   {
    "duration": 6,
    "start_time": "2025-07-22T10:37:53.742Z"
   },
   {
    "duration": 1258,
    "start_time": "2025-07-22T10:39:23.384Z"
   },
   {
    "duration": 1059,
    "start_time": "2025-07-22T10:39:24.644Z"
   },
   {
    "duration": 20,
    "start_time": "2025-07-22T10:39:25.705Z"
   },
   {
    "duration": 149,
    "start_time": "2025-07-22T10:39:25.728Z"
   },
   {
    "duration": 12,
    "start_time": "2025-07-22T10:39:25.879Z"
   },
   {
    "duration": 36,
    "start_time": "2025-07-22T10:39:25.892Z"
   },
   {
    "duration": 9,
    "start_time": "2025-07-22T10:39:25.930Z"
   },
   {
    "duration": 34,
    "start_time": "2025-07-22T10:39:25.940Z"
   },
   {
    "duration": 301,
    "start_time": "2025-07-22T10:39:25.976Z"
   },
   {
    "duration": 243,
    "start_time": "2025-07-22T10:39:26.280Z"
   },
   {
    "duration": 129,
    "start_time": "2025-07-22T10:39:26.525Z"
   },
   {
    "duration": 40,
    "start_time": "2025-07-22T10:39:26.655Z"
   },
   {
    "duration": 38,
    "start_time": "2025-07-22T10:39:26.697Z"
   },
   {
    "duration": 26,
    "start_time": "2025-07-22T10:39:26.737Z"
   },
   {
    "duration": 190,
    "start_time": "2025-07-22T10:39:26.773Z"
   },
   {
    "duration": 532,
    "start_time": "2025-07-22T10:39:26.966Z"
   },
   {
    "duration": 228,
    "start_time": "2025-07-22T10:39:27.500Z"
   },
   {
    "duration": 363,
    "start_time": "2025-07-22T10:39:27.730Z"
   },
   {
    "duration": 4,
    "start_time": "2025-07-22T10:39:28.095Z"
   },
   {
    "duration": 86,
    "start_time": "2025-07-22T10:39:28.100Z"
   },
   {
    "duration": 19,
    "start_time": "2025-07-22T10:39:28.188Z"
   },
   {
    "duration": 1661,
    "start_time": "2025-07-22T10:39:28.209Z"
   },
   {
    "duration": 464,
    "start_time": "2025-07-22T10:39:29.872Z"
   },
   {
    "duration": 445,
    "start_time": "2025-07-22T10:39:30.337Z"
   },
   {
    "duration": 14,
    "start_time": "2025-07-22T10:39:30.784Z"
   },
   {
    "duration": 1639,
    "start_time": "2025-07-22T10:39:30.800Z"
   },
   {
    "duration": 372,
    "start_time": "2025-07-22T10:39:32.441Z"
   },
   {
    "duration": 28,
    "start_time": "2025-07-22T10:39:32.817Z"
   },
   {
    "duration": 30,
    "start_time": "2025-07-22T10:39:32.861Z"
   },
   {
    "duration": 249,
    "start_time": "2025-07-22T10:39:32.893Z"
   },
   {
    "duration": 139,
    "start_time": "2025-07-22T10:39:33.144Z"
   },
   {
    "duration": 9,
    "start_time": "2025-07-22T10:39:33.285Z"
   },
   {
    "duration": 277,
    "start_time": "2025-07-22T10:39:33.295Z"
   },
   {
    "duration": 226,
    "start_time": "2025-07-22T10:39:33.574Z"
   },
   {
    "duration": 106,
    "start_time": "2025-07-22T10:39:33.801Z"
   },
   {
    "duration": 398,
    "start_time": "2025-07-22T10:39:33.909Z"
   },
   {
    "duration": 6058,
    "start_time": "2025-07-22T10:39:34.309Z"
   },
   {
    "duration": 34,
    "start_time": "2025-07-22T10:39:40.369Z"
   },
   {
    "duration": 9416,
    "start_time": "2025-07-22T10:39:40.405Z"
   },
   {
    "duration": 10,
    "start_time": "2025-07-22T10:39:49.822Z"
   },
   {
    "duration": 243,
    "start_time": "2025-07-22T10:39:49.834Z"
   },
   {
    "duration": 217,
    "start_time": "2025-07-22T10:39:50.079Z"
   },
   {
    "duration": 223,
    "start_time": "2025-07-22T10:39:50.297Z"
   },
   {
    "duration": 55,
    "start_time": "2025-07-22T10:39:50.522Z"
   },
   {
    "duration": 196,
    "start_time": "2025-07-22T10:39:50.579Z"
   },
   {
    "duration": 139,
    "start_time": "2025-07-22T10:39:50.777Z"
   },
   {
    "duration": 69,
    "start_time": "2025-07-22T10:39:50.918Z"
   },
   {
    "duration": 316,
    "start_time": "2025-07-22T10:39:50.989Z"
   },
   {
    "duration": 203,
    "start_time": "2025-07-22T10:39:51.307Z"
   },
   {
    "duration": 210,
    "start_time": "2025-07-22T10:39:51.512Z"
   },
   {
    "duration": 174,
    "start_time": "2025-07-22T10:39:51.724Z"
   },
   {
    "duration": 101,
    "start_time": "2025-07-22T10:39:51.900Z"
   },
   {
    "duration": 299,
    "start_time": "2025-07-22T10:39:52.003Z"
   },
   {
    "duration": 92,
    "start_time": "2025-07-22T10:39:52.304Z"
   },
   {
    "duration": 236,
    "start_time": "2025-07-22T10:39:52.397Z"
   },
   {
    "duration": 65,
    "start_time": "2025-07-22T10:39:52.635Z"
   },
   {
    "duration": 28,
    "start_time": "2025-07-22T10:39:52.701Z"
   },
   {
    "duration": 40,
    "start_time": "2025-07-22T10:39:52.731Z"
   },
   {
    "duration": 98,
    "start_time": "2025-07-22T10:39:52.774Z"
   },
   {
    "duration": 56,
    "start_time": "2025-07-22T10:39:52.875Z"
   },
   {
    "duration": 37,
    "start_time": "2025-07-22T10:39:52.933Z"
   },
   {
    "duration": 32,
    "start_time": "2025-07-22T10:39:52.975Z"
   },
   {
    "duration": 43,
    "start_time": "2025-07-22T10:39:53.009Z"
   },
   {
    "duration": 497,
    "start_time": "2025-07-22T10:39:53.054Z"
   },
   {
    "duration": 19,
    "start_time": "2025-07-22T10:39:53.560Z"
   },
   {
    "duration": 5,
    "start_time": "2025-07-22T13:22:28.774Z"
   },
   {
    "duration": 1236,
    "start_time": "2025-07-22T13:23:22.385Z"
   },
   {
    "duration": 972,
    "start_time": "2025-07-22T13:23:23.623Z"
   },
   {
    "duration": 19,
    "start_time": "2025-07-22T13:23:24.597Z"
   },
   {
    "duration": 100,
    "start_time": "2025-07-22T13:23:24.619Z"
   },
   {
    "duration": 12,
    "start_time": "2025-07-22T13:23:24.721Z"
   },
   {
    "duration": 103,
    "start_time": "2025-07-22T13:23:24.734Z"
   },
   {
    "duration": 106,
    "start_time": "2025-07-22T13:23:24.839Z"
   },
   {
    "duration": 11,
    "start_time": "2025-07-22T13:23:24.947Z"
   },
   {
    "duration": 305,
    "start_time": "2025-07-22T13:23:24.960Z"
   },
   {
    "duration": 218,
    "start_time": "2025-07-22T13:23:25.268Z"
   },
   {
    "duration": 124,
    "start_time": "2025-07-22T13:23:25.488Z"
   },
   {
    "duration": 80,
    "start_time": "2025-07-22T13:23:25.614Z"
   },
   {
    "duration": 111,
    "start_time": "2025-07-22T13:23:25.696Z"
   },
   {
    "duration": 8,
    "start_time": "2025-07-22T13:23:25.809Z"
   },
   {
    "duration": 189,
    "start_time": "2025-07-22T13:23:25.819Z"
   },
   {
    "duration": 492,
    "start_time": "2025-07-22T13:23:26.011Z"
   },
   {
    "duration": 228,
    "start_time": "2025-07-22T13:23:26.505Z"
   },
   {
    "duration": 354,
    "start_time": "2025-07-22T13:23:26.735Z"
   },
   {
    "duration": 5,
    "start_time": "2025-07-22T13:23:27.091Z"
   },
   {
    "duration": 85,
    "start_time": "2025-07-22T13:23:27.098Z"
   },
   {
    "duration": 20,
    "start_time": "2025-07-22T13:23:27.185Z"
   },
   {
    "duration": 1410,
    "start_time": "2025-07-22T13:23:27.207Z"
   },
   {
    "duration": 450,
    "start_time": "2025-07-22T13:23:28.620Z"
   },
   {
    "duration": 401,
    "start_time": "2025-07-22T13:23:29.072Z"
   },
   {
    "duration": 16,
    "start_time": "2025-07-22T13:23:29.475Z"
   },
   {
    "duration": 1423,
    "start_time": "2025-07-22T13:23:29.493Z"
   },
   {
    "duration": 342,
    "start_time": "2025-07-22T13:23:30.918Z"
   },
   {
    "duration": 27,
    "start_time": "2025-07-22T13:23:31.266Z"
   },
   {
    "duration": 144,
    "start_time": "2025-07-22T13:23:31.295Z"
   },
   {
    "duration": 266,
    "start_time": "2025-07-22T13:23:31.441Z"
   },
   {
    "duration": 137,
    "start_time": "2025-07-22T13:23:31.709Z"
   },
   {
    "duration": 19,
    "start_time": "2025-07-22T13:23:31.847Z"
   },
   {
    "duration": 246,
    "start_time": "2025-07-22T13:23:31.868Z"
   },
   {
    "duration": 231,
    "start_time": "2025-07-22T13:23:32.116Z"
   },
   {
    "duration": 111,
    "start_time": "2025-07-22T13:23:32.349Z"
   },
   {
    "duration": 389,
    "start_time": "2025-07-22T13:23:32.462Z"
   },
   {
    "duration": 5629,
    "start_time": "2025-07-22T13:23:32.861Z"
   },
   {
    "duration": 31,
    "start_time": "2025-07-22T13:23:38.492Z"
   },
   {
    "duration": 8808,
    "start_time": "2025-07-22T13:23:38.525Z"
   },
   {
    "duration": 25,
    "start_time": "2025-07-22T13:23:47.335Z"
   },
   {
    "duration": 263,
    "start_time": "2025-07-22T13:23:47.362Z"
   },
   {
    "duration": 222,
    "start_time": "2025-07-22T13:23:47.627Z"
   },
   {
    "duration": 215,
    "start_time": "2025-07-22T13:23:47.851Z"
   },
   {
    "duration": 41,
    "start_time": "2025-07-22T13:23:48.068Z"
   },
   {
    "duration": 205,
    "start_time": "2025-07-22T13:23:48.112Z"
   },
   {
    "duration": 145,
    "start_time": "2025-07-22T13:23:48.319Z"
   },
   {
    "duration": 63,
    "start_time": "2025-07-22T13:23:48.466Z"
   },
   {
    "duration": 320,
    "start_time": "2025-07-22T13:23:48.531Z"
   },
   {
    "duration": 215,
    "start_time": "2025-07-22T13:23:48.854Z"
   },
   {
    "duration": 200,
    "start_time": "2025-07-22T13:23:49.071Z"
   },
   {
    "duration": 168,
    "start_time": "2025-07-22T13:23:49.273Z"
   },
   {
    "duration": 75,
    "start_time": "2025-07-22T13:23:49.444Z"
   },
   {
    "duration": 282,
    "start_time": "2025-07-22T13:23:49.521Z"
   },
   {
    "duration": 77,
    "start_time": "2025-07-22T13:23:49.805Z"
   },
   {
    "duration": 218,
    "start_time": "2025-07-22T13:23:49.884Z"
   },
   {
    "duration": 66,
    "start_time": "2025-07-22T13:23:50.105Z"
   },
   {
    "duration": 28,
    "start_time": "2025-07-22T13:23:50.173Z"
   },
   {
    "duration": 17,
    "start_time": "2025-07-22T13:23:50.202Z"
   },
   {
    "duration": 41,
    "start_time": "2025-07-22T13:23:50.221Z"
   },
   {
    "duration": 124,
    "start_time": "2025-07-22T13:23:50.264Z"
   },
   {
    "duration": 35,
    "start_time": "2025-07-22T13:23:50.390Z"
   },
   {
    "duration": 8,
    "start_time": "2025-07-22T13:23:50.426Z"
   },
   {
    "duration": 35,
    "start_time": "2025-07-22T13:23:50.436Z"
   },
   {
    "duration": 459,
    "start_time": "2025-07-22T13:23:50.473Z"
   },
   {
    "duration": 6,
    "start_time": "2025-07-22T13:23:50.934Z"
   },
   {
    "duration": 1388,
    "start_time": "2025-07-22T14:27:16.945Z"
   },
   {
    "duration": 1013,
    "start_time": "2025-07-22T14:27:18.336Z"
   },
   {
    "duration": 19,
    "start_time": "2025-07-22T14:27:19.350Z"
   },
   {
    "duration": 117,
    "start_time": "2025-07-22T14:27:19.371Z"
   },
   {
    "duration": 12,
    "start_time": "2025-07-22T14:27:19.490Z"
   },
   {
    "duration": 21,
    "start_time": "2025-07-22T14:27:19.504Z"
   },
   {
    "duration": 15,
    "start_time": "2025-07-22T14:27:19.527Z"
   },
   {
    "duration": 30,
    "start_time": "2025-07-22T14:27:19.544Z"
   },
   {
    "duration": 468,
    "start_time": "2025-07-22T14:27:19.577Z"
   },
   {
    "duration": 238,
    "start_time": "2025-07-22T14:27:20.048Z"
   },
   {
    "duration": 118,
    "start_time": "2025-07-22T14:27:20.288Z"
   },
   {
    "duration": 31,
    "start_time": "2025-07-22T14:27:20.408Z"
   },
   {
    "duration": 50,
    "start_time": "2025-07-22T14:27:20.440Z"
   },
   {
    "duration": 6,
    "start_time": "2025-07-22T14:27:20.492Z"
   },
   {
    "duration": 188,
    "start_time": "2025-07-22T14:27:20.500Z"
   },
   {
    "duration": 535,
    "start_time": "2025-07-22T14:27:20.690Z"
   },
   {
    "duration": 217,
    "start_time": "2025-07-22T14:27:21.227Z"
   },
   {
    "duration": 343,
    "start_time": "2025-07-22T14:27:21.446Z"
   },
   {
    "duration": 3,
    "start_time": "2025-07-22T14:27:21.791Z"
   },
   {
    "duration": 73,
    "start_time": "2025-07-22T14:27:21.796Z"
   },
   {
    "duration": 18,
    "start_time": "2025-07-22T14:27:21.871Z"
   },
   {
    "duration": 1564,
    "start_time": "2025-07-22T14:27:21.891Z"
   },
   {
    "duration": 440,
    "start_time": "2025-07-22T14:27:23.460Z"
   },
   {
    "duration": 418,
    "start_time": "2025-07-22T14:27:23.902Z"
   },
   {
    "duration": 14,
    "start_time": "2025-07-22T14:27:24.322Z"
   },
   {
    "duration": 1471,
    "start_time": "2025-07-22T14:27:24.338Z"
   },
   {
    "duration": 350,
    "start_time": "2025-07-22T14:27:25.811Z"
   },
   {
    "duration": 28,
    "start_time": "2025-07-22T14:27:26.166Z"
   },
   {
    "duration": 9,
    "start_time": "2025-07-22T14:27:26.196Z"
   },
   {
    "duration": 264,
    "start_time": "2025-07-22T14:27:26.207Z"
   },
   {
    "duration": 128,
    "start_time": "2025-07-22T14:27:26.473Z"
   },
   {
    "duration": 11,
    "start_time": "2025-07-22T14:27:26.603Z"
   },
   {
    "duration": 280,
    "start_time": "2025-07-22T14:27:26.616Z"
   },
   {
    "duration": 236,
    "start_time": "2025-07-22T14:27:26.898Z"
   },
   {
    "duration": 104,
    "start_time": "2025-07-22T14:27:27.136Z"
   },
   {
    "duration": 378,
    "start_time": "2025-07-22T14:27:27.242Z"
   },
   {
    "duration": 5783,
    "start_time": "2025-07-22T14:27:27.622Z"
   },
   {
    "duration": 31,
    "start_time": "2025-07-22T14:27:33.407Z"
   },
   {
    "duration": 8811,
    "start_time": "2025-07-22T14:27:33.440Z"
   },
   {
    "duration": 10,
    "start_time": "2025-07-22T14:27:42.260Z"
   },
   {
    "duration": 228,
    "start_time": "2025-07-22T14:27:42.271Z"
   },
   {
    "duration": 201,
    "start_time": "2025-07-22T14:27:42.500Z"
   },
   {
    "duration": 208,
    "start_time": "2025-07-22T14:27:42.702Z"
   },
   {
    "duration": 50,
    "start_time": "2025-07-22T14:27:42.912Z"
   },
   {
    "duration": 181,
    "start_time": "2025-07-22T14:27:42.963Z"
   },
   {
    "duration": 148,
    "start_time": "2025-07-22T14:27:43.145Z"
   },
   {
    "duration": 69,
    "start_time": "2025-07-22T14:27:43.294Z"
   },
   {
    "duration": 299,
    "start_time": "2025-07-22T14:27:43.365Z"
   },
   {
    "duration": 191,
    "start_time": "2025-07-22T14:27:43.666Z"
   },
   {
    "duration": 203,
    "start_time": "2025-07-22T14:27:43.860Z"
   },
   {
    "duration": 165,
    "start_time": "2025-07-22T14:27:44.064Z"
   },
   {
    "duration": 78,
    "start_time": "2025-07-22T14:27:44.231Z"
   },
   {
    "duration": 289,
    "start_time": "2025-07-22T14:27:44.311Z"
   },
   {
    "duration": 73,
    "start_time": "2025-07-22T14:27:44.601Z"
   },
   {
    "duration": 227,
    "start_time": "2025-07-22T14:27:44.675Z"
   },
   {
    "duration": 66,
    "start_time": "2025-07-22T14:27:44.904Z"
   },
   {
    "duration": 29,
    "start_time": "2025-07-22T14:27:44.972Z"
   },
   {
    "duration": 98,
    "start_time": "2025-07-22T14:27:45.003Z"
   },
   {
    "duration": 115,
    "start_time": "2025-07-22T14:27:45.103Z"
   },
   {
    "duration": 57,
    "start_time": "2025-07-22T14:27:45.220Z"
   },
   {
    "duration": 36,
    "start_time": "2025-07-22T14:27:45.279Z"
   },
   {
    "duration": 9,
    "start_time": "2025-07-22T14:27:45.317Z"
   },
   {
    "duration": 33,
    "start_time": "2025-07-22T14:27:45.328Z"
   },
   {
    "duration": 512,
    "start_time": "2025-07-22T14:27:45.363Z"
   },
   {
    "duration": 8,
    "start_time": "2025-07-22T14:27:45.877Z"
   },
   {
    "duration": 1200,
    "start_time": "2025-07-22T14:29:03.310Z"
   },
   {
    "duration": 1011,
    "start_time": "2025-07-22T14:29:04.512Z"
   },
   {
    "duration": 19,
    "start_time": "2025-07-22T14:29:05.525Z"
   },
   {
    "duration": 211,
    "start_time": "2025-07-22T14:29:05.547Z"
   },
   {
    "duration": 24,
    "start_time": "2025-07-22T14:29:05.761Z"
   },
   {
    "duration": 29,
    "start_time": "2025-07-22T14:29:05.787Z"
   },
   {
    "duration": 9,
    "start_time": "2025-07-22T14:29:05.818Z"
   },
   {
    "duration": 44,
    "start_time": "2025-07-22T14:29:05.829Z"
   },
   {
    "duration": 320,
    "start_time": "2025-07-22T14:29:05.875Z"
   },
   {
    "duration": 219,
    "start_time": "2025-07-22T14:29:06.199Z"
   },
   {
    "duration": 125,
    "start_time": "2025-07-22T14:29:06.420Z"
   },
   {
    "duration": 31,
    "start_time": "2025-07-22T14:29:06.547Z"
   },
   {
    "duration": 82,
    "start_time": "2025-07-22T14:29:06.580Z"
   },
   {
    "duration": 7,
    "start_time": "2025-07-22T14:29:06.664Z"
   },
   {
    "duration": 194,
    "start_time": "2025-07-22T14:29:06.673Z"
   },
   {
    "duration": 492,
    "start_time": "2025-07-22T14:29:06.868Z"
   },
   {
    "duration": 217,
    "start_time": "2025-07-22T14:29:07.362Z"
   },
   {
    "duration": 347,
    "start_time": "2025-07-22T14:29:07.581Z"
   },
   {
    "duration": 4,
    "start_time": "2025-07-22T14:29:07.930Z"
   },
   {
    "duration": 146,
    "start_time": "2025-07-22T14:29:07.935Z"
   },
   {
    "duration": 19,
    "start_time": "2025-07-22T14:29:08.083Z"
   },
   {
    "duration": 1547,
    "start_time": "2025-07-22T14:29:08.104Z"
   },
   {
    "duration": 421,
    "start_time": "2025-07-22T14:29:09.661Z"
   },
   {
    "duration": 394,
    "start_time": "2025-07-22T14:29:10.084Z"
   },
   {
    "duration": 14,
    "start_time": "2025-07-22T14:29:10.480Z"
   },
   {
    "duration": 1404,
    "start_time": "2025-07-22T14:29:10.496Z"
   },
   {
    "duration": 340,
    "start_time": "2025-07-22T14:29:11.902Z"
   },
   {
    "duration": 32,
    "start_time": "2025-07-22T14:29:12.246Z"
   },
   {
    "duration": 10,
    "start_time": "2025-07-22T14:29:12.281Z"
   },
   {
    "duration": 262,
    "start_time": "2025-07-22T14:29:12.292Z"
   },
   {
    "duration": 137,
    "start_time": "2025-07-22T14:29:12.556Z"
   },
   {
    "duration": 9,
    "start_time": "2025-07-22T14:29:12.695Z"
   },
   {
    "duration": 254,
    "start_time": "2025-07-22T14:29:12.706Z"
   },
   {
    "duration": 232,
    "start_time": "2025-07-22T14:29:12.962Z"
   },
   {
    "duration": 109,
    "start_time": "2025-07-22T14:29:13.196Z"
   },
   {
    "duration": 375,
    "start_time": "2025-07-22T14:29:13.307Z"
   },
   {
    "duration": 5554,
    "start_time": "2025-07-22T14:29:13.683Z"
   },
   {
    "duration": 37,
    "start_time": "2025-07-22T14:29:19.240Z"
   },
   {
    "duration": 8582,
    "start_time": "2025-07-22T14:29:19.279Z"
   },
   {
    "duration": 10,
    "start_time": "2025-07-22T14:29:27.863Z"
   },
   {
    "duration": 236,
    "start_time": "2025-07-22T14:29:27.875Z"
   },
   {
    "duration": 210,
    "start_time": "2025-07-22T14:29:28.113Z"
   },
   {
    "duration": 228,
    "start_time": "2025-07-22T14:29:28.325Z"
   },
   {
    "duration": 38,
    "start_time": "2025-07-22T14:29:28.555Z"
   },
   {
    "duration": 202,
    "start_time": "2025-07-22T14:29:28.595Z"
   },
   {
    "duration": 137,
    "start_time": "2025-07-22T14:29:28.799Z"
   },
   {
    "duration": 85,
    "start_time": "2025-07-22T14:29:28.938Z"
   },
   {
    "duration": 312,
    "start_time": "2025-07-22T14:29:29.025Z"
   },
   {
    "duration": 194,
    "start_time": "2025-07-22T14:29:29.338Z"
   },
   {
    "duration": 212,
    "start_time": "2025-07-22T14:29:29.533Z"
   },
   {
    "duration": 169,
    "start_time": "2025-07-22T14:29:29.747Z"
   },
   {
    "duration": 77,
    "start_time": "2025-07-22T14:29:29.918Z"
   },
   {
    "duration": 341,
    "start_time": "2025-07-22T14:29:29.997Z"
   },
   {
    "duration": 69,
    "start_time": "2025-07-22T14:29:30.340Z"
   },
   {
    "duration": 234,
    "start_time": "2025-07-22T14:29:30.411Z"
   },
   {
    "duration": 59,
    "start_time": "2025-07-22T14:29:30.648Z"
   },
   {
    "duration": 29,
    "start_time": "2025-07-22T14:29:30.709Z"
   },
   {
    "duration": 17,
    "start_time": "2025-07-22T14:29:30.760Z"
   },
   {
    "duration": 47,
    "start_time": "2025-07-22T14:29:30.779Z"
   },
   {
    "duration": 47,
    "start_time": "2025-07-22T14:29:30.828Z"
   },
   {
    "duration": 35,
    "start_time": "2025-07-22T14:29:30.877Z"
   },
   {
    "duration": 8,
    "start_time": "2025-07-22T14:29:30.914Z"
   },
   {
    "duration": 44,
    "start_time": "2025-07-22T14:29:30.923Z"
   },
   {
    "duration": 477,
    "start_time": "2025-07-22T14:29:30.969Z"
   },
   {
    "duration": 12,
    "start_time": "2025-07-22T14:29:31.448Z"
   },
   {
    "duration": 1192,
    "start_time": "2025-07-22T14:56:44.770Z"
   },
   {
    "duration": 845,
    "start_time": "2025-07-22T14:56:45.964Z"
   },
   {
    "duration": 17,
    "start_time": "2025-07-22T14:56:46.810Z"
   },
   {
    "duration": 123,
    "start_time": "2025-07-22T14:56:46.828Z"
   },
   {
    "duration": 11,
    "start_time": "2025-07-22T14:56:46.953Z"
   },
   {
    "duration": 19,
    "start_time": "2025-07-22T14:56:46.965Z"
   },
   {
    "duration": 8,
    "start_time": "2025-07-22T14:56:46.985Z"
   },
   {
    "duration": 22,
    "start_time": "2025-07-22T14:56:46.994Z"
   },
   {
    "duration": 270,
    "start_time": "2025-07-22T14:56:47.018Z"
   },
   {
    "duration": 187,
    "start_time": "2025-07-22T14:56:47.290Z"
   },
   {
    "duration": 106,
    "start_time": "2025-07-22T14:56:47.479Z"
   },
   {
    "duration": 29,
    "start_time": "2025-07-22T14:56:47.587Z"
   },
   {
    "duration": 30,
    "start_time": "2025-07-22T14:56:47.618Z"
   },
   {
    "duration": 6,
    "start_time": "2025-07-22T14:56:47.663Z"
   },
   {
    "duration": 157,
    "start_time": "2025-07-22T14:56:47.671Z"
   },
   {
    "duration": 425,
    "start_time": "2025-07-22T14:56:47.829Z"
   },
   {
    "duration": 180,
    "start_time": "2025-07-22T14:56:48.255Z"
   },
   {
    "duration": 321,
    "start_time": "2025-07-22T14:56:48.436Z"
   },
   {
    "duration": 4,
    "start_time": "2025-07-22T14:56:48.762Z"
   },
   {
    "duration": 122,
    "start_time": "2025-07-22T14:56:48.767Z"
   },
   {
    "duration": 15,
    "start_time": "2025-07-22T14:56:48.891Z"
   },
   {
    "duration": 1388,
    "start_time": "2025-07-22T14:56:48.907Z"
   },
   {
    "duration": 356,
    "start_time": "2025-07-22T14:56:50.296Z"
   },
   {
    "duration": 335,
    "start_time": "2025-07-22T14:56:50.653Z"
   },
   {
    "duration": 12,
    "start_time": "2025-07-22T14:56:50.990Z"
   },
   {
    "duration": 1269,
    "start_time": "2025-07-22T14:56:51.004Z"
   },
   {
    "duration": 279,
    "start_time": "2025-07-22T14:56:52.274Z"
   },
   {
    "duration": 28,
    "start_time": "2025-07-22T14:56:52.554Z"
   },
   {
    "duration": 33,
    "start_time": "2025-07-22T14:56:52.583Z"
   },
   {
    "duration": 194,
    "start_time": "2025-07-22T14:56:52.618Z"
   },
   {
    "duration": 104,
    "start_time": "2025-07-22T14:56:52.813Z"
   },
   {
    "duration": 6,
    "start_time": "2025-07-22T14:56:52.919Z"
   },
   {
    "duration": 214,
    "start_time": "2025-07-22T14:56:52.927Z"
   },
   {
    "duration": 186,
    "start_time": "2025-07-22T14:56:53.143Z"
   },
   {
    "duration": 87,
    "start_time": "2025-07-22T14:56:53.331Z"
   },
   {
    "duration": 332,
    "start_time": "2025-07-22T14:56:53.420Z"
   },
   {
    "duration": 5000,
    "start_time": "2025-07-22T14:56:53.754Z"
   },
   {
    "duration": 30,
    "start_time": "2025-07-22T14:56:58.756Z"
   },
   {
    "duration": 7703,
    "start_time": "2025-07-22T14:56:58.787Z"
   },
   {
    "duration": 8,
    "start_time": "2025-07-22T14:57:06.491Z"
   },
   {
    "duration": 204,
    "start_time": "2025-07-22T14:57:06.503Z"
   },
   {
    "duration": 181,
    "start_time": "2025-07-22T14:57:06.708Z"
   },
   {
    "duration": 191,
    "start_time": "2025-07-22T14:57:06.891Z"
   },
   {
    "duration": 35,
    "start_time": "2025-07-22T14:57:07.084Z"
   },
   {
    "duration": 168,
    "start_time": "2025-07-22T14:57:07.121Z"
   },
   {
    "duration": 128,
    "start_time": "2025-07-22T14:57:07.291Z"
   },
   {
    "duration": 61,
    "start_time": "2025-07-22T14:57:07.421Z"
   },
   {
    "duration": 257,
    "start_time": "2025-07-22T14:57:07.484Z"
   },
   {
    "duration": 162,
    "start_time": "2025-07-22T14:57:07.742Z"
   },
   {
    "duration": 200,
    "start_time": "2025-07-22T14:57:07.907Z"
   },
   {
    "duration": 143,
    "start_time": "2025-07-22T14:57:08.108Z"
   },
   {
    "duration": 63,
    "start_time": "2025-07-22T14:57:08.252Z"
   },
   {
    "duration": 245,
    "start_time": "2025-07-22T14:57:08.317Z"
   },
   {
    "duration": 49,
    "start_time": "2025-07-22T14:57:08.563Z"
   },
   {
    "duration": 201,
    "start_time": "2025-07-22T14:57:08.613Z"
   },
   {
    "duration": 54,
    "start_time": "2025-07-22T14:57:08.816Z"
   },
   {
    "duration": 25,
    "start_time": "2025-07-22T14:57:08.871Z"
   },
   {
    "duration": 68,
    "start_time": "2025-07-22T14:57:08.897Z"
   },
   {
    "duration": 22,
    "start_time": "2025-07-22T14:57:08.967Z"
   },
   {
    "duration": 28,
    "start_time": "2025-07-22T14:57:08.990Z"
   },
   {
    "duration": 46,
    "start_time": "2025-07-22T14:57:09.020Z"
   },
   {
    "duration": 7,
    "start_time": "2025-07-22T14:57:09.067Z"
   },
   {
    "duration": 18,
    "start_time": "2025-07-22T14:57:09.075Z"
   },
   {
    "duration": 502,
    "start_time": "2025-07-22T14:57:09.094Z"
   },
   {
    "duration": 7,
    "start_time": "2025-07-22T14:57:09.597Z"
   }
  ],
  "kernelspec": {
   "display_name": "Python 3",
   "language": "python",
   "name": "python3"
  },
  "language_info": {
   "codemirror_mode": {
    "name": "ipython",
    "version": 3
   },
   "file_extension": ".py",
   "mimetype": "text/x-python",
   "name": "python",
   "nbconvert_exporter": "python",
   "pygments_lexer": "ipython3",
   "version": "3.11.9"
  },
  "toc": {
   "base_numbering": 1,
   "nav_menu": {},
   "number_sections": true,
   "sideBar": true,
   "skip_h1_title": true,
   "title_cell": "Table of Contents",
   "title_sidebar": "Contents",
   "toc_cell": false,
   "toc_position": {},
   "toc_section_display": true,
   "toc_window_display": true
  }
 },
 "nbformat": 4,
 "nbformat_minor": 5
}
